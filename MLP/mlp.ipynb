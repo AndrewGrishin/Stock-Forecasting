{
 "cells": [
  {
   "cell_type": "code",
   "execution_count": 1,
   "metadata": {
    "collapsed": false
   },
   "outputs": [],
   "source": [
    "import torch\n",
    "from torch import nn, optim\n",
    "from Functions.SSA import SSA\n",
    "\n",
    "import os\n",
    "import arch\n",
    "import pandas as pd\n",
    "from sklearn.model_selection import train_test_split\n",
    "from tqdm.notebook import tqdm\n",
    "import numpy as np\n",
    "\n",
    "import matplotlib.pyplot as plt\n",
    "\n",
    "# воспроизводимость\n",
    "torch.manual_seed(42)\n",
    "torch.backends.cudnn.deterministic = True\n",
    "np.random.seed(42)\n",
    "import random\n",
    "random.seed(42)\n",
    "torch.backends.cudnn.benchmark = False\n",
    "torch.backends.cudnn.enabled = False"
   ]
  },
  {
   "cell_type": "code",
   "execution_count": 2,
   "metadata": {
    "collapsed": false
   },
   "outputs": [],
   "source": [
    "def wape(y, y_hat):\n",
    "    return np.sum(np.abs(y - y_hat)) / np.sum(np.abs(y)) * 100\n",
    "\n",
    "def mape(y, y_hat, eps= 1e-7):\n",
    "    return np.mean(np.abs((y - y_hat) / (y + eps))) * 100\n",
    "\n",
    "def series_to_X_y(series, windows_size= 30):\n",
    "    X = []\n",
    "    y = []\n",
    "\n",
    "    for i in range(len(series) - windows_size):\n",
    "        row = series[i:i + windows_size]\n",
    "        X.append(row)\n",
    "        column = [series[i + windows_size]]\n",
    "        y.append(column)\n",
    "\n",
    "    return np.asmatrix(X), np.asarray(y)\n",
    "\n",
    "class MLP(nn.Module):\n",
    "    def __init__(self, neurons, use_dropout= False, use_batchnorm= False):\n",
    "        super(MLP, self).__init__()\n",
    "\n",
    "        layers = []\n",
    "        for i in range(1, len(neurons)):\n",
    "            if use_batchnorm:\n",
    "                layers.append(nn.BatchNorm1d(neurons[i - 1]))\n",
    "            layers.append(nn.Linear(in_features= neurons[i - 1], out_features= neurons[i]))\n",
    "            layers.append(nn.ReLU())\n",
    "            if use_dropout:\n",
    "                layers.append(nn.Dropout(0.2))\n",
    "\n",
    "        self.fc = nn.Sequential(*(layers[:-2] if use_dropout else layers[:-1]))\n",
    "\n",
    "    def forward(self, X):\n",
    "        return self.fc(X)\n",
    "\n",
    "def get_wapes(path, country, prices_not_returns, windows_size, output_size, neurons, metrics, use_dropout, use_batchnorm, epochs, val_size, test_size, device, use_denoising, use_error_modeling):\n",
    "\n",
    "    neurons = [windows_size, *neurons, output_size]\n",
    "\n",
    "    result_dict = dict()\n",
    "\n",
    "    entries = os.listdir(path)\n",
    "    entries.remove(\".DS_Store\")\n",
    "\n",
    "    pbar_company = tqdm(entries)\n",
    "    for file in pbar_company:\n",
    "        pbar_company.set_description(f\"{country}: Epoch\")\n",
    "        df = pd.read_csv(path + file if path[-1] == r\"/\" else path + r\"/\" + file).dropna()\n",
    "        series = np.array(df.Open) if prices_not_returns else np.array(df.Open.pct_change())[1:]\n",
    "        series_initial = series[:]\n",
    "\n",
    "        if use_denoising:\n",
    "            _, series = SSA.multiple_stage_denoising(series, max_iter= 50)\n",
    "\n",
    "        X, _ = series_to_X_y(series, windows_size)\n",
    "        _, y = series_to_X_y(series_initial, windows_size)\n",
    "\n",
    "        X = torch.from_numpy(X).to(device).to(torch.float32)\n",
    "        y = torch.from_numpy(y).to(device).to(torch.float32)\n",
    "\n",
    "        X_train, X_test, y_train, y_test = train_test_split(X, y, test_size= test_size, shuffle= False)\n",
    "        # X_train_initial, X_test_initial, y_train_initial, y_test_initial = train_test_split(X_initial, y_initial, test_size= test_size, shuffle= False)\n",
    "        X_train, X_val, y_train, y_val = train_test_split(X_train, y_train, test_size= val_size, shuffle= False)\n",
    "\n",
    "        X_train = X_train.to(device)\n",
    "        X_val = X_val.to(device)\n",
    "        X_test = X_test.to(device)\n",
    "\n",
    "        y_train = y_train.to(device)\n",
    "        y_val = y_val.to(device)\n",
    "        y_test = y_test.to(device)\n",
    "\n",
    "        model = MLP(neurons, use_dropout= use_dropout, use_batchnorm= use_batchnorm).to(device)\n",
    "        criterion = nn.MSELoss()\n",
    "        optimizer = optim.LBFGS(model.parameters())\n",
    "\n",
    "        best_model = None\n",
    "        best_val_loss = torch.inf\n",
    "\n",
    "        pbar_train = tqdm(range(epochs), desc= \"Epoch\")\n",
    "        for epoch in pbar_train:\n",
    "            def closure():\n",
    "                model.train()\n",
    "                optimizer.zero_grad()\n",
    "\n",
    "                train_pred = model(X_train)\n",
    "\n",
    "                global train_loss\n",
    "                train_loss = criterion(y_train, train_pred)\n",
    "\n",
    "                train_loss.backward()\n",
    "                return train_loss\n",
    "\n",
    "            optimizer.step(closure)\n",
    "\n",
    "            model.eval()\n",
    "            with torch.inference_mode():\n",
    "                val_preds = model(X_val)\n",
    "                val_loss = criterion(y_val, val_preds)\n",
    "\n",
    "            if val_loss.item() < best_val_loss:\n",
    "                best_val_loss = val_loss.item()\n",
    "                best_model = model.state_dict()\n",
    "                torch.save(best_model, \"best_model.pt\")\n",
    "\n",
    "            pbar_train.set_description(f\"{file[:-14]}: Epoch: {epoch + 1}/{epochs}. Train loss: {train_loss.item():.5f} Val loss: {val_loss.item():.5f}\")\n",
    "\n",
    "        model = MLP(neurons, use_dropout= use_dropout, use_batchnorm= use_batchnorm).to(device)\n",
    "        model.load_state_dict(torch.load(\"best_model.pt\"))\n",
    "        model.eval()\n",
    "\n",
    "        # train_residuals = None\n",
    "        # test_resudials = None\n",
    "        #\n",
    "        # with torch.inference_mode():\n",
    "        #     train_preds = model(torch.concat([X_train, X_val], dim= 0)).detach().cpu().numpy()\n",
    "        #     test_preds = model(X_test).detach().cpu().numpy()\n",
    "        #\n",
    "        #     train_residuals = y_train_initial - train_preds\n",
    "        #     test_residuals = y_test_initial - test_preds\n",
    "        #\n",
    "        #\n",
    "        # print(train_residuals.shape, X_train_initial.shape, train_preds.shape)\n",
    "        # arch_model = arch.arch_model(train_residuals, mean= \"constant\", vol= \"FIGARCH\", p= 0, q= 1, dist= \"normal\")\n",
    "        # arch_model_fitted = arch_model.fit()\n",
    "        # # forecast =\n",
    "        # print(arch_model_fitted.summary())\n",
    "        #\n",
    "        #\n",
    "        #\n",
    "        # break\n",
    "        #\n",
    "        # if use_error_modeling:\n",
    "        #     plt.plot(residuals)\n",
    "        #     plt.show()\n",
    "\n",
    "        with torch.inference_mode():\n",
    "            y_hat = model(X_test).detach().cpu().numpy()\n",
    "            y_test = y_test.detach().cpu().numpy()\n",
    "            metrics_val = metrics(y_test, y_hat)\n",
    "\n",
    "\n",
    "        # break\n",
    "\n",
    "        result_dict[file[:-14]] = metrics_val\n",
    "\n",
    "        print(f\"{file[:-14]}: Test error: {result_dict[file[:-14]]:.2f}%\")\n",
    "        os.remove(\"best_model.pt\")\n",
    "\n",
    "\n",
    "    return result_dict\n"
   ]
  },
  {
   "cell_type": "code",
   "execution_count": 3,
   "metadata": {
    "collapsed": false
   },
   "outputs": [],
   "source": [
    "params_us_prices = {\n",
    "    \"path\": \"../Data/American Companies\",\n",
    "    \"country\": \"US\",\n",
    "    \"prices_not_returns\": True,\n",
    "\n",
    "    \"windows_size\": 100,\n",
    "    \"output_size\": 1,\n",
    "    \"neurons\": [6],\n",
    "\n",
    "    \"metrics\": wape,\n",
    "\n",
    "    \"use_dropout\": False,\n",
    "    \"use_batchnorm\": False,\n",
    "\n",
    "    \"epochs\": 60,\n",
    "    \"val_size\": 0.2,\n",
    "    \"test_size\": 0.1,\n",
    "    \"device\": \"cuda\" if torch.cuda.is_available() else \"cpu\",\n",
    "    \"use_denoising\": True,\n",
    "    \"use_error_modeling\": True\n",
    "}\n",
    "\n",
    "params_us_returns = {\n",
    "    \"path\": \"../Data/American Companies\",\n",
    "    \"country\": \"US\",\n",
    "    \"prices_not_returns\": False,\n",
    "\n",
    "    \"windows_size\": 100,\n",
    "    \"output_size\": 1,\n",
    "    \"neurons\": [6],\n",
    "\n",
    "    \"metrics\": wape,\n",
    "\n",
    "    \"use_dropout\": False,\n",
    "    \"use_batchnorm\": False,\n",
    "\n",
    "    \"epochs\": 60,\n",
    "    \"val_size\": 0.2,\n",
    "    \"test_size\": 0.1,\n",
    "    \"device\": \"cuda\" if torch.cuda.is_available() else \"cpu\",\n",
    "    \"use_denoising\": True,\n",
    "    \"use_error_modeling\": True\n",
    "}\n",
    "\n",
    "params_ch_prices = {\n",
    "    \"path\": \"../Data/Chinese Companies\",\n",
    "    \"country\": \"CH\",\n",
    "    \"prices_not_returns\": True,\n",
    "\n",
    "    \"windows_size\": 100,\n",
    "    \"output_size\": 1,\n",
    "    \"neurons\": [6],\n",
    "\n",
    "    \"metrics\": wape,\n",
    "\n",
    "    \"use_dropout\": False,\n",
    "    \"use_batchnorm\": False,\n",
    "\n",
    "    \"epochs\": 60,\n",
    "    \"val_size\": 0.2,\n",
    "    \"test_size\": 0.1,\n",
    "    \"device\": \"cuda\" if torch.cuda.is_available() else \"cpu\",\n",
    "    \"use_denoising\": True,\n",
    "    \"use_error_modeling\": True\n",
    "}\n",
    "\n",
    "params_ch_returns = {\n",
    "    \"path\": \"../Data/Chinese Companies\",\n",
    "    \"country\": \"CH\",\n",
    "    \"prices_not_returns\": False,\n",
    "\n",
    "    \"windows_size\": 100,\n",
    "    \"output_size\": 1,\n",
    "    \"neurons\": [6],\n",
    "\n",
    "    \"metrics\": wape,\n",
    "\n",
    "    \"use_dropout\": False,\n",
    "    \"use_batchnorm\": False,\n",
    "\n",
    "    \"epochs\": 60,\n",
    "    \"val_size\": 0.2,\n",
    "    \"test_size\": 0.1,\n",
    "    \"device\": \"cuda\" if torch.cuda.is_available() else \"cpu\",\n",
    "    \"use_denoising\": True,\n",
    "    \"use_error_modeling\": True\n",
    "}"
   ]
  },
  {
   "cell_type": "code",
   "execution_count": null,
   "metadata": {
    "collapsed": false,
    "pycharm": {
     "is_executing": true
    }
   },
   "outputs": [],
   "source": [
    "result_dict_prices_us = get_wapes(**params_us_prices)"
   ]
  },
  {
   "cell_type": "code",
   "execution_count": 15,
   "metadata": {
    "collapsed": false
   },
   "outputs": [
    {
     "data": {
      "text/plain": [
       "{'AMZN': 0.9444243274629116,\n",
       " 'MSFT': 0.9202255867421627,\n",
       " 'GM': 0.9673252701759338,\n",
       " 'UBER': 1.8104953691363335,\n",
       " 'Coca Cola': 0.7999161258339882,\n",
       " 'EBAY': 0.9316788055002689,\n",
       " 'DIS': 0.5630054976791143,\n",
       " 'FORD': 1.0555028915405273,\n",
       " 'NFLX': 0.7649381645023823,\n",
       " 'NKE': 0.7966938428580761,\n",
       " 'GE': 1.1473819613456726,\n",
       " 'WMT': 0.5874163471162319,\n",
       " 'INTC': 0.6662479601800442,\n",
       " 'GOOG': 0.8493444882333279,\n",
       " 'AAPL': 1.0934440419077873}"
      ]
     },
     "execution_count": 14,
     "metadata": {},
     "output_type": "execute_result"
    }
   ],
   "source": [
    "result_dict_prices_us"
   ]
  },
  {
   "cell_type": "code",
   "execution_count": 16,
   "metadata": {
    "collapsed": false
   },
   "outputs": [
    {
     "data": {
      "application/vnd.jupyter.widget-view+json": {
       "model_id": "819eb1f517f042e1a6f8c7537714ed78",
       "version_major": 2,
       "version_minor": 0
      },
      "text/plain": [
       "  0%|          | 0/15 [00:00<?, ?it/s]"
      ]
     },
     "metadata": {},
     "output_type": "display_data"
    },
    {
     "data": {
      "application/vnd.jupyter.widget-view+json": {
       "model_id": "d057063165d04dce9f173645ff8d33a2",
       "version_major": 2,
       "version_minor": 0
      },
      "text/plain": [
       "Dividing loop:   0%|          | 0/50 [00:00<?, ?it/s]"
      ]
     },
     "metadata": {},
     "output_type": "display_data"
    },
    {
     "data": {
      "application/vnd.jupyter.widget-view+json": {
       "model_id": "ba058bc83ade4a21a5e97e16cb9b50b4",
       "version_major": 2,
       "version_minor": 0
      },
      "text/plain": [
       "Epoch:   0%|          | 0/60 [00:00<?, ?it/s]"
      ]
     },
     "metadata": {},
     "output_type": "display_data"
    },
    {
     "name": "stdout",
     "output_type": "stream",
     "text": [
      "AMZN: Test error: 95.01%\n"
     ]
    },
    {
     "data": {
      "application/vnd.jupyter.widget-view+json": {
       "model_id": "590ee3f2d1984dde8294b33f11509b6b",
       "version_major": 2,
       "version_minor": 0
      },
      "text/plain": [
       "Dividing loop:   0%|          | 0/50 [00:00<?, ?it/s]"
      ]
     },
     "metadata": {},
     "output_type": "display_data"
    },
    {
     "data": {
      "application/vnd.jupyter.widget-view+json": {
       "model_id": "2cf1504a84884cfca4cd673a0ef3a38f",
       "version_major": 2,
       "version_minor": 0
      },
      "text/plain": [
       "Epoch:   0%|          | 0/60 [00:00<?, ?it/s]"
      ]
     },
     "metadata": {},
     "output_type": "display_data"
    },
    {
     "name": "stdout",
     "output_type": "stream",
     "text": [
      "MSFT: Test error: 99.96%\n"
     ]
    },
    {
     "data": {
      "application/vnd.jupyter.widget-view+json": {
       "model_id": "6cb63f8c35134e3d8ad5f2b7a620614a",
       "version_major": 2,
       "version_minor": 0
      },
      "text/plain": [
       "Dividing loop:   0%|          | 0/50 [00:00<?, ?it/s]"
      ]
     },
     "metadata": {},
     "output_type": "display_data"
    },
    {
     "data": {
      "application/vnd.jupyter.widget-view+json": {
       "model_id": "3a7b2d85dbfd4a24a1fcda8dd5a0840a",
       "version_major": 2,
       "version_minor": 0
      },
      "text/plain": [
       "Epoch:   0%|          | 0/60 [00:00<?, ?it/s]"
      ]
     },
     "metadata": {},
     "output_type": "display_data"
    },
    {
     "name": "stdout",
     "output_type": "stream",
     "text": [
      "GM: Test error: 100.92%\n"
     ]
    },
    {
     "data": {
      "application/vnd.jupyter.widget-view+json": {
       "model_id": "36f8208d67274e84bb741a919f0923e9",
       "version_major": 2,
       "version_minor": 0
      },
      "text/plain": [
       "Dividing loop:   0%|          | 0/50 [00:00<?, ?it/s]"
      ]
     },
     "metadata": {},
     "output_type": "display_data"
    },
    {
     "data": {
      "application/vnd.jupyter.widget-view+json": {
       "model_id": "193648a82277493f9e2dc31808632b20",
       "version_major": 2,
       "version_minor": 0
      },
      "text/plain": [
       "Epoch:   0%|          | 0/60 [00:00<?, ?it/s]"
      ]
     },
     "metadata": {},
     "output_type": "display_data"
    },
    {
     "name": "stdout",
     "output_type": "stream",
     "text": [
      "UBER: Test error: 97.99%\n"
     ]
    },
    {
     "data": {
      "application/vnd.jupyter.widget-view+json": {
       "model_id": "cc57f3e1ce7a4c16846675fdd80cff18",
       "version_major": 2,
       "version_minor": 0
      },
      "text/plain": [
       "Dividing loop:   0%|          | 0/50 [00:00<?, ?it/s]"
      ]
     },
     "metadata": {},
     "output_type": "display_data"
    },
    {
     "data": {
      "application/vnd.jupyter.widget-view+json": {
       "model_id": "b227ecd9fb2e40219e857304318863ed",
       "version_major": 2,
       "version_minor": 0
      },
      "text/plain": [
       "Epoch:   0%|          | 0/60 [00:00<?, ?it/s]"
      ]
     },
     "metadata": {},
     "output_type": "display_data"
    },
    {
     "name": "stdout",
     "output_type": "stream",
     "text": [
      "Coca Cola: Test error: 99.80%\n"
     ]
    },
    {
     "data": {
      "application/vnd.jupyter.widget-view+json": {
       "model_id": "04d78c5a6fc64110896be79e766191ef",
       "version_major": 2,
       "version_minor": 0
      },
      "text/plain": [
       "Dividing loop:   0%|          | 0/50 [00:00<?, ?it/s]"
      ]
     },
     "metadata": {},
     "output_type": "display_data"
    },
    {
     "data": {
      "application/vnd.jupyter.widget-view+json": {
       "model_id": "4a094bde9abe473fb4bc459c219c30cd",
       "version_major": 2,
       "version_minor": 0
      },
      "text/plain": [
       "Epoch:   0%|          | 0/60 [00:00<?, ?it/s]"
      ]
     },
     "metadata": {},
     "output_type": "display_data"
    },
    {
     "name": "stdout",
     "output_type": "stream",
     "text": [
      "EBAY: Test error: 91.26%\n"
     ]
    },
    {
     "data": {
      "application/vnd.jupyter.widget-view+json": {
       "model_id": "68e41464a53248eaa239a0e14d6e87e8",
       "version_major": 2,
       "version_minor": 0
      },
      "text/plain": [
       "Dividing loop:   0%|          | 0/50 [00:00<?, ?it/s]"
      ]
     },
     "metadata": {},
     "output_type": "display_data"
    },
    {
     "data": {
      "application/vnd.jupyter.widget-view+json": {
       "model_id": "9001a159647848599bf86f56096d3d26",
       "version_major": 2,
       "version_minor": 0
      },
      "text/plain": [
       "Epoch:   0%|          | 0/60 [00:00<?, ?it/s]"
      ]
     },
     "metadata": {},
     "output_type": "display_data"
    },
    {
     "name": "stdout",
     "output_type": "stream",
     "text": [
      "DIS: Test error: 95.92%\n"
     ]
    },
    {
     "data": {
      "application/vnd.jupyter.widget-view+json": {
       "model_id": "f950d9bef0f54a1c96ebc6890d938acd",
       "version_major": 2,
       "version_minor": 0
      },
      "text/plain": [
       "Dividing loop:   0%|          | 0/50 [00:00<?, ?it/s]"
      ]
     },
     "metadata": {},
     "output_type": "display_data"
    },
    {
     "data": {
      "application/vnd.jupyter.widget-view+json": {
       "model_id": "bd4ad160ab654c43a1fbdf5829dde43f",
       "version_major": 2,
       "version_minor": 0
      },
      "text/plain": [
       "Epoch:   0%|          | 0/60 [00:00<?, ?it/s]"
      ]
     },
     "metadata": {},
     "output_type": "display_data"
    },
    {
     "name": "stdout",
     "output_type": "stream",
     "text": [
      "FORD: Test error: 96.08%\n"
     ]
    },
    {
     "data": {
      "application/vnd.jupyter.widget-view+json": {
       "model_id": "5e3fdc5077b34fb78e0a3f16b8b0f8c6",
       "version_major": 2,
       "version_minor": 0
      },
      "text/plain": [
       "Dividing loop:   0%|          | 0/50 [00:00<?, ?it/s]"
      ]
     },
     "metadata": {},
     "output_type": "display_data"
    },
    {
     "data": {
      "application/vnd.jupyter.widget-view+json": {
       "model_id": "332e2865bcac4b6f99da97dddd6636f2",
       "version_major": 2,
       "version_minor": 0
      },
      "text/plain": [
       "Epoch:   0%|          | 0/60 [00:00<?, ?it/s]"
      ]
     },
     "metadata": {},
     "output_type": "display_data"
    },
    {
     "name": "stdout",
     "output_type": "stream",
     "text": [
      "NFLX: Test error: 96.55%\n"
     ]
    },
    {
     "data": {
      "application/vnd.jupyter.widget-view+json": {
       "model_id": "e3bad1f39e794339a159b3c211e9ead2",
       "version_major": 2,
       "version_minor": 0
      },
      "text/plain": [
       "Dividing loop:   0%|          | 0/50 [00:00<?, ?it/s]"
      ]
     },
     "metadata": {},
     "output_type": "display_data"
    },
    {
     "data": {
      "application/vnd.jupyter.widget-view+json": {
       "model_id": "bd909cee95144d2cafb9d298472beca3",
       "version_major": 2,
       "version_minor": 0
      },
      "text/plain": [
       "Epoch:   0%|          | 0/60 [00:00<?, ?it/s]"
      ]
     },
     "metadata": {},
     "output_type": "display_data"
    },
    {
     "name": "stdout",
     "output_type": "stream",
     "text": [
      "NKE: Test error: 96.67%\n"
     ]
    },
    {
     "data": {
      "application/vnd.jupyter.widget-view+json": {
       "model_id": "cd44487614a94837bf617612535b8ef8",
       "version_major": 2,
       "version_minor": 0
      },
      "text/plain": [
       "Dividing loop:   0%|          | 0/50 [00:00<?, ?it/s]"
      ]
     },
     "metadata": {},
     "output_type": "display_data"
    },
    {
     "data": {
      "application/vnd.jupyter.widget-view+json": {
       "model_id": "2633578dca98466cbb9706cfd187e1f8",
       "version_major": 2,
       "version_minor": 0
      },
      "text/plain": [
       "Epoch:   0%|          | 0/60 [00:00<?, ?it/s]"
      ]
     },
     "metadata": {},
     "output_type": "display_data"
    },
    {
     "name": "stdout",
     "output_type": "stream",
     "text": [
      "GE: Test error: 100.53%\n"
     ]
    },
    {
     "data": {
      "application/vnd.jupyter.widget-view+json": {
       "model_id": "bbffbedbb8c444dab16c3dc0d4fb8e77",
       "version_major": 2,
       "version_minor": 0
      },
      "text/plain": [
       "Dividing loop:   0%|          | 0/50 [00:00<?, ?it/s]"
      ]
     },
     "metadata": {},
     "output_type": "display_data"
    },
    {
     "data": {
      "application/vnd.jupyter.widget-view+json": {
       "model_id": "c8117a7d289349d1be365f1275a93d96",
       "version_major": 2,
       "version_minor": 0
      },
      "text/plain": [
       "Epoch:   0%|          | 0/60 [00:00<?, ?it/s]"
      ]
     },
     "metadata": {},
     "output_type": "display_data"
    },
    {
     "name": "stdout",
     "output_type": "stream",
     "text": [
      "WMT: Test error: 100.20%\n"
     ]
    },
    {
     "data": {
      "application/vnd.jupyter.widget-view+json": {
       "model_id": "b4e3bbfc739543458ad66c49e6cce621",
       "version_major": 2,
       "version_minor": 0
      },
      "text/plain": [
       "Dividing loop:   0%|          | 0/50 [00:00<?, ?it/s]"
      ]
     },
     "metadata": {},
     "output_type": "display_data"
    },
    {
     "data": {
      "application/vnd.jupyter.widget-view+json": {
       "model_id": "bb61b023129544338b759a03b7ef9411",
       "version_major": 2,
       "version_minor": 0
      },
      "text/plain": [
       "Epoch:   0%|          | 0/60 [00:00<?, ?it/s]"
      ]
     },
     "metadata": {},
     "output_type": "display_data"
    },
    {
     "name": "stdout",
     "output_type": "stream",
     "text": [
      "INTC: Test error: 93.04%\n"
     ]
    },
    {
     "data": {
      "application/vnd.jupyter.widget-view+json": {
       "model_id": "051079df60754354a2d9b307027e0cd7",
       "version_major": 2,
       "version_minor": 0
      },
      "text/plain": [
       "Dividing loop:   0%|          | 0/50 [00:00<?, ?it/s]"
      ]
     },
     "metadata": {},
     "output_type": "display_data"
    },
    {
     "data": {
      "application/vnd.jupyter.widget-view+json": {
       "model_id": "e0ccc27867af4d53b6f940220f6c02d4",
       "version_major": 2,
       "version_minor": 0
      },
      "text/plain": [
       "Epoch:   0%|          | 0/60 [00:00<?, ?it/s]"
      ]
     },
     "metadata": {},
     "output_type": "display_data"
    },
    {
     "name": "stdout",
     "output_type": "stream",
     "text": [
      "GOOG: Test error: 93.75%\n"
     ]
    },
    {
     "data": {
      "application/vnd.jupyter.widget-view+json": {
       "model_id": "203f2afdfe814ae79957896dd2587968",
       "version_major": 2,
       "version_minor": 0
      },
      "text/plain": [
       "Dividing loop:   0%|          | 0/50 [00:00<?, ?it/s]"
      ]
     },
     "metadata": {},
     "output_type": "display_data"
    },
    {
     "data": {
      "application/vnd.jupyter.widget-view+json": {
       "model_id": "c825fc243b6642c99d952ad3ddd57285",
       "version_major": 2,
       "version_minor": 0
      },
      "text/plain": [
       "Epoch:   0%|          | 0/60 [00:00<?, ?it/s]"
      ]
     },
     "metadata": {},
     "output_type": "display_data"
    },
    {
     "name": "stdout",
     "output_type": "stream",
     "text": [
      "AAPL: Test error: 94.38%\n"
     ]
    }
   ],
   "source": [
    "result_dict_returns_us = get_wapes(**params_us_returns)"
   ]
  },
  {
   "cell_type": "code",
   "execution_count": 17,
   "metadata": {
    "collapsed": false
   },
   "outputs": [
    {
     "data": {
      "application/vnd.jupyter.widget-view+json": {
       "model_id": "ee14785c5dd54facb5d4dfb791fca947",
       "version_major": 2,
       "version_minor": 0
      },
      "text/plain": [
       "  0%|          | 0/15 [00:00<?, ?it/s]"
      ]
     },
     "metadata": {},
     "output_type": "display_data"
    },
    {
     "data": {
      "application/vnd.jupyter.widget-view+json": {
       "model_id": "aff8a7cad6004ed68c8d9eac6562ffeb",
       "version_major": 2,
       "version_minor": 0
      },
      "text/plain": [
       "Dividing loop:   0%|          | 0/50 [00:00<?, ?it/s]"
      ]
     },
     "metadata": {},
     "output_type": "display_data"
    },
    {
     "data": {
      "application/vnd.jupyter.widget-view+json": {
       "model_id": "b70225937095464aa648c0b2260a93fb",
       "version_major": 2,
       "version_minor": 0
      },
      "text/plain": [
       "Epoch:   0%|          | 0/60 [00:00<?, ?it/s]"
      ]
     },
     "metadata": {},
     "output_type": "display_data"
    },
    {
     "name": "stdout",
     "output_type": "stream",
     "text": [
      "China Shenhua: Test error: 1.28%\n"
     ]
    },
    {
     "data": {
      "application/vnd.jupyter.widget-view+json": {
       "model_id": "e11b6499f1c049ffad9a3999d8d32ea0",
       "version_major": 2,
       "version_minor": 0
      },
      "text/plain": [
       "Dividing loop:   0%|          | 0/50 [00:00<?, ?it/s]"
      ]
     },
     "metadata": {},
     "output_type": "display_data"
    },
    {
     "data": {
      "application/vnd.jupyter.widget-view+json": {
       "model_id": "96680db6cb92468db1b65b3292b36ef5",
       "version_major": 2,
       "version_minor": 0
      },
      "text/plain": [
       "Epoch:   0%|          | 0/60 [00:00<?, ?it/s]"
      ]
     },
     "metadata": {},
     "output_type": "display_data"
    },
    {
     "name": "stdout",
     "output_type": "stream",
     "text": [
      "Agricultural Bank of China: Test error: 0.24%\n"
     ]
    },
    {
     "data": {
      "application/vnd.jupyter.widget-view+json": {
       "model_id": "3b8d5b003d1a41b6996487e65a8116ed",
       "version_major": 2,
       "version_minor": 0
      },
      "text/plain": [
       "Dividing loop:   0%|          | 0/50 [00:00<?, ?it/s]"
      ]
     },
     "metadata": {},
     "output_type": "display_data"
    },
    {
     "data": {
      "application/vnd.jupyter.widget-view+json": {
       "model_id": "cc6d362d19b246d18a17d5efd7483bb1",
       "version_major": 2,
       "version_minor": 0
      },
      "text/plain": [
       "Epoch:   0%|          | 0/60 [00:00<?, ?it/s]"
      ]
     },
     "metadata": {},
     "output_type": "display_data"
    },
    {
     "name": "stdout",
     "output_type": "stream",
     "text": [
      "Wanhua Chemical Group: Test error: 1.12%\n"
     ]
    },
    {
     "data": {
      "application/vnd.jupyter.widget-view+json": {
       "model_id": "b486d83a70a44793b7ad3f8d0b6e3291",
       "version_major": 2,
       "version_minor": 0
      },
      "text/plain": [
       "Dividing loop:   0%|          | 0/50 [00:00<?, ?it/s]"
      ]
     },
     "metadata": {},
     "output_type": "display_data"
    },
    {
     "data": {
      "application/vnd.jupyter.widget-view+json": {
       "model_id": "e13eb64704fd41768fef7ea4382f25fe",
       "version_major": 2,
       "version_minor": 0
      },
      "text/plain": [
       "Epoch:   0%|          | 0/60 [00:00<?, ?it/s]"
      ]
     },
     "metadata": {},
     "output_type": "display_data"
    },
    {
     "name": "stdout",
     "output_type": "stream",
     "text": [
      "Anhui Coonch Cement: Test error: 0.94%\n"
     ]
    },
    {
     "data": {
      "application/vnd.jupyter.widget-view+json": {
       "model_id": "9efcc875e4c54cb8a1b125d18bcf1b89",
       "version_major": 2,
       "version_minor": 0
      },
      "text/plain": [
       "Dividing loop:   0%|          | 0/50 [00:00<?, ?it/s]"
      ]
     },
     "metadata": {},
     "output_type": "display_data"
    },
    {
     "data": {
      "application/vnd.jupyter.widget-view+json": {
       "model_id": "9fd6ccab9fdd4e48a4736916b3e82f77",
       "version_major": 2,
       "version_minor": 0
      },
      "text/plain": [
       "Epoch:   0%|          | 0/60 [00:00<?, ?it/s]"
      ]
     },
     "metadata": {},
     "output_type": "display_data"
    },
    {
     "name": "stdout",
     "output_type": "stream",
     "text": [
      "CITIC Securities: Test error: 0.86%\n"
     ]
    },
    {
     "data": {
      "application/vnd.jupyter.widget-view+json": {
       "model_id": "df6f299b42b04fe5a23c9e5c6a8b64d9",
       "version_major": 2,
       "version_minor": 0
      },
      "text/plain": [
       "Dividing loop:   0%|          | 0/50 [00:00<?, ?it/s]"
      ]
     },
     "metadata": {},
     "output_type": "display_data"
    },
    {
     "data": {
      "application/vnd.jupyter.widget-view+json": {
       "model_id": "05010640ad1a4aca98999afb89145d51",
       "version_major": 2,
       "version_minor": 0
      },
      "text/plain": [
       "Epoch:   0%|          | 0/60 [00:00<?, ?it/s]"
      ]
     },
     "metadata": {},
     "output_type": "display_data"
    },
    {
     "name": "stdout",
     "output_type": "stream",
     "text": [
      "Kweichow Moutai: Test error: 0.98%\n"
     ]
    },
    {
     "data": {
      "application/vnd.jupyter.widget-view+json": {
       "model_id": "6bd66562b4c54f19acb29b1bdad2e64f",
       "version_major": 2,
       "version_minor": 0
      },
      "text/plain": [
       "Dividing loop:   0%|          | 0/50 [00:00<?, ?it/s]"
      ]
     },
     "metadata": {},
     "output_type": "display_data"
    },
    {
     "data": {
      "application/vnd.jupyter.widget-view+json": {
       "model_id": "017971a5e919486391b5dce56188e29d",
       "version_major": 2,
       "version_minor": 0
      },
      "text/plain": [
       "Epoch:   0%|          | 0/60 [00:00<?, ?it/s]"
      ]
     },
     "metadata": {},
     "output_type": "display_data"
    },
    {
     "name": "stdout",
     "output_type": "stream",
     "text": [
      "China Duty Free Group: Test error: 1.52%\n"
     ]
    },
    {
     "data": {
      "application/vnd.jupyter.widget-view+json": {
       "model_id": "9709c35dc8b84e1b877aeefb8bed5e37",
       "version_major": 2,
       "version_minor": 0
      },
      "text/plain": [
       "Dividing loop:   0%|          | 0/50 [00:00<?, ?it/s]"
      ]
     },
     "metadata": {},
     "output_type": "display_data"
    },
    {
     "data": {
      "application/vnd.jupyter.widget-view+json": {
       "model_id": "2b99f91af25a42698575fc3712e51a40",
       "version_major": 2,
       "version_minor": 0
      },
      "text/plain": [
       "Epoch:   0%|          | 0/60 [00:00<?, ?it/s]"
      ]
     },
     "metadata": {},
     "output_type": "display_data"
    },
    {
     "name": "stdout",
     "output_type": "stream",
     "text": [
      "Ping An: Test error: 0.64%\n"
     ]
    },
    {
     "data": {
      "application/vnd.jupyter.widget-view+json": {
       "model_id": "36cb8aa9e81d45d1b88accadc79f6150",
       "version_major": 2,
       "version_minor": 0
      },
      "text/plain": [
       "Dividing loop:   0%|          | 0/50 [00:00<?, ?it/s]"
      ]
     },
     "metadata": {},
     "output_type": "display_data"
    },
    {
     "data": {
      "application/vnd.jupyter.widget-view+json": {
       "model_id": "4eb12096e322496f91981514bdfdbe44",
       "version_major": 2,
       "version_minor": 0
      },
      "text/plain": [
       "Epoch:   0%|          | 0/60 [00:00<?, ?it/s]"
      ]
     },
     "metadata": {},
     "output_type": "display_data"
    },
    {
     "name": "stdout",
     "output_type": "stream",
     "text": [
      "China Pacific Insurance: Test error: 0.89%\n"
     ]
    },
    {
     "data": {
      "application/vnd.jupyter.widget-view+json": {
       "model_id": "d33ab52322c2476c8804685dff8a4af8",
       "version_major": 2,
       "version_minor": 0
      },
      "text/plain": [
       "Dividing loop:   0%|          | 0/50 [00:00<?, ?it/s]"
      ]
     },
     "metadata": {},
     "output_type": "display_data"
    },
    {
     "data": {
      "application/vnd.jupyter.widget-view+json": {
       "model_id": "0917c53f970f4378a4f06ebd5a7e10d8",
       "version_major": 2,
       "version_minor": 0
      },
      "text/plain": [
       "Epoch:   0%|          | 0/60 [00:00<?, ?it/s]"
      ]
     },
     "metadata": {},
     "output_type": "display_data"
    },
    {
     "name": "stdout",
     "output_type": "stream",
     "text": [
      "PetroChina: Test error: 0.76%\n"
     ]
    },
    {
     "data": {
      "application/vnd.jupyter.widget-view+json": {
       "model_id": "2e8409c39364437597befc4495440684",
       "version_major": 2,
       "version_minor": 0
      },
      "text/plain": [
       "Dividing loop:   0%|          | 0/50 [00:00<?, ?it/s]"
      ]
     },
     "metadata": {},
     "output_type": "display_data"
    },
    {
     "data": {
      "application/vnd.jupyter.widget-view+json": {
       "model_id": "dd3abf9ae09443ceaa168fad1fc37eb5",
       "version_major": 2,
       "version_minor": 0
      },
      "text/plain": [
       "Epoch:   0%|          | 0/60 [00:00<?, ?it/s]"
      ]
     },
     "metadata": {},
     "output_type": "display_data"
    },
    {
     "name": "stdout",
     "output_type": "stream",
     "text": [
      "SAIC Motor: Test error: 2.87%\n"
     ]
    },
    {
     "data": {
      "application/vnd.jupyter.widget-view+json": {
       "model_id": "e9d5950440a040468a72fd948a6b2373",
       "version_major": 2,
       "version_minor": 0
      },
      "text/plain": [
       "Dividing loop:   0%|          | 0/50 [00:00<?, ?it/s]"
      ]
     },
     "metadata": {},
     "output_type": "display_data"
    },
    {
     "data": {
      "application/vnd.jupyter.widget-view+json": {
       "model_id": "a5747d81a64e4595aac6c36b579e5fac",
       "version_major": 2,
       "version_minor": 0
      },
      "text/plain": [
       "Epoch:   0%|          | 0/60 [00:00<?, ?it/s]"
      ]
     },
     "metadata": {},
     "output_type": "display_data"
    },
    {
     "name": "stdout",
     "output_type": "stream",
     "text": [
      "China Merchants Bank: Test error: 0.86%\n"
     ]
    },
    {
     "data": {
      "application/vnd.jupyter.widget-view+json": {
       "model_id": "cc3958e957a24c8491bae877669042e4",
       "version_major": 2,
       "version_minor": 0
      },
      "text/plain": [
       "Dividing loop:   0%|          | 0/50 [00:00<?, ?it/s]"
      ]
     },
     "metadata": {},
     "output_type": "display_data"
    },
    {
     "data": {
      "application/vnd.jupyter.widget-view+json": {
       "model_id": "11117a52387e45efa781f57148419c2b",
       "version_major": 2,
       "version_minor": 0
      },
      "text/plain": [
       "Epoch:   0%|          | 0/60 [00:00<?, ?it/s]"
      ]
     },
     "metadata": {},
     "output_type": "display_data"
    },
    {
     "name": "stdout",
     "output_type": "stream",
     "text": [
      "Sinopec: Test error: 1.31%\n"
     ]
    },
    {
     "data": {
      "application/vnd.jupyter.widget-view+json": {
       "model_id": "98c99c4e272c46c89b07e9d000daf925",
       "version_major": 2,
       "version_minor": 0
      },
      "text/plain": [
       "Dividing loop:   0%|          | 0/50 [00:00<?, ?it/s]"
      ]
     },
     "metadata": {},
     "output_type": "display_data"
    },
    {
     "data": {
      "application/vnd.jupyter.widget-view+json": {
       "model_id": "3deabb295e2d4921b7e254a7a5e6085b",
       "version_major": 2,
       "version_minor": 0
      },
      "text/plain": [
       "Epoch:   0%|          | 0/60 [00:00<?, ?it/s]"
      ]
     },
     "metadata": {},
     "output_type": "display_data"
    },
    {
     "name": "stdout",
     "output_type": "stream",
     "text": [
      "Hengrui Medicine: Test error: 0.98%\n"
     ]
    },
    {
     "data": {
      "application/vnd.jupyter.widget-view+json": {
       "model_id": "1c59d225066b4973b2da6d8420bbc39f",
       "version_major": 2,
       "version_minor": 0
      },
      "text/plain": [
       "Dividing loop:   0%|          | 0/50 [00:00<?, ?it/s]"
      ]
     },
     "metadata": {},
     "output_type": "display_data"
    },
    {
     "data": {
      "application/vnd.jupyter.widget-view+json": {
       "model_id": "6ead36be651a4f9090064ffec9f411de",
       "version_major": 2,
       "version_minor": 0
      },
      "text/plain": [
       "Epoch:   0%|          | 0/60 [00:00<?, ?it/s]"
      ]
     },
     "metadata": {},
     "output_type": "display_data"
    },
    {
     "name": "stdout",
     "output_type": "stream",
     "text": [
      "China Life Insurance Company Limited: Test error: 0.95%\n"
     ]
    }
   ],
   "source": [
    "result_dict_prices_ch = get_wapes(**params_ch_prices)"
   ]
  },
  {
   "cell_type": "code",
   "execution_count": 18,
   "metadata": {
    "collapsed": false
   },
   "outputs": [
    {
     "data": {
      "application/vnd.jupyter.widget-view+json": {
       "model_id": "146e62b85fef47bd9d15cc97aaf8bebe",
       "version_major": 2,
       "version_minor": 0
      },
      "text/plain": [
       "  0%|          | 0/15 [00:00<?, ?it/s]"
      ]
     },
     "metadata": {},
     "output_type": "display_data"
    },
    {
     "data": {
      "application/vnd.jupyter.widget-view+json": {
       "model_id": "4e0fc206697a44bca8a32e53d3eb583f",
       "version_major": 2,
       "version_minor": 0
      },
      "text/plain": [
       "Dividing loop:   0%|          | 0/50 [00:00<?, ?it/s]"
      ]
     },
     "metadata": {},
     "output_type": "display_data"
    },
    {
     "data": {
      "application/vnd.jupyter.widget-view+json": {
       "model_id": "5664d9d8f0c04f8ba8cab83608991448",
       "version_major": 2,
       "version_minor": 0
      },
      "text/plain": [
       "Epoch:   0%|          | 0/60 [00:00<?, ?it/s]"
      ]
     },
     "metadata": {},
     "output_type": "display_data"
    },
    {
     "name": "stdout",
     "output_type": "stream",
     "text": [
      "China Shenhua: Test error: 92.98%\n"
     ]
    },
    {
     "data": {
      "application/vnd.jupyter.widget-view+json": {
       "model_id": "17a1ea22e52e4adfb8c1d0302399dd53",
       "version_major": 2,
       "version_minor": 0
      },
      "text/plain": [
       "Dividing loop:   0%|          | 0/50 [00:00<?, ?it/s]"
      ]
     },
     "metadata": {},
     "output_type": "display_data"
    },
    {
     "data": {
      "application/vnd.jupyter.widget-view+json": {
       "model_id": "b0f9365a7b9943dea01e5466e6a2f07c",
       "version_major": 2,
       "version_minor": 0
      },
      "text/plain": [
       "Epoch:   0%|          | 0/60 [00:00<?, ?it/s]"
      ]
     },
     "metadata": {},
     "output_type": "display_data"
    },
    {
     "name": "stdout",
     "output_type": "stream",
     "text": [
      "Agricultural Bank of China: Test error: 102.48%\n"
     ]
    },
    {
     "data": {
      "application/vnd.jupyter.widget-view+json": {
       "model_id": "4c4de00e4ae04bdbb443354525cc852d",
       "version_major": 2,
       "version_minor": 0
      },
      "text/plain": [
       "Dividing loop:   0%|          | 0/50 [00:00<?, ?it/s]"
      ]
     },
     "metadata": {},
     "output_type": "display_data"
    },
    {
     "data": {
      "application/vnd.jupyter.widget-view+json": {
       "model_id": "3004db1294f14b04b209de5b716de2ec",
       "version_major": 2,
       "version_minor": 0
      },
      "text/plain": [
       "Epoch:   0%|          | 0/60 [00:00<?, ?it/s]"
      ]
     },
     "metadata": {},
     "output_type": "display_data"
    },
    {
     "name": "stdout",
     "output_type": "stream",
     "text": [
      "Wanhua Chemical Group: Test error: 100.60%\n"
     ]
    },
    {
     "data": {
      "application/vnd.jupyter.widget-view+json": {
       "model_id": "c0603dc39ffa47668cc31af23b83e333",
       "version_major": 2,
       "version_minor": 0
      },
      "text/plain": [
       "Dividing loop:   0%|          | 0/50 [00:00<?, ?it/s]"
      ]
     },
     "metadata": {},
     "output_type": "display_data"
    },
    {
     "data": {
      "application/vnd.jupyter.widget-view+json": {
       "model_id": "fd3a5a29d7ba446c8b497946f03ac24c",
       "version_major": 2,
       "version_minor": 0
      },
      "text/plain": [
       "Epoch:   0%|          | 0/60 [00:00<?, ?it/s]"
      ]
     },
     "metadata": {},
     "output_type": "display_data"
    },
    {
     "name": "stdout",
     "output_type": "stream",
     "text": [
      "Anhui Coonch Cement: Test error: 97.00%\n"
     ]
    },
    {
     "data": {
      "application/vnd.jupyter.widget-view+json": {
       "model_id": "f6cfa58c0e204997b30c2eef23d0ec3c",
       "version_major": 2,
       "version_minor": 0
      },
      "text/plain": [
       "Dividing loop:   0%|          | 0/50 [00:00<?, ?it/s]"
      ]
     },
     "metadata": {},
     "output_type": "display_data"
    },
    {
     "data": {
      "application/vnd.jupyter.widget-view+json": {
       "model_id": "e7cac3c4258b464584ba357c3e209dc9",
       "version_major": 2,
       "version_minor": 0
      },
      "text/plain": [
       "Epoch:   0%|          | 0/60 [00:00<?, ?it/s]"
      ]
     },
     "metadata": {},
     "output_type": "display_data"
    },
    {
     "name": "stdout",
     "output_type": "stream",
     "text": [
      "CITIC Securities: Test error: 90.73%\n"
     ]
    },
    {
     "data": {
      "application/vnd.jupyter.widget-view+json": {
       "model_id": "b175e653a5c34df3b8666f4c1907cb36",
       "version_major": 2,
       "version_minor": 0
      },
      "text/plain": [
       "Dividing loop:   0%|          | 0/50 [00:00<?, ?it/s]"
      ]
     },
     "metadata": {},
     "output_type": "display_data"
    },
    {
     "data": {
      "application/vnd.jupyter.widget-view+json": {
       "model_id": "800eddfdfa894b3d8fd2729f7062d68f",
       "version_major": 2,
       "version_minor": 0
      },
      "text/plain": [
       "Epoch:   0%|          | 0/60 [00:00<?, ?it/s]"
      ]
     },
     "metadata": {},
     "output_type": "display_data"
    },
    {
     "name": "stdout",
     "output_type": "stream",
     "text": [
      "Kweichow Moutai: Test error: 100.69%\n"
     ]
    },
    {
     "data": {
      "application/vnd.jupyter.widget-view+json": {
       "model_id": "a82de3a083914c24a956d1c21a4e4ed5",
       "version_major": 2,
       "version_minor": 0
      },
      "text/plain": [
       "Dividing loop:   0%|          | 0/50 [00:00<?, ?it/s]"
      ]
     },
     "metadata": {},
     "output_type": "display_data"
    },
    {
     "data": {
      "application/vnd.jupyter.widget-view+json": {
       "model_id": "23d9adf205a54665a6cccdc60d0b9c86",
       "version_major": 2,
       "version_minor": 0
      },
      "text/plain": [
       "Epoch:   0%|          | 0/60 [00:00<?, ?it/s]"
      ]
     },
     "metadata": {},
     "output_type": "display_data"
    },
    {
     "name": "stdout",
     "output_type": "stream",
     "text": [
      "China Duty Free Group: Test error: 92.57%\n"
     ]
    },
    {
     "data": {
      "application/vnd.jupyter.widget-view+json": {
       "model_id": "8d6a8d67cba74eedae73be108f703a82",
       "version_major": 2,
       "version_minor": 0
      },
      "text/plain": [
       "Dividing loop:   0%|          | 0/50 [00:00<?, ?it/s]"
      ]
     },
     "metadata": {},
     "output_type": "display_data"
    },
    {
     "data": {
      "application/vnd.jupyter.widget-view+json": {
       "model_id": "bb1fdc70a09040dabb87247ed7b88111",
       "version_major": 2,
       "version_minor": 0
      },
      "text/plain": [
       "Epoch:   0%|          | 0/60 [00:00<?, ?it/s]"
      ]
     },
     "metadata": {},
     "output_type": "display_data"
    },
    {
     "name": "stdout",
     "output_type": "stream",
     "text": [
      "Ping An: Test error: 100.56%\n"
     ]
    },
    {
     "data": {
      "application/vnd.jupyter.widget-view+json": {
       "model_id": "6799396dea4d479e98586bac0fb3b8de",
       "version_major": 2,
       "version_minor": 0
      },
      "text/plain": [
       "Dividing loop:   0%|          | 0/50 [00:00<?, ?it/s]"
      ]
     },
     "metadata": {},
     "output_type": "display_data"
    },
    {
     "data": {
      "application/vnd.jupyter.widget-view+json": {
       "model_id": "0c6c4e138559497690eec7bb170e58c1",
       "version_major": 2,
       "version_minor": 0
      },
      "text/plain": [
       "Epoch:   0%|          | 0/60 [00:00<?, ?it/s]"
      ]
     },
     "metadata": {},
     "output_type": "display_data"
    },
    {
     "name": "stdout",
     "output_type": "stream",
     "text": [
      "China Pacific Insurance: Test error: 100.25%\n"
     ]
    },
    {
     "data": {
      "application/vnd.jupyter.widget-view+json": {
       "model_id": "025cfc35b11141f9bfc542f88b30d64d",
       "version_major": 2,
       "version_minor": 0
      },
      "text/plain": [
       "Dividing loop:   0%|          | 0/50 [00:00<?, ?it/s]"
      ]
     },
     "metadata": {},
     "output_type": "display_data"
    },
    {
     "data": {
      "application/vnd.jupyter.widget-view+json": {
       "model_id": "39bafa6c2c1845b18b97862c0824eaf8",
       "version_major": 2,
       "version_minor": 0
      },
      "text/plain": [
       "Epoch:   0%|          | 0/60 [00:00<?, ?it/s]"
      ]
     },
     "metadata": {},
     "output_type": "display_data"
    },
    {
     "name": "stdout",
     "output_type": "stream",
     "text": [
      "PetroChina: Test error: 99.90%\n"
     ]
    },
    {
     "data": {
      "application/vnd.jupyter.widget-view+json": {
       "model_id": "c9c1a70d81d847d08b9204bb21f20371",
       "version_major": 2,
       "version_minor": 0
      },
      "text/plain": [
       "Dividing loop:   0%|          | 0/50 [00:00<?, ?it/s]"
      ]
     },
     "metadata": {},
     "output_type": "display_data"
    },
    {
     "data": {
      "application/vnd.jupyter.widget-view+json": {
       "model_id": "aadfcc335ab74206813d94b5dc95661d",
       "version_major": 2,
       "version_minor": 0
      },
      "text/plain": [
       "Epoch:   0%|          | 0/60 [00:00<?, ?it/s]"
      ]
     },
     "metadata": {},
     "output_type": "display_data"
    },
    {
     "name": "stdout",
     "output_type": "stream",
     "text": [
      "SAIC Motor: Test error: 93.50%\n"
     ]
    },
    {
     "data": {
      "application/vnd.jupyter.widget-view+json": {
       "model_id": "61c1aae9c0524e70ac0dc77931e92181",
       "version_major": 2,
       "version_minor": 0
      },
      "text/plain": [
       "Dividing loop:   0%|          | 0/50 [00:00<?, ?it/s]"
      ]
     },
     "metadata": {},
     "output_type": "display_data"
    },
    {
     "data": {
      "application/vnd.jupyter.widget-view+json": {
       "model_id": "97b58cec7068448491d46b7424e2fa5f",
       "version_major": 2,
       "version_minor": 0
      },
      "text/plain": [
       "Epoch:   0%|          | 0/60 [00:00<?, ?it/s]"
      ]
     },
     "metadata": {},
     "output_type": "display_data"
    },
    {
     "name": "stdout",
     "output_type": "stream",
     "text": [
      "China Merchants Bank: Test error: 99.45%\n"
     ]
    },
    {
     "data": {
      "application/vnd.jupyter.widget-view+json": {
       "model_id": "d031f99d6f764d8c86d59fafd630de3d",
       "version_major": 2,
       "version_minor": 0
      },
      "text/plain": [
       "Dividing loop:   0%|          | 0/50 [00:00<?, ?it/s]"
      ]
     },
     "metadata": {},
     "output_type": "display_data"
    },
    {
     "data": {
      "application/vnd.jupyter.widget-view+json": {
       "model_id": "b90eadaf8569412087bcbe04546d2774",
       "version_major": 2,
       "version_minor": 0
      },
      "text/plain": [
       "Epoch:   0%|          | 0/60 [00:00<?, ?it/s]"
      ]
     },
     "metadata": {},
     "output_type": "display_data"
    },
    {
     "name": "stdout",
     "output_type": "stream",
     "text": [
      "Sinopec: Test error: 100.51%\n"
     ]
    },
    {
     "data": {
      "application/vnd.jupyter.widget-view+json": {
       "model_id": "993287611f98420a8b1aa35bd7351b0c",
       "version_major": 2,
       "version_minor": 0
      },
      "text/plain": [
       "Dividing loop:   0%|          | 0/50 [00:00<?, ?it/s]"
      ]
     },
     "metadata": {},
     "output_type": "display_data"
    },
    {
     "data": {
      "application/vnd.jupyter.widget-view+json": {
       "model_id": "4304e66aa4c34020ac0de5f7e78fbb5b",
       "version_major": 2,
       "version_minor": 0
      },
      "text/plain": [
       "Epoch:   0%|          | 0/60 [00:00<?, ?it/s]"
      ]
     },
     "metadata": {},
     "output_type": "display_data"
    },
    {
     "name": "stdout",
     "output_type": "stream",
     "text": [
      "Hengrui Medicine: Test error: 95.72%\n"
     ]
    },
    {
     "data": {
      "application/vnd.jupyter.widget-view+json": {
       "model_id": "b018851c83f144ff8c6cf2cf2c0f0071",
       "version_major": 2,
       "version_minor": 0
      },
      "text/plain": [
       "Dividing loop:   0%|          | 0/50 [00:00<?, ?it/s]"
      ]
     },
     "metadata": {},
     "output_type": "display_data"
    },
    {
     "data": {
      "application/vnd.jupyter.widget-view+json": {
       "model_id": "3342e6dfe01044cd885e2d89fbbdc7e1",
       "version_major": 2,
       "version_minor": 0
      },
      "text/plain": [
       "Epoch:   0%|          | 0/60 [00:00<?, ?it/s]"
      ]
     },
     "metadata": {},
     "output_type": "display_data"
    },
    {
     "name": "stdout",
     "output_type": "stream",
     "text": [
      "China Life Insurance Company Limited: Test error: 100.03%\n"
     ]
    }
   ],
   "source": [
    "result_dict_returns_ch = get_wapes(**params_ch_returns)"
   ]
  },
  {
   "cell_type": "code",
   "execution_count": 19,
   "metadata": {
    "collapsed": false
   },
   "outputs": [],
   "source": [
    "us_result = pd.DataFrame({\n",
    "    \"Company\": result_dict_prices_us.keys(),\n",
    "    \"WAPE (price)\": result_dict_prices_us.values(),\n",
    "    \"WAPE (return)\": result_dict_returns_us.values()\n",
    "})\n",
    "\n",
    "ch_result = pd.DataFrame({\n",
    "    \"Company\": result_dict_prices_ch.keys(),\n",
    "    \"WAPE (price)\": result_dict_prices_ch.values(),\n",
    "    \"WAPE (return)\": result_dict_returns_ch.values()\n",
    "})"
   ]
  },
  {
   "cell_type": "code",
   "execution_count": 20,
   "metadata": {
    "collapsed": false
   },
   "outputs": [
    {
     "data": {
      "text/html": [
       "<div>\n",
       "<style scoped>\n",
       "    .dataframe tbody tr th:only-of-type {\n",
       "        vertical-align: middle;\n",
       "    }\n",
       "\n",
       "    .dataframe tbody tr th {\n",
       "        vertical-align: top;\n",
       "    }\n",
       "\n",
       "    .dataframe thead th {\n",
       "        text-align: right;\n",
       "    }\n",
       "</style>\n",
       "<table border=\"1\" class=\"dataframe\">\n",
       "  <thead>\n",
       "    <tr style=\"text-align: right;\">\n",
       "      <th></th>\n",
       "      <th>Company</th>\n",
       "      <th>WAPE (price)</th>\n",
       "      <th>WAPE (return)</th>\n",
       "    </tr>\n",
       "  </thead>\n",
       "  <tbody>\n",
       "    <tr>\n",
       "      <th>0</th>\n",
       "      <td>AMZN</td>\n",
       "      <td>0.944424</td>\n",
       "      <td>95.010746</td>\n",
       "    </tr>\n",
       "    <tr>\n",
       "      <th>1</th>\n",
       "      <td>MSFT</td>\n",
       "      <td>0.920226</td>\n",
       "      <td>99.959499</td>\n",
       "    </tr>\n",
       "    <tr>\n",
       "      <th>2</th>\n",
       "      <td>GM</td>\n",
       "      <td>0.967325</td>\n",
       "      <td>100.923097</td>\n",
       "    </tr>\n",
       "    <tr>\n",
       "      <th>3</th>\n",
       "      <td>UBER</td>\n",
       "      <td>1.810495</td>\n",
       "      <td>97.985947</td>\n",
       "    </tr>\n",
       "    <tr>\n",
       "      <th>4</th>\n",
       "      <td>Coca Cola</td>\n",
       "      <td>0.799916</td>\n",
       "      <td>99.804169</td>\n",
       "    </tr>\n",
       "    <tr>\n",
       "      <th>5</th>\n",
       "      <td>EBAY</td>\n",
       "      <td>0.931679</td>\n",
       "      <td>91.264945</td>\n",
       "    </tr>\n",
       "    <tr>\n",
       "      <th>6</th>\n",
       "      <td>DIS</td>\n",
       "      <td>0.563005</td>\n",
       "      <td>95.923382</td>\n",
       "    </tr>\n",
       "    <tr>\n",
       "      <th>7</th>\n",
       "      <td>FORD</td>\n",
       "      <td>1.055503</td>\n",
       "      <td>96.084470</td>\n",
       "    </tr>\n",
       "    <tr>\n",
       "      <th>8</th>\n",
       "      <td>NFLX</td>\n",
       "      <td>0.764938</td>\n",
       "      <td>96.550882</td>\n",
       "    </tr>\n",
       "    <tr>\n",
       "      <th>9</th>\n",
       "      <td>NKE</td>\n",
       "      <td>0.796694</td>\n",
       "      <td>96.674800</td>\n",
       "    </tr>\n",
       "    <tr>\n",
       "      <th>10</th>\n",
       "      <td>GE</td>\n",
       "      <td>1.147382</td>\n",
       "      <td>100.533831</td>\n",
       "    </tr>\n",
       "    <tr>\n",
       "      <th>11</th>\n",
       "      <td>WMT</td>\n",
       "      <td>0.587416</td>\n",
       "      <td>100.202012</td>\n",
       "    </tr>\n",
       "    <tr>\n",
       "      <th>12</th>\n",
       "      <td>INTC</td>\n",
       "      <td>0.666248</td>\n",
       "      <td>93.038923</td>\n",
       "    </tr>\n",
       "    <tr>\n",
       "      <th>13</th>\n",
       "      <td>GOOG</td>\n",
       "      <td>0.849344</td>\n",
       "      <td>93.751198</td>\n",
       "    </tr>\n",
       "    <tr>\n",
       "      <th>14</th>\n",
       "      <td>AAPL</td>\n",
       "      <td>1.093444</td>\n",
       "      <td>94.379705</td>\n",
       "    </tr>\n",
       "  </tbody>\n",
       "</table>\n",
       "</div>"
      ],
      "text/plain": [
       "      Company  WAPE (price)  WAPE (return)\n",
       "0        AMZN      0.944424      95.010746\n",
       "1        MSFT      0.920226      99.959499\n",
       "2          GM      0.967325     100.923097\n",
       "3        UBER      1.810495      97.985947\n",
       "4   Coca Cola      0.799916      99.804169\n",
       "5        EBAY      0.931679      91.264945\n",
       "6         DIS      0.563005      95.923382\n",
       "7        FORD      1.055503      96.084470\n",
       "8        NFLX      0.764938      96.550882\n",
       "9         NKE      0.796694      96.674800\n",
       "10         GE      1.147382     100.533831\n",
       "11        WMT      0.587416     100.202012\n",
       "12       INTC      0.666248      93.038923\n",
       "13       GOOG      0.849344      93.751198\n",
       "14       AAPL      1.093444      94.379705"
      ]
     },
     "execution_count": 19,
     "metadata": {},
     "output_type": "execute_result"
    }
   ],
   "source": [
    "us_result"
   ]
  },
  {
   "cell_type": "code",
   "execution_count": 21,
   "metadata": {
    "collapsed": false
   },
   "outputs": [
    {
     "data": {
      "text/html": [
       "<div>\n",
       "<style scoped>\n",
       "    .dataframe tbody tr th:only-of-type {\n",
       "        vertical-align: middle;\n",
       "    }\n",
       "\n",
       "    .dataframe tbody tr th {\n",
       "        vertical-align: top;\n",
       "    }\n",
       "\n",
       "    .dataframe thead th {\n",
       "        text-align: right;\n",
       "    }\n",
       "</style>\n",
       "<table border=\"1\" class=\"dataframe\">\n",
       "  <thead>\n",
       "    <tr style=\"text-align: right;\">\n",
       "      <th></th>\n",
       "      <th>WAPE (price)</th>\n",
       "      <th>WAPE (return)</th>\n",
       "    </tr>\n",
       "  </thead>\n",
       "  <tbody>\n",
       "    <tr>\n",
       "      <th>count</th>\n",
       "      <td>15.00</td>\n",
       "      <td>15.00</td>\n",
       "    </tr>\n",
       "    <tr>\n",
       "      <th>mean</th>\n",
       "      <td>0.93</td>\n",
       "      <td>96.81</td>\n",
       "    </tr>\n",
       "    <tr>\n",
       "      <th>std</th>\n",
       "      <td>0.30</td>\n",
       "      <td>3.02</td>\n",
       "    </tr>\n",
       "    <tr>\n",
       "      <th>min</th>\n",
       "      <td>0.56</td>\n",
       "      <td>91.26</td>\n",
       "    </tr>\n",
       "    <tr>\n",
       "      <th>25%</th>\n",
       "      <td>0.78</td>\n",
       "      <td>94.70</td>\n",
       "    </tr>\n",
       "    <tr>\n",
       "      <th>50%</th>\n",
       "      <td>0.92</td>\n",
       "      <td>96.55</td>\n",
       "    </tr>\n",
       "    <tr>\n",
       "      <th>75%</th>\n",
       "      <td>1.01</td>\n",
       "      <td>99.88</td>\n",
       "    </tr>\n",
       "    <tr>\n",
       "      <th>max</th>\n",
       "      <td>1.81</td>\n",
       "      <td>100.92</td>\n",
       "    </tr>\n",
       "  </tbody>\n",
       "</table>\n",
       "</div>"
      ],
      "text/plain": [
       "       WAPE (price)  WAPE (return)\n",
       "count         15.00          15.00\n",
       "mean           0.93          96.81\n",
       "std            0.30           3.02\n",
       "min            0.56          91.26\n",
       "25%            0.78          94.70\n",
       "50%            0.92          96.55\n",
       "75%            1.01          99.88\n",
       "max            1.81         100.92"
      ]
     },
     "execution_count": 20,
     "metadata": {},
     "output_type": "execute_result"
    }
   ],
   "source": [
    "round(us_result.describe(), 2)"
   ]
  },
  {
   "cell_type": "code",
   "execution_count": 22,
   "metadata": {
    "collapsed": false
   },
   "outputs": [
    {
     "data": {
      "text/html": [
       "<div>\n",
       "<style scoped>\n",
       "    .dataframe tbody tr th:only-of-type {\n",
       "        vertical-align: middle;\n",
       "    }\n",
       "\n",
       "    .dataframe tbody tr th {\n",
       "        vertical-align: top;\n",
       "    }\n",
       "\n",
       "    .dataframe thead th {\n",
       "        text-align: right;\n",
       "    }\n",
       "</style>\n",
       "<table border=\"1\" class=\"dataframe\">\n",
       "  <thead>\n",
       "    <tr style=\"text-align: right;\">\n",
       "      <th></th>\n",
       "      <th>Company</th>\n",
       "      <th>WAPE (price)</th>\n",
       "      <th>WAPE (return)</th>\n",
       "    </tr>\n",
       "  </thead>\n",
       "  <tbody>\n",
       "    <tr>\n",
       "      <th>0</th>\n",
       "      <td>China Shenhua</td>\n",
       "      <td>1.279408</td>\n",
       "      <td>92.984003</td>\n",
       "    </tr>\n",
       "    <tr>\n",
       "      <th>1</th>\n",
       "      <td>Agricultural Bank of China</td>\n",
       "      <td>0.239972</td>\n",
       "      <td>102.476060</td>\n",
       "    </tr>\n",
       "    <tr>\n",
       "      <th>2</th>\n",
       "      <td>Wanhua Chemical Group</td>\n",
       "      <td>1.120149</td>\n",
       "      <td>100.603592</td>\n",
       "    </tr>\n",
       "    <tr>\n",
       "      <th>3</th>\n",
       "      <td>Anhui Coonch Cement</td>\n",
       "      <td>0.943795</td>\n",
       "      <td>96.995205</td>\n",
       "    </tr>\n",
       "    <tr>\n",
       "      <th>4</th>\n",
       "      <td>CITIC Securities</td>\n",
       "      <td>0.855246</td>\n",
       "      <td>90.731359</td>\n",
       "    </tr>\n",
       "    <tr>\n",
       "      <th>5</th>\n",
       "      <td>Kweichow Moutai</td>\n",
       "      <td>0.975364</td>\n",
       "      <td>100.687981</td>\n",
       "    </tr>\n",
       "    <tr>\n",
       "      <th>6</th>\n",
       "      <td>China Duty Free Group</td>\n",
       "      <td>1.516019</td>\n",
       "      <td>92.571014</td>\n",
       "    </tr>\n",
       "    <tr>\n",
       "      <th>7</th>\n",
       "      <td>Ping An</td>\n",
       "      <td>0.639151</td>\n",
       "      <td>100.557494</td>\n",
       "    </tr>\n",
       "    <tr>\n",
       "      <th>8</th>\n",
       "      <td>China Pacific Insurance</td>\n",
       "      <td>0.886562</td>\n",
       "      <td>100.251222</td>\n",
       "    </tr>\n",
       "    <tr>\n",
       "      <th>9</th>\n",
       "      <td>PetroChina</td>\n",
       "      <td>0.755956</td>\n",
       "      <td>99.897146</td>\n",
       "    </tr>\n",
       "    <tr>\n",
       "      <th>10</th>\n",
       "      <td>SAIC Motor</td>\n",
       "      <td>2.865443</td>\n",
       "      <td>93.498904</td>\n",
       "    </tr>\n",
       "    <tr>\n",
       "      <th>11</th>\n",
       "      <td>China Merchants Bank</td>\n",
       "      <td>0.855028</td>\n",
       "      <td>99.453002</td>\n",
       "    </tr>\n",
       "    <tr>\n",
       "      <th>12</th>\n",
       "      <td>Sinopec</td>\n",
       "      <td>1.307647</td>\n",
       "      <td>100.506449</td>\n",
       "    </tr>\n",
       "    <tr>\n",
       "      <th>13</th>\n",
       "      <td>Hengrui Medicine</td>\n",
       "      <td>0.975642</td>\n",
       "      <td>95.715320</td>\n",
       "    </tr>\n",
       "    <tr>\n",
       "      <th>14</th>\n",
       "      <td>China Life Insurance Company Limited</td>\n",
       "      <td>0.951771</td>\n",
       "      <td>100.034654</td>\n",
       "    </tr>\n",
       "  </tbody>\n",
       "</table>\n",
       "</div>"
      ],
      "text/plain": [
       "                                 Company  WAPE (price)  WAPE (return)\n",
       "0                          China Shenhua      1.279408      92.984003\n",
       "1             Agricultural Bank of China      0.239972     102.476060\n",
       "2                  Wanhua Chemical Group      1.120149     100.603592\n",
       "3                    Anhui Coonch Cement      0.943795      96.995205\n",
       "4                       CITIC Securities      0.855246      90.731359\n",
       "5                        Kweichow Moutai      0.975364     100.687981\n",
       "6                  China Duty Free Group      1.516019      92.571014\n",
       "7                                Ping An      0.639151     100.557494\n",
       "8                China Pacific Insurance      0.886562     100.251222\n",
       "9                             PetroChina      0.755956      99.897146\n",
       "10                            SAIC Motor      2.865443      93.498904\n",
       "11                  China Merchants Bank      0.855028      99.453002\n",
       "12                               Sinopec      1.307647     100.506449\n",
       "13                      Hengrui Medicine      0.975642      95.715320\n",
       "14  China Life Insurance Company Limited      0.951771     100.034654"
      ]
     },
     "execution_count": 21,
     "metadata": {},
     "output_type": "execute_result"
    }
   ],
   "source": [
    "ch_result"
   ]
  },
  {
   "cell_type": "code",
   "execution_count": 23,
   "metadata": {
    "collapsed": false
   },
   "outputs": [
    {
     "data": {
      "text/html": [
       "<div>\n",
       "<style scoped>\n",
       "    .dataframe tbody tr th:only-of-type {\n",
       "        vertical-align: middle;\n",
       "    }\n",
       "\n",
       "    .dataframe tbody tr th {\n",
       "        vertical-align: top;\n",
       "    }\n",
       "\n",
       "    .dataframe thead th {\n",
       "        text-align: right;\n",
       "    }\n",
       "</style>\n",
       "<table border=\"1\" class=\"dataframe\">\n",
       "  <thead>\n",
       "    <tr style=\"text-align: right;\">\n",
       "      <th></th>\n",
       "      <th>WAPE (price)</th>\n",
       "      <th>WAPE (return)</th>\n",
       "    </tr>\n",
       "  </thead>\n",
       "  <tbody>\n",
       "    <tr>\n",
       "      <th>count</th>\n",
       "      <td>15.00</td>\n",
       "      <td>15.00</td>\n",
       "    </tr>\n",
       "    <tr>\n",
       "      <th>mean</th>\n",
       "      <td>1.08</td>\n",
       "      <td>97.80</td>\n",
       "    </tr>\n",
       "    <tr>\n",
       "      <th>std</th>\n",
       "      <td>0.58</td>\n",
       "      <td>3.73</td>\n",
       "    </tr>\n",
       "    <tr>\n",
       "      <th>min</th>\n",
       "      <td>0.24</td>\n",
       "      <td>90.73</td>\n",
       "    </tr>\n",
       "    <tr>\n",
       "      <th>25%</th>\n",
       "      <td>0.86</td>\n",
       "      <td>94.61</td>\n",
       "    </tr>\n",
       "    <tr>\n",
       "      <th>50%</th>\n",
       "      <td>0.95</td>\n",
       "      <td>99.90</td>\n",
       "    </tr>\n",
       "    <tr>\n",
       "      <th>75%</th>\n",
       "      <td>1.20</td>\n",
       "      <td>100.53</td>\n",
       "    </tr>\n",
       "    <tr>\n",
       "      <th>max</th>\n",
       "      <td>2.87</td>\n",
       "      <td>102.48</td>\n",
       "    </tr>\n",
       "  </tbody>\n",
       "</table>\n",
       "</div>"
      ],
      "text/plain": [
       "       WAPE (price)  WAPE (return)\n",
       "count         15.00          15.00\n",
       "mean           1.08          97.80\n",
       "std            0.58           3.73\n",
       "min            0.24          90.73\n",
       "25%            0.86          94.61\n",
       "50%            0.95          99.90\n",
       "75%            1.20         100.53\n",
       "max            2.87         102.48"
      ]
     },
     "execution_count": 22,
     "metadata": {},
     "output_type": "execute_result"
    }
   ],
   "source": [
    "round(ch_result.describe(), 2)"
   ]
  },
  {
   "cell_type": "code",
   "execution_count": 25,
   "metadata": {
    "collapsed": false
   },
   "outputs": [],
   "source": [
    "us_result.to_csv(\"mssa_mlp_us_price_return.csv\", index= False)\n",
    "ch_result.to_csv(\"mssa_mlp_ch_price_return.csv\", index= False)"
   ]
  },
  {
   "cell_type": "code",
   "execution_count": 14,
   "metadata": {
    "collapsed": false
   },
   "outputs": [],
   "source": []
  }
 ],
 "metadata": {
  "kernelspec": {
   "display_name": "Python 3.10 (XPython)",
   "language": "python",
   "name": "xpython"
  },
  "language_info": {
   "codemirror_mode": {
    "name": "ipython",
    "version": 2
   },
   "file_extension": ".py",
   "mimetype": "text/x-python",
   "name": "python",
   "nbconvert_exporter": "python",
   "pygments_lexer": "ipython2",
   "version": "2.7.6"
  }
 },
 "nbformat": 4,
 "nbformat_minor": 0
}
