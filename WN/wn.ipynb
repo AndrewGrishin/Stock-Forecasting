{
 "cells": [
  {
   "cell_type": "code",
   "execution_count": 1,
   "metadata": {
    "tags": []
   },
   "outputs": [],
   "source": [
    "import torch\n",
    "from torch import nn, optim\n",
    "from Functions.SSA import SSA\n",
    "from Functions.lions_optimizer import Lion\n",
    "\n",
    "\n",
    "import os\n",
    "import pandas as pd\n",
    "from sklearn.model_selection import train_test_split\n",
    "from tqdm.notebook import tqdm\n",
    "import numpy as np\n",
    "\n",
    "# воспроизводимость\n",
    "torch.manual_seed(42)\n",
    "torch.backends.cudnn.deterministic = True\n",
    "np.random.seed(42)\n",
    "import random\n",
    "random.seed(42)\n",
    "torch.backends.cudnn.benchmark = False\n",
    "torch.backends.cudnn.enabled = False"
   ]
  },
  {
   "cell_type": "code",
   "execution_count": 2,
   "metadata": {
    "collapsed": false,
    "jupyter": {
     "outputs_hidden": false
    }
   },
   "outputs": [],
   "source": [
    "def wape(y, y_hat):\n",
    "    return np.sum(np.abs(y - y_hat)) / np.sum(np.abs(y)) * 100\n",
    "\n",
    "def series_to_X_y(series, window_size):\n",
    "    X = []\n",
    "    y = []\n",
    "    for i in range(len(series) - window_size):\n",
    "        row = list(map(lambda a: a, series[i:i + window_size]))\n",
    "        X.append(np.array(row))\n",
    "        col = [series[i + window_size]]\n",
    "        y.append(np.array(col))\n",
    "\n",
    "    return np.array(X), np.array(y)"
   ]
  },
  {
   "cell_type": "code",
   "execution_count": 3,
   "metadata": {
    "collapsed": false,
    "jupyter": {
     "outputs_hidden": false
    }
   },
   "outputs": [],
   "source": [
    "class MinMaxScaler():\n",
    "    def __init__(self):\n",
    "        self.min = 0\n",
    "        self.max = 1\n",
    "\n",
    "    def fit(self, data):\n",
    "        self.min = data.min()\n",
    "        self.max = data.max()\n",
    "\n",
    "    def transform(self, data):\n",
    "        return (data - self.min) / (self.max - self.min)\n",
    "\n",
    "    def inverse_transform(self, data):\n",
    "        return (self.max - self.min) * data + self.min\n",
    "\n",
    "    def __str__(self):\n",
    "        return f\"Min: {self.min}\\nMax: {self.max}\"\n",
    "\n",
    "class StandardScaler():\n",
    "    def __init__(self):\n",
    "        self.mean = 0\n",
    "        self.std = 1\n",
    "\n",
    "    def fit(self, data):\n",
    "        self.mean = data.mean()\n",
    "        self.std = data.std()\n",
    "\n",
    "    def transform(self, data):\n",
    "        return (data - self.mean) / self.std\n",
    "\n",
    "    def inverse_transform(self, data):\n",
    "        return self.std * data + self.mean\n",
    "\n",
    "    def __str__(self):\n",
    "        return f\"Mean: {self.mean}\\nStd: {self.std}\"\n",
    "\n",
    "class MexicanHat(nn.Module):\n",
    "    def __init__(self):\n",
    "        super().__init__()\n",
    "\n",
    "    def forward(self, X):\n",
    "        return (1 - X ** 2) * torch.exp(-1 / 2 * X ** 2)\n",
    "\n",
    "class TimeSeriesDataSet(torch.utils.data.Dataset):\n",
    "    def __init__(self, X, y):\n",
    "        self.X = X\n",
    "        self.y = y\n",
    "\n",
    "    def __len__(self):\n",
    "        return len(self.X)\n",
    "\n",
    "    def __getitem__(self, item):\n",
    "        return self.X[item], self.y[item]"
   ]
  },
  {
   "cell_type": "code",
   "execution_count": 4,
   "metadata": {
    "collapsed": false,
    "jupyter": {
     "outputs_hidden": false
    }
   },
   "outputs": [],
   "source": [
    "def train(model, criterion, optimizer, epochs, train_data, device= \"cuda\"):\n",
    "\n",
    "    best_eval_loss = torch.inf\n",
    "\n",
    "    train_loader = train_data[\"train\"]\n",
    "    val_loader = train_data[\"val\"]\n",
    "\n",
    "    epochs_bar = tqdm(range(epochs), desc= \"Epoch\")\n",
    "    for epoch in epochs_bar:\n",
    "        model.train()\n",
    "        for ind, (X_train_bt, y_train_bt) in enumerate(train_loader):\n",
    "            def closure():\n",
    "                optimizer.zero_grad()\n",
    "\n",
    "                train_preds = model(X_train_bt.to(device), device= device)\n",
    "                train_loss = criterion(train_preds, y_train_bt.to(device))\n",
    "\n",
    "                model.train()\n",
    "                train_loss.backward()\n",
    "                return train_loss\n",
    "\n",
    "            optimizer.step(closure)\n",
    "\n",
    "        avg_val_loss = 0\n",
    "        val_len = 0\n",
    "        standard_len = None\n",
    "\n",
    "        model.eval()\n",
    "        with torch.inference_mode():\n",
    "            for ind, (X_val_bt, y_val_bt) in enumerate(val_loader):\n",
    "                val_preds = model(X_val_bt.to(device), device= device)\n",
    "                val_loss = criterion(val_preds, y_val_bt.to(device))\n",
    "                # ingroup\n",
    "                avg_val_loss += val_loss.item()\n",
    "\n",
    "                if standard_len is None:\n",
    "                    standard_len = X_val_bt.shape[0]\n",
    "\n",
    "                val_len += (X_val_bt.shape[0] / standard_len)\n",
    "\n",
    "        # over group\n",
    "        avg_val_loss /= val_len\n",
    "\n",
    "        if avg_val_loss < best_eval_loss:\n",
    "            best_eval_loss = avg_val_loss\n",
    "            torch.save(model.state_dict(), \"best_model.pt\")\n",
    "\n",
    "        epochs_bar.set_description(f\"Epoch: {epoch + 1}/{epochs} Val loss: {avg_val_loss:.5f}. Best loss: {best_eval_loss:.5f}\")\n",
    "\n",
    "def eval(model, test_loader, metric, device= \"cuda\"):\n",
    "    model = model.to(device)\n",
    "\n",
    "    answer = []\n",
    "    y = []\n",
    "\n",
    "    model.eval()\n",
    "    with torch.inference_mode():\n",
    "        test_pbar = tqdm(enumerate(test_loader), desc= \"Batch\", total= len(test_loader), disable= True)\n",
    "        for ind, (X_test_bt, y_test_bt) in test_pbar:\n",
    "            test_pbar.set_description(f\"Test: {ind + 1}/{len(test_loader)}\")\n",
    "\n",
    "            test_preds = model(X_test_bt.to(device), device= device)\n",
    "\n",
    "            answer += list(test_preds.cpu().detach().numpy())\n",
    "            y += list(y_test_bt.cpu().detach().numpy())\n",
    "\n",
    "    return metric(np.array(y).reshape(-1), np.array(answer).reshape(-1))"
   ]
  },
  {
   "cell_type": "code",
   "execution_count": 5,
   "metadata": {
    "collapsed": false,
    "jupyter": {
     "outputs_hidden": false
    }
   },
   "outputs": [],
   "source": [
    "class WN(nn.Module):\n",
    "    def __init__(self, in_features, out_features, number_of_wavelons= 1):\n",
    "        super(WN, self).__init__()\n",
    "        self.in_features = in_features\n",
    "        self.out_features = out_features\n",
    "        self.number_of_wavelons = number_of_wavelons\n",
    "        # инициализация сдвига/растяжения/материнского wavelet'а\n",
    "        self.act = MexicanHat()\n",
    "        self.Tr = torch.nn.Parameter(torch.rand([number_of_wavelons, in_features], requires_grad= True)).to(\"cuda\")\n",
    "        self.Dil = torch.nn.Parameter(torch.rand([number_of_wavelons, in_features], requires_grad= True)).to(\"cuda\")\n",
    "        # для линейной модели\n",
    "        self.fc_linear = nn.Linear(self.in_features,self.out_features,bias= True).to(\"cuda\")\n",
    "        # для wavelon'ов\n",
    "        self.fc_wn = nn.Linear(self.number_of_wavelons,self.out_features,bias= False).to(\"cuda\")\n",
    "\n",
    "    def forward(self, x_array, device= \"cuda\"):\n",
    "        answer = torch.zeros(x_array.shape[0]).to(device)\n",
    "        for ind, x in enumerate(x_array):\n",
    "            X = x.repeat(self.number_of_wavelons, 1)\n",
    "\n",
    "            Z = X * self.Dil + self.Tr\n",
    "            Z_hat = self.act(Z)\n",
    "            z_hat = torch.prod(Z_hat, dim= 1)\n",
    "            answer[ind] = self.fc_wn(z_hat) + self.fc_linear(x)\n",
    "\n",
    "        return answer.reshape(-1, 1)"
   ]
  },
  {
   "cell_type": "code",
   "execution_count": 6,
   "metadata": {
    "collapsed": false,
    "jupyter": {
     "outputs_hidden": false
    }
   },
   "outputs": [],
   "source": [
    "def get_wapes(path, use_denoising, prices_not_returns):\n",
    "    if \"best_model.pt\" in os.listdir(\".\"):\n",
    "        os.remove(\"best_model.pt\")\n",
    "\n",
    "    result_dict = dict()\n",
    "\n",
    "    entries = os.listdir(path)\n",
    "    entries.remove(\".DS_Store\")\n",
    "\n",
    "    pbar = tqdm(entries, total= len(entries), desc= \"Company\")\n",
    "    for file in entries:\n",
    "        pbar.set_description(f\"{file[:-14]}\")\n",
    "        df = pd.read_csv(path + file if path[-1] == r\"/\" else path + r\"/\" + file).dropna()\n",
    "        series = np.array(df.Open, dtype= np.float32) if prices_not_returns else np.array(df.Open.pct_change(), dtype= np.float32)[1:]\n",
    "        series_initial = series[:]\n",
    "\n",
    "        scaler = StandardScaler()\n",
    "        scaler.fit(series)\n",
    "        series = scaler.transform(series)\n",
    "\n",
    "        if use_denoising:\n",
    "            _, series = SSA.multiple_stage_denoising(series, max_iter= 50)\n",
    "\n",
    "        X, _ = series_to_X_y(series, 10)\n",
    "        _, y = series_to_X_y(series_initial, 10)\n",
    "\n",
    "        X_train, X_test, y_train, y_test = train_test_split(X, y, test_size= 0.1, shuffle= False)\n",
    "        X_train, X_val, y_train, y_val = train_test_split(X_train, y_train, test_size= 0.2, shuffle= False)\n",
    "\n",
    "        net_struct = [X_train.shape[1], 1, 5]\n",
    "\n",
    "        model = WN(*net_struct)\n",
    "        criterion = nn.MSELoss()\n",
    "        optimizer = optim.LBFGS(model.parameters(), history_size= 20)#AdamW(model.parameters(), lr= 3e-4, amsgrad= True)#\n",
    "        metrics = wape\n",
    "        device = \"cuda\" if torch.cuda.is_available() else \"cpu\"\n",
    "        epochs = 30\n",
    "\n",
    "        train_dataset = TimeSeriesDataSet(X_train, y_train)\n",
    "        val_dataset = TimeSeriesDataSet(X_val, y_val)\n",
    "        test_dataset = TimeSeriesDataSet(X_test, y_test)\n",
    "\n",
    "        train_loader = torch.utils.data.DataLoader(train_dataset, batch_size= 256, shuffle= False)\n",
    "        val_loader = torch.utils.data.DataLoader(val_dataset, batch_size= 256, shuffle= False)\n",
    "        test_loader = torch.utils.data.DataLoader(test_dataset, batch_size= 256, shuffle= False)\n",
    "\n",
    "        train_params = {\n",
    "            \"model\": model,\n",
    "            \"criterion\": criterion,\n",
    "            \"optimizer\": optimizer,\n",
    "            \"epochs\": epochs,\n",
    "            \"train_data\": {\n",
    "                \"train\": train_loader,\n",
    "                \"val\": val_loader\n",
    "            },\n",
    "            \"device\": device\n",
    "        }\n",
    "        train(**train_params)\n",
    "\n",
    "        model = WN(*net_struct)\n",
    "        model.load_state_dict(torch.load(\"best_model.pt\"))\n",
    "\n",
    "        result_wape = eval(model, test_loader, metrics, device)\n",
    "        result_dict[file[:-14]] = result_wape\n",
    "\n",
    "        print(f\"{file[:-14]}: Test: {result_wape:.5f}\")\n",
    "        os.remove(\"best_model.pt\")\n",
    "\n",
    "    return result_dict"
   ]
  },
  {
   "cell_type": "code",
   "execution_count": null,
   "metadata": {
    "collapsed": false,
    "jupyter": {
     "outputs_hidden": false
    },
    "pycharm": {
     "is_executing": true
    }
   },
   "outputs": [
    {
     "data": {
      "application/vnd.jupyter.widget-view+json": {
       "model_id": "1686f7155af74846bd85a386334eeb42",
       "version_major": 2,
       "version_minor": 0
      },
      "text/plain": [
       "Company:   0%|          | 0/15 [00:00<?, ?it/s]"
      ]
     },
     "metadata": {},
     "output_type": "display_data"
    },
    {
     "data": {
      "application/vnd.jupyter.widget-view+json": {
       "model_id": "55f8fbd208cd466680a34b8721b650ab",
       "version_major": 2,
       "version_minor": 0
      },
      "text/plain": [
       "Epoch:   0%|          | 0/30 [00:00<?, ?it/s]"
      ]
     },
     "metadata": {},
     "output_type": "display_data"
    },
    {
     "name": "stdout",
     "output_type": "stream",
     "text": [
      "AMZN: Test: 1.95137\n"
     ]
    },
    {
     "data": {
      "application/vnd.jupyter.widget-view+json": {
       "model_id": "841ccedb8624479f96bf6602a1a626de",
       "version_major": 2,
       "version_minor": 0
      },
      "text/plain": [
       "Epoch:   0%|          | 0/30 [00:00<?, ?it/s]"
      ]
     },
     "metadata": {},
     "output_type": "display_data"
    },
    {
     "name": "stdout",
     "output_type": "stream",
     "text": [
      "MSFT: Test: 48.86101\n"
     ]
    },
    {
     "data": {
      "application/vnd.jupyter.widget-view+json": {
       "model_id": "bad2ee3975604d01989ecd19a103e83b",
       "version_major": 2,
       "version_minor": 0
      },
      "text/plain": [
       "Epoch:   0%|          | 0/30 [00:00<?, ?it/s]"
      ]
     },
     "metadata": {},
     "output_type": "display_data"
    },
    {
     "name": "stdout",
     "output_type": "stream",
     "text": [
      "GM: Test: 2.32108\n"
     ]
    },
    {
     "data": {
      "application/vnd.jupyter.widget-view+json": {
       "model_id": "f0a10bdcfea34f24a7182d6e0d245398",
       "version_major": 2,
       "version_minor": 0
      },
      "text/plain": [
       "Epoch:   0%|          | 0/30 [00:00<?, ?it/s]"
      ]
     },
     "metadata": {},
     "output_type": "display_data"
    },
    {
     "name": "stdout",
     "output_type": "stream",
     "text": [
      "UBER: Test: 3.16840\n"
     ]
    },
    {
     "data": {
      "application/vnd.jupyter.widget-view+json": {
       "model_id": "33bf9c675deb43e38dbba32e8b1186ec",
       "version_major": 2,
       "version_minor": 0
      },
      "text/plain": [
       "Epoch:   0%|          | 0/30 [00:00<?, ?it/s]"
      ]
     },
     "metadata": {},
     "output_type": "display_data"
    },
    {
     "name": "stdout",
     "output_type": "stream",
     "text": [
      "Coca Cola: Test: 1.67915\n"
     ]
    },
    {
     "data": {
      "application/vnd.jupyter.widget-view+json": {
       "model_id": "ffe55914b3394cd6a9742d533a4750d7",
       "version_major": 2,
       "version_minor": 0
      },
      "text/plain": [
       "Epoch:   0%|          | 0/30 [00:00<?, ?it/s]"
      ]
     },
     "metadata": {},
     "output_type": "display_data"
    },
    {
     "name": "stdout",
     "output_type": "stream",
     "text": [
      "EBAY: Test: 1.94171\n"
     ]
    },
    {
     "data": {
      "application/vnd.jupyter.widget-view+json": {
       "model_id": "e0c1c7bf08914e6d8d1be457694236dd",
       "version_major": 2,
       "version_minor": 0
      },
      "text/plain": [
       "Epoch:   0%|          | 0/30 [00:00<?, ?it/s]"
      ]
     },
     "metadata": {},
     "output_type": "display_data"
    },
    {
     "name": "stdout",
     "output_type": "stream",
     "text": [
      "DIS: Test: 1.72742\n"
     ]
    },
    {
     "data": {
      "application/vnd.jupyter.widget-view+json": {
       "model_id": "484f9cfc58ca4545aba891ce72ca49a4",
       "version_major": 2,
       "version_minor": 0
      },
      "text/plain": [
       "Epoch:   0%|          | 0/30 [00:00<?, ?it/s]"
      ]
     },
     "metadata": {},
     "output_type": "display_data"
    },
    {
     "name": "stdout",
     "output_type": "stream",
     "text": [
      "FORD: Test: 2.11005\n"
     ]
    },
    {
     "data": {
      "application/vnd.jupyter.widget-view+json": {
       "model_id": "c604c05f5f774546b5b5bfbfb6180d32",
       "version_major": 2,
       "version_minor": 0
      },
      "text/plain": [
       "Epoch:   0%|          | 0/30 [00:00<?, ?it/s]"
      ]
     },
     "metadata": {},
     "output_type": "display_data"
    },
    {
     "name": "stdout",
     "output_type": "stream",
     "text": [
      "NFLX: Test: 1.94619\n"
     ]
    },
    {
     "data": {
      "application/vnd.jupyter.widget-view+json": {
       "model_id": "3a1593d299954a85a4bf405cffca7016",
       "version_major": 2,
       "version_minor": 0
      },
      "text/plain": [
       "Epoch:   0%|          | 0/30 [00:00<?, ?it/s]"
      ]
     },
     "metadata": {},
     "output_type": "display_data"
    },
    {
     "name": "stdout",
     "output_type": "stream",
     "text": [
      "NKE: Test: 1.48087\n"
     ]
    },
    {
     "data": {
      "application/vnd.jupyter.widget-view+json": {
       "model_id": "5b79fe72f5024f59a0dd0ef742020ee9",
       "version_major": 2,
       "version_minor": 0
      },
      "text/plain": [
       "Epoch:   0%|          | 0/30 [00:00<?, ?it/s]"
      ]
     },
     "metadata": {},
     "output_type": "display_data"
    },
    {
     "name": "stdout",
     "output_type": "stream",
     "text": [
      "GE: Test: 2.41970\n"
     ]
    },
    {
     "data": {
      "application/vnd.jupyter.widget-view+json": {
       "model_id": "5e2005c42df14431b0470216164fadf2",
       "version_major": 2,
       "version_minor": 0
      },
      "text/plain": [
       "Epoch:   0%|          | 0/30 [00:00<?, ?it/s]"
      ]
     },
     "metadata": {},
     "output_type": "display_data"
    },
    {
     "name": "stdout",
     "output_type": "stream",
     "text": [
      "WMT: Test: 3.89498\n"
     ]
    },
    {
     "data": {
      "application/vnd.jupyter.widget-view+json": {
       "model_id": "fd693f15f5ea459494de3fdb9f7d0353",
       "version_major": 2,
       "version_minor": 0
      },
      "text/plain": [
       "Epoch:   0%|          | 0/30 [00:00<?, ?it/s]"
      ]
     },
     "metadata": {},
     "output_type": "display_data"
    },
    {
     "name": "stdout",
     "output_type": "stream",
     "text": [
      "INTC: Test: 1.95193\n"
     ]
    },
    {
     "data": {
      "application/vnd.jupyter.widget-view+json": {
       "model_id": "bfc61bfec598448b9b4d3152d082c5a0",
       "version_major": 2,
       "version_minor": 0
      },
      "text/plain": [
       "Epoch:   0%|          | 0/30 [00:00<?, ?it/s]"
      ]
     },
     "metadata": {},
     "output_type": "display_data"
    },
    {
     "name": "stdout",
     "output_type": "stream",
     "text": [
      "GOOG: Test: 1.42292\n"
     ]
    },
    {
     "data": {
      "application/vnd.jupyter.widget-view+json": {
       "model_id": "c9455e36fac349a28d45b9714c814a07",
       "version_major": 2,
       "version_minor": 0
      },
      "text/plain": [
       "Epoch:   0%|          | 0/30 [00:00<?, ?it/s]"
      ]
     },
     "metadata": {},
     "output_type": "display_data"
    },
    {
     "name": "stdout",
     "output_type": "stream",
     "text": [
      "AAPL: Test: 1.80235\n"
     ]
    },
    {
     "data": {
      "application/vnd.jupyter.widget-view+json": {
       "model_id": "ccaa4f3c493f4f3ba1452dd2c62e1048",
       "version_major": 2,
       "version_minor": 0
      },
      "text/plain": [
       "Company:   0%|          | 0/15 [00:00<?, ?it/s]"
      ]
     },
     "metadata": {},
     "output_type": "display_data"
    },
    {
     "data": {
      "application/vnd.jupyter.widget-view+json": {
       "model_id": "dc8f29e0106a48e08e6249e611b4cb79",
       "version_major": 2,
       "version_minor": 0
      },
      "text/plain": [
       "Epoch:   0%|          | 0/30 [00:00<?, ?it/s]"
      ]
     },
     "metadata": {},
     "output_type": "display_data"
    },
    {
     "name": "stdout",
     "output_type": "stream",
     "text": [
      "AMZN: Test: 111.91950\n"
     ]
    },
    {
     "data": {
      "application/vnd.jupyter.widget-view+json": {
       "model_id": "c140cc032d8849aeba075d0a7dd1d027",
       "version_major": 2,
       "version_minor": 0
      },
      "text/plain": [
       "Epoch:   0%|          | 0/30 [00:00<?, ?it/s]"
      ]
     },
     "metadata": {},
     "output_type": "display_data"
    },
    {
     "name": "stdout",
     "output_type": "stream",
     "text": [
      "MSFT: Test: 101.16503\n"
     ]
    },
    {
     "data": {
      "application/vnd.jupyter.widget-view+json": {
       "model_id": "2d15c7f5125f4a7ba4fcd9b083c8c782",
       "version_major": 2,
       "version_minor": 0
      },
      "text/plain": [
       "Epoch:   0%|          | 0/30 [00:00<?, ?it/s]"
      ]
     },
     "metadata": {},
     "output_type": "display_data"
    },
    {
     "name": "stdout",
     "output_type": "stream",
     "text": [
      "GM: Test: 125.85751\n"
     ]
    },
    {
     "data": {
      "application/vnd.jupyter.widget-view+json": {
       "model_id": "2af4aaa490c143bb94bc4058941a3a90",
       "version_major": 2,
       "version_minor": 0
      },
      "text/plain": [
       "Epoch:   0%|          | 0/30 [00:00<?, ?it/s]"
      ]
     },
     "metadata": {},
     "output_type": "display_data"
    },
    {
     "name": "stdout",
     "output_type": "stream",
     "text": [
      "UBER: Test: 106.98364\n"
     ]
    },
    {
     "data": {
      "application/vnd.jupyter.widget-view+json": {
       "model_id": "b8d8a2f61c294108b23a186d3cc8859e",
       "version_major": 2,
       "version_minor": 0
      },
      "text/plain": [
       "Epoch:   0%|          | 0/30 [00:00<?, ?it/s]"
      ]
     },
     "metadata": {},
     "output_type": "display_data"
    },
    {
     "name": "stdout",
     "output_type": "stream",
     "text": [
      "Coca Cola: Test: 143.47063\n"
     ]
    },
    {
     "data": {
      "application/vnd.jupyter.widget-view+json": {
       "model_id": "fd0b32e579b64fa796fb3dbb0a12066b",
       "version_major": 2,
       "version_minor": 0
      },
      "text/plain": [
       "Epoch:   0%|          | 0/30 [00:00<?, ?it/s]"
      ]
     },
     "metadata": {},
     "output_type": "display_data"
    },
    {
     "name": "stdout",
     "output_type": "stream",
     "text": [
      "EBAY: Test: 623.63052\n"
     ]
    },
    {
     "data": {
      "application/vnd.jupyter.widget-view+json": {
       "model_id": "4c59f732cebd4d7c8ec5f8a7e77f479b",
       "version_major": 2,
       "version_minor": 0
      },
      "text/plain": [
       "Epoch:   0%|          | 0/30 [00:00<?, ?it/s]"
      ]
     },
     "metadata": {},
     "output_type": "display_data"
    }
   ],
   "source": [
    "us_prices = {\n",
    "    \"path\": \"../Data/American Companies/\",\n",
    "    \"use_denoising\": False,\n",
    "    \"prices_not_returns\": True\n",
    "}\n",
    "us_returns = {\n",
    "    \"path\": \"../Data/American Companies/\",\n",
    "    \"use_denoising\": False,\n",
    "    \"prices_not_returns\": False\n",
    "}\n",
    "\n",
    "result_us_prices = get_wapes(**us_prices)\n",
    "result_us_returns = get_wapes(**us_returns)\n",
    "\n",
    "us_result_df = pd.DataFrame({\n",
    "    \"Company\": result_us_prices.keys(),\n",
    "    \"WAPE (price)\": result_us_prices.values(),\n",
    "    \"WAPE (return)\": result_us_returns.values()\n",
    "})\n",
    "\n",
    "us_result_df.to_csv(\"wn_us.csv\", index= False)"
   ]
  },
  {
   "cell_type": "code",
   "execution_count": null,
   "metadata": {
    "collapsed": false,
    "jupyter": {
     "outputs_hidden": false
    }
   },
   "outputs": [],
   "source": [
    "ch_prices = {\n",
    "    \"path\": \"../Data/Chinese Companies/\",\n",
    "    \"use_denoising\": False,\n",
    "    \"prices_not_returns\": True\n",
    "}\n",
    "ch_returns = {\n",
    "    \"path\": \"../Data/Chinese Companies/\",\n",
    "    \"use_denoising\": False,\n",
    "    \"prices_not_returns\": False\n",
    "}\n",
    "\n",
    "result_ch_prices = get_wapes(**ch_prices)\n",
    "result_ch_returns = get_wapes(**ch_returns)\n",
    "\n",
    "ch_result_df = pd.DataFrame({\n",
    "    \"Company\": result_ch_prices.keys(),\n",
    "    \"WAPE (price)\": result_ch_prices.values(),\n",
    "    \"WAPE (return)\": result_ch_returns.values()\n",
    "})\n",
    "\n",
    "ch_result_df.to_csv(\"wn_ch.csv\", index= False)"
   ]
  },
  {
   "cell_type": "markdown",
   "metadata": {},
   "source": [
    "# MSSA + WN"
   ]
  },
  {
   "cell_type": "code",
   "execution_count": null,
   "metadata": {
    "collapsed": false,
    "jupyter": {
     "outputs_hidden": false
    }
   },
   "outputs": [],
   "source": [
    "us_prices = {\n",
    "    \"path\": \"../Data/American Companies/\",\n",
    "    \"use_denoising\": True,\n",
    "    \"prices_not_returns\": True\n",
    "}\n",
    "us_returns = {\n",
    "    \"path\": \"../Data/American Companies/\",\n",
    "    \"use_denoising\": True,\n",
    "    \"prices_not_returns\": False\n",
    "}\n",
    "\n",
    "result_us_prices = get_wapes(**us_prices)\n",
    "result_us_returns = get_wapes(**us_returns)\n",
    "\n",
    "us_result_df = pd.DataFrame({\n",
    "    \"Company\": result_us_prices.keys(),\n",
    "    \"WAPE (price)\": result_us_prices.values(),\n",
    "    \"WAPE (return)\": result_us_returns.values()\n",
    "})\n",
    "\n",
    "us_result_df.to_csv(\"mssa_wn_us.csv\", index=False)"
   ]
  },
  {
   "cell_type": "code",
   "execution_count": null,
   "metadata": {
    "collapsed": false,
    "jupyter": {
     "outputs_hidden": false
    }
   },
   "outputs": [],
   "source": [
    "ch_prices = {\n",
    "    \"path\": \"../Data/Chinese Companies/\",\n",
    "    \"use_denoising\": True,\n",
    "    \"prices_not_returns\": True\n",
    "}\n",
    "ch_returns = {\n",
    "    \"path\": \"../Data/Chinese Companies/\",\n",
    "    \"use_denoising\": True,\n",
    "    \"prices_not_returns\": False\n",
    "}\n",
    "\n",
    "result_ch_prices = get_wapes(**ch_prices)\n",
    "result_ch_returns = get_wapes(**ch_returns)\n",
    "\n",
    "ch_result_df = pd.DataFrame({\n",
    "    \"Company\": result_ch_prices.keys(),\n",
    "    \"WAPE (price)\": result_ch_prices.values(),\n",
    "    \"WAPE (return)\": result_ch_returns.values()\n",
    "})\n",
    "\n",
    "ch_result_df.to_csv(\"mssa_wn_ch.csv\", index=False)"
   ]
  },
  {
   "cell_type": "code",
   "execution_count": null,
   "metadata": {
    "collapsed": false,
    "jupyter": {
     "outputs_hidden": false
    }
   },
   "outputs": [],
   "source": []
  }
 ],
 "metadata": {
  "kernelspec": {
   "display_name": "Python 3.10 (XPython)",
   "language": "python",
   "name": "xpython"
  },
  "language_info": {
   "file_extension": ".py",
   "mimetype": "text/x-python",
   "name": "python",
   "version": "3.10.8"
  }
 },
 "nbformat": 4,
 "nbformat_minor": 4
}
