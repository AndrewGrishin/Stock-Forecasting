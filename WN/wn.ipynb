{
 "cells": [
  {
   "cell_type": "code",
   "execution_count": 1,
   "metadata": {
    "tags": []
   },
   "outputs": [],
   "source": [
    "import torch\n",
    "from torch import nn, optim\n",
    "from Functions.SSA import SSA\n",
    "from Functions.lions_optimizer import Lion\n",
    "\n",
    "import os\n",
    "import pandas as pd\n",
    "from sklearn.model_selection import train_test_split\n",
    "from tqdm.notebook import tqdm\n",
    "import numpy as np\n",
    "\n",
    "# воспроизводимость\n",
    "torch.manual_seed(42)\n",
    "torch.backends.cudnn.deterministic = True\n",
    "np.random.seed(42)\n",
    "import random\n",
    "random.seed(42)\n",
    "torch.backends.cudnn.benchmark = False\n",
    "torch.backends.cudnn.enabled = False"
   ]
  },
  {
   "cell_type": "code",
   "execution_count": 2,
   "metadata": {
    "collapsed": false,
    "jupyter": {
     "outputs_hidden": false
    }
   },
   "outputs": [],
   "source": [
    "def wape(y, y_hat):\n",
    "    return np.sum(np.abs(y - y_hat)) / np.sum(np.abs(y)) * 100\n",
    "\n",
    "def series_to_X_y(series, window_size):\n",
    "    X = []\n",
    "    y = []\n",
    "    for i in range(len(series) - window_size):\n",
    "        row = list(map(lambda a: a, series[i:i + window_size]))\n",
    "        X.append(np.array(row))\n",
    "        col = [series[i + window_size]]\n",
    "        y.append(np.array(col))\n",
    "\n",
    "    return np.array(X), np.array(y)"
   ]
  },
  {
   "cell_type": "code",
   "execution_count": 3,
   "metadata": {
    "collapsed": false,
    "jupyter": {
     "outputs_hidden": false
    }
   },
   "outputs": [],
   "source": [
    "class MinMaxScaler():\n",
    "    def __init__(self):\n",
    "        self.min = 0\n",
    "        self.max = 1\n",
    "\n",
    "    def fit(self, data):\n",
    "        self.min = data.min()\n",
    "        self.max = data.max()\n",
    "\n",
    "    def transform(self, data):\n",
    "        return (data - self.min) / (self.max - self.min)\n",
    "\n",
    "    def inverse_transform(self, data):\n",
    "        return (self.max - self.min) * data + self.min\n",
    "\n",
    "    def __str__(self):\n",
    "        return f\"Min: {self.min}\\nMax: {self.max}\"\n",
    "\n",
    "class StandardScaler():\n",
    "    def __init__(self):\n",
    "        self.mean = 0\n",
    "        self.std = 1\n",
    "\n",
    "    def fit(self, data):\n",
    "        self.mean = data.mean()\n",
    "        self.std = data.std()\n",
    "\n",
    "    def transform(self, data):\n",
    "        return (data - self.mean) / self.std\n",
    "\n",
    "    def inverse_transform(self, data):\n",
    "        return self.std * data + self.mean\n",
    "\n",
    "    def __str__(self):\n",
    "        return f\"Mean: {self.mean}\\nStd: {self.std}\"\n",
    "\n",
    "class MexicanHat(nn.Module):\n",
    "    def __init__(self):\n",
    "        super().__init__()\n",
    "\n",
    "    def forward(self, X):\n",
    "        return (1 - X ** 2) * torch.exp(-1 / 2 * X ** 2)\n",
    "\n",
    "class TimeSeriesDataSet(torch.utils.data.Dataset):\n",
    "    def __init__(self, X, y):\n",
    "        self.X = X\n",
    "        self.y = y\n",
    "\n",
    "    def __len__(self):\n",
    "        return len(self.X)\n",
    "\n",
    "    def __getitem__(self, item):\n",
    "        return self.X[item], self.y[item]"
   ]
  },
  {
   "cell_type": "code",
   "execution_count": 4,
   "metadata": {
    "collapsed": false,
    "jupyter": {
     "outputs_hidden": false
    }
   },
   "outputs": [],
   "source": [
    "def train(model, criterion, optimizer, epochs, train_data, device= \"cuda\"):\n",
    "\n",
    "    best_eval_loss = torch.inf\n",
    "\n",
    "    train_loader = train_data[\"train\"]\n",
    "    val_loader = train_data[\"val\"]\n",
    "\n",
    "    epochs_bar = tqdm(range(epochs), desc= \"Epoch\")\n",
    "    for epoch in epochs_bar:\n",
    "        model.train()\n",
    "        for ind, (X_train_bt, y_train_bt) in enumerate(train_loader):\n",
    "            def closure():\n",
    "                optimizer.zero_grad()\n",
    "\n",
    "                train_preds = model(X_train_bt.to(device), device= device)\n",
    "                train_loss = criterion(train_preds, y_train_bt.to(device))\n",
    "\n",
    "                model.train()\n",
    "                train_loss.backward()\n",
    "                return train_loss\n",
    "\n",
    "            optimizer.step(closure)\n",
    "\n",
    "        avg_val_loss = 0\n",
    "        val_len = 0\n",
    "        standard_len = None\n",
    "\n",
    "        model.eval()\n",
    "        with torch.inference_mode():\n",
    "            for ind, (X_val_bt, y_val_bt) in enumerate(val_loader):\n",
    "                val_preds = model(X_val_bt.to(device), device= device)\n",
    "                val_loss = criterion(val_preds, y_val_bt.to(device))\n",
    "                # ingroup\n",
    "                avg_val_loss += val_loss.item()\n",
    "\n",
    "                if standard_len is None:\n",
    "                    standard_len = X_val_bt.shape[0]\n",
    "\n",
    "                val_len += (X_val_bt.shape[0] / standard_len)\n",
    "\n",
    "        # over group\n",
    "        avg_val_loss /= val_len\n",
    "\n",
    "        if avg_val_loss < best_eval_loss:\n",
    "            best_eval_loss = avg_val_loss\n",
    "            torch.save(model.state_dict(), \"best_model.pt\")\n",
    "\n",
    "        epochs_bar.set_description(f\"Epoch: {epoch + 1}/{epochs} Val loss: {avg_val_loss:.5f}. Best loss: {best_eval_loss:.5f}\")\n",
    "\n",
    "def eval(model, test_loader, metric, device= \"cuda\"):\n",
    "    model = model.to(device)\n",
    "\n",
    "    answer = []\n",
    "    y = []\n",
    "\n",
    "    model.eval()\n",
    "    with torch.inference_mode():\n",
    "        test_pbar = tqdm(enumerate(test_loader), desc= \"Batch\", total= len(test_loader), disable= True)\n",
    "        for ind, (X_test_bt, y_test_bt) in test_pbar:\n",
    "            test_pbar.set_description(f\"Test: {ind + 1}/{len(test_loader)}\")\n",
    "\n",
    "            test_preds = model(X_test_bt.to(device), device= device)\n",
    "\n",
    "            answer += list(test_preds.cpu().detach().numpy())\n",
    "            y += list(y_test_bt.cpu().detach().numpy())\n",
    "\n",
    "    return metric(np.array(y).reshape(-1), np.array(answer).reshape(-1))"
   ]
  },
  {
   "cell_type": "code",
   "execution_count": 5,
   "metadata": {
    "collapsed": false,
    "jupyter": {
     "outputs_hidden": false
    }
   },
   "outputs": [],
   "source": [
    "class WN(nn.Module):\n",
    "    def __init__(self, in_features, out_features, number_of_wavelons= 1):\n",
    "        super(WN, self).__init__()\n",
    "        self.in_features = in_features\n",
    "        self.out_features = out_features\n",
    "        self.number_of_wavelons = number_of_wavelons\n",
    "        # инициализация сдвига/растяжения/материнского wavelet'а\n",
    "        self.act = MexicanHat()\n",
    "        self.Tr = torch.nn.Parameter(torch.rand([number_of_wavelons, in_features], requires_grad= True)).to(\"cuda\")\n",
    "        self.Dil = torch.nn.Parameter(torch.rand([number_of_wavelons, in_features], requires_grad= True)).to(\"cuda\")\n",
    "        # для линейной модели\n",
    "        self.fc_linear = nn.Linear(self.in_features,self.out_features,bias= True).to(\"cuda\")\n",
    "        # для wavelon'ов\n",
    "        self.fc_wn = nn.Linear(self.number_of_wavelons,self.out_features,bias= False).to(\"cuda\")\n",
    "\n",
    "    def forward(self, x_array, device= \"cuda\"):\n",
    "        answer = torch.zeros(x_array.shape[0]).to(device)\n",
    "        for ind, x in enumerate(x_array):\n",
    "            X = x.repeat(self.number_of_wavelons, 1)\n",
    "\n",
    "            Z = X * self.Dil + self.Tr\n",
    "            Z_hat = self.act(Z)\n",
    "            z_hat = torch.prod(Z_hat, dim= 1)\n",
    "            answer[ind] = self.fc_wn(z_hat) + self.fc_linear(x)\n",
    "\n",
    "        return answer.reshape(-1, 1)"
   ]
  },
  {
   "cell_type": "code",
   "execution_count": 6,
   "metadata": {
    "collapsed": false,
    "jupyter": {
     "outputs_hidden": false
    }
   },
   "outputs": [],
   "source": [
    "def get_wapes(path, use_denoising, prices_not_returns):\n",
    "    if \"best_model.pt\" in os.listdir(\".\"):\n",
    "        os.remove(\"best_model.pt\")\n",
    "\n",
    "    result_dict = dict()\n",
    "\n",
    "    entries = os.listdir(path)\n",
    "    entries.remove(\".DS_Store\")\n",
    "\n",
    "    pbar = tqdm(entries, total= len(entries), desc= \"Company\")\n",
    "    for file in pbar:\n",
    "        pbar.set_description(f\"{file[:-14]}\")\n",
    "        df = pd.read_csv(path + file if path[-1] == r\"/\" else path + r\"/\" + file).dropna()\n",
    "        series = np.array(df.Open, dtype= np.float32) if prices_not_returns else np.array(df.Open.pct_change(), dtype= np.float32)[1:]\n",
    "        series_initial = series[:]\n",
    "\n",
    "        scaler = StandardScaler()\n",
    "        scaler.fit(series)\n",
    "        series = scaler.transform(series)\n",
    "\n",
    "        if use_denoising:\n",
    "            _, series = SSA.multiple_stage_denoising(series, max_iter= 50)\n",
    "            series = series.astype(np.float32)\n",
    "\n",
    "        X, _ = series_to_X_y(series, 10)\n",
    "        _, y = series_to_X_y(series_initial, 10)\n",
    "\n",
    "        X_train, X_test, y_train, y_test = train_test_split(X, y, test_size= 0.1, shuffle= False)\n",
    "        X_train, X_val, y_train, y_val = train_test_split(X_train, y_train, test_size= 0.2, shuffle= False)\n",
    "\n",
    "        net_struct = [X_train.shape[1], 1, 5]\n",
    "\n",
    "        model = WN(*net_struct)\n",
    "        criterion = nn.MSELoss()\n",
    "        optimizer = optim.LBFGS(model.parameters(), history_size= 20)\n",
    "        metrics = wape\n",
    "        device = \"cuda\" if torch.cuda.is_available() else \"cpu\"\n",
    "        epochs = 30\n",
    "\n",
    "        train_dataset = TimeSeriesDataSet(X_train, y_train)\n",
    "        val_dataset = TimeSeriesDataSet(X_val, y_val)\n",
    "        test_dataset = TimeSeriesDataSet(X_test, y_test)\n",
    "\n",
    "        train_loader = torch.utils.data.DataLoader(train_dataset, batch_size= 256, shuffle= False)\n",
    "        val_loader = torch.utils.data.DataLoader(val_dataset, batch_size= 256, shuffle= False)\n",
    "        test_loader = torch.utils.data.DataLoader(test_dataset, batch_size= 256, shuffle= False)\n",
    "\n",
    "        train_params = {\n",
    "            \"model\": model,\n",
    "            \"criterion\": criterion,\n",
    "            \"optimizer\": optimizer,\n",
    "            \"epochs\": epochs,\n",
    "            \"train_data\": {\n",
    "                \"train\": train_loader,\n",
    "                \"val\": val_loader\n",
    "            },\n",
    "            \"device\": device\n",
    "        }\n",
    "        train(**train_params)\n",
    "\n",
    "        model = WN(*net_struct)\n",
    "        model.load_state_dict(torch.load(\"best_model.pt\"))\n",
    "\n",
    "        result_wape = eval(model, test_loader, metrics, device)\n",
    "        result_dict[file[:-14]] = result_wape\n",
    "\n",
    "        print(f\"{file[:-14]}: Test: {result_wape:.5f}\")\n",
    "        os.remove(\"best_model.pt\")\n",
    "\n",
    "    return result_dict"
   ]
  },
  {
   "cell_type": "code",
   "execution_count": 7,
   "metadata": {
    "collapsed": false,
    "jupyter": {
     "outputs_hidden": false
    },
    "pycharm": {
     "is_executing": true
    }
   },
   "outputs": [],
   "source": [
    "# us_prices = {\n",
    "#     \"path\": \"../Data/American Companies/\",\n",
    "#     \"use_denoising\": False,\n",
    "#     \"prices_not_returns\": True\n",
    "# }\n",
    "# us_returns = {\n",
    "#     \"path\": \"../Data/American Companies/\",\n",
    "#     \"use_denoising\": False,\n",
    "#     \"prices_not_returns\": False\n",
    "# }\n",
    "\n",
    "# result_us_prices = get_wapes(**us_prices)\n",
    "# result_us_returns = get_wapes(**us_returns)\n",
    "\n",
    "# us_result_df = pd.DataFrame({\n",
    "#     \"Company\": result_us_prices.keys(),\n",
    "#     \"WAPE (price)\": result_us_prices.values(),\n",
    "#     \"WAPE (return)\": result_us_returns.values()\n",
    "# })\n",
    "\n",
    "# us_result_df.to_csv(\"wn_us.csv\", index= False)"
   ]
  },
  {
   "cell_type": "code",
   "execution_count": 8,
   "metadata": {
    "collapsed": false,
    "jupyter": {
     "outputs_hidden": false
    }
   },
   "outputs": [],
   "source": [
    "# ch_prices = {\n",
    "#     \"path\": \"../Data/Chinese Companies/\",\n",
    "#     \"use_denoising\": False,\n",
    "#     \"prices_not_returns\": True\n",
    "# }\n",
    "# ch_returns = {\n",
    "#     \"path\": \"../Data/Chinese Companies/\",\n",
    "#     \"use_denoising\": False,\n",
    "#     \"prices_not_returns\": False\n",
    "# }\n",
    "\n",
    "# result_ch_prices = get_wapes(**ch_prices)\n",
    "# result_ch_returns = get_wapes(**ch_returns)\n",
    "\n",
    "# ch_result_df = pd.DataFrame({\n",
    "#     \"Company\": result_ch_prices.keys(),\n",
    "#     \"WAPE (price)\": result_ch_prices.values(),\n",
    "#     \"WAPE (return)\": result_ch_returns.values()\n",
    "# })\n",
    "\n",
    "# ch_result_df.to_csv(\"wn_ch.csv\", index= False)"
   ]
  },
  {
   "cell_type": "markdown",
   "metadata": {},
   "source": [
    "# MSSA + WN"
   ]
  },
  {
   "cell_type": "code",
   "execution_count": 9,
   "metadata": {
    "collapsed": false,
    "jupyter": {
     "outputs_hidden": false
    }
   },
   "outputs": [
    {
     "data": {
      "application/vnd.jupyter.widget-view+json": {
       "model_id": "0484ee55fe904c828f4988318e2098df",
       "version_major": 2,
       "version_minor": 0
      },
      "text/plain": [
       "Company:   0%|          | 0/15 [00:00<?, ?it/s]"
      ]
     },
     "metadata": {},
     "output_type": "display_data"
    },
    {
     "data": {
      "application/vnd.jupyter.widget-view+json": {
       "model_id": "9e7c29ed39324671af761406c9e44609",
       "version_major": 2,
       "version_minor": 0
      },
      "text/plain": [
       "Dividing loop:   0%|          | 0/50 [00:00<?, ?it/s]"
      ]
     },
     "metadata": {},
     "output_type": "display_data"
    },
    {
     "data": {
      "application/vnd.jupyter.widget-view+json": {
       "model_id": "68950783167d40ac90e0a889a42870c6",
       "version_major": 2,
       "version_minor": 0
      },
      "text/plain": [
       "Epoch:   0%|          | 0/30 [00:00<?, ?it/s]"
      ]
     },
     "metadata": {},
     "output_type": "display_data"
    },
    {
     "name": "stdout",
     "output_type": "stream",
     "text": [
      "AMZN: Test: 9.97068\n"
     ]
    },
    {
     "data": {
      "application/vnd.jupyter.widget-view+json": {
       "model_id": "9dd35814646343f6a4b4b7adfb934177",
       "version_major": 2,
       "version_minor": 0
      },
      "text/plain": [
       "Dividing loop:   0%|          | 0/50 [00:00<?, ?it/s]"
      ]
     },
     "metadata": {},
     "output_type": "display_data"
    },
    {
     "data": {
      "application/vnd.jupyter.widget-view+json": {
       "model_id": "761f31e013ae4773a4c7cc2824af12f9",
       "version_major": 2,
       "version_minor": 0
      },
      "text/plain": [
       "Epoch:   0%|          | 0/30 [00:00<?, ?it/s]"
      ]
     },
     "metadata": {},
     "output_type": "display_data"
    },
    {
     "name": "stdout",
     "output_type": "stream",
     "text": [
      "MSFT: Test: 151.42360\n"
     ]
    },
    {
     "data": {
      "application/vnd.jupyter.widget-view+json": {
       "model_id": "710993322d7a4304bc0a203efc867839",
       "version_major": 2,
       "version_minor": 0
      },
      "text/plain": [
       "Dividing loop:   0%|          | 0/50 [00:00<?, ?it/s]"
      ]
     },
     "metadata": {},
     "output_type": "display_data"
    },
    {
     "data": {
      "application/vnd.jupyter.widget-view+json": {
       "model_id": "e0479249b2e74fe5b210315ad40969cb",
       "version_major": 2,
       "version_minor": 0
      },
      "text/plain": [
       "Epoch:   0%|          | 0/30 [00:00<?, ?it/s]"
      ]
     },
     "metadata": {},
     "output_type": "display_data"
    },
    {
     "name": "stdout",
     "output_type": "stream",
     "text": [
      "GM: Test: 0.68194\n"
     ]
    },
    {
     "data": {
      "application/vnd.jupyter.widget-view+json": {
       "model_id": "9f3952a8fd33484a810d50575c114576",
       "version_major": 2,
       "version_minor": 0
      },
      "text/plain": [
       "Dividing loop:   0%|          | 0/50 [00:00<?, ?it/s]"
      ]
     },
     "metadata": {},
     "output_type": "display_data"
    },
    {
     "data": {
      "application/vnd.jupyter.widget-view+json": {
       "model_id": "b8c07f5d51b74b948a1b008f0733764d",
       "version_major": 2,
       "version_minor": 0
      },
      "text/plain": [
       "Epoch:   0%|          | 0/30 [00:00<?, ?it/s]"
      ]
     },
     "metadata": {},
     "output_type": "display_data"
    },
    {
     "name": "stdout",
     "output_type": "stream",
     "text": [
      "UBER: Test: 1.07457\n"
     ]
    },
    {
     "data": {
      "application/vnd.jupyter.widget-view+json": {
       "model_id": "c7ce052ee1934419b5d74e60db1423ae",
       "version_major": 2,
       "version_minor": 0
      },
      "text/plain": [
       "Dividing loop:   0%|          | 0/50 [00:00<?, ?it/s]"
      ]
     },
     "metadata": {},
     "output_type": "display_data"
    },
    {
     "data": {
      "application/vnd.jupyter.widget-view+json": {
       "model_id": "65ecb0b90c094175a470b82aea773c52",
       "version_major": 2,
       "version_minor": 0
      },
      "text/plain": [
       "Epoch:   0%|          | 0/30 [00:00<?, ?it/s]"
      ]
     },
     "metadata": {},
     "output_type": "display_data"
    },
    {
     "name": "stdout",
     "output_type": "stream",
     "text": [
      "Coca Cola: Test: 0.41748\n"
     ]
    },
    {
     "data": {
      "application/vnd.jupyter.widget-view+json": {
       "model_id": "c34db17461ec48c1a841da5fa1a02e3c",
       "version_major": 2,
       "version_minor": 0
      },
      "text/plain": [
       "Dividing loop:   0%|          | 0/50 [00:00<?, ?it/s]"
      ]
     },
     "metadata": {},
     "output_type": "display_data"
    },
    {
     "data": {
      "application/vnd.jupyter.widget-view+json": {
       "model_id": "1bec24f5526a441bb21616d4c9758bea",
       "version_major": 2,
       "version_minor": 0
      },
      "text/plain": [
       "Epoch:   0%|          | 0/30 [00:00<?, ?it/s]"
      ]
     },
     "metadata": {},
     "output_type": "display_data"
    },
    {
     "name": "stdout",
     "output_type": "stream",
     "text": [
      "EBAY: Test: 0.94610\n"
     ]
    },
    {
     "data": {
      "application/vnd.jupyter.widget-view+json": {
       "model_id": "c1b453ec305544db845d69bbf0102a2d",
       "version_major": 2,
       "version_minor": 0
      },
      "text/plain": [
       "Dividing loop:   0%|          | 0/50 [00:00<?, ?it/s]"
      ]
     },
     "metadata": {},
     "output_type": "display_data"
    },
    {
     "data": {
      "application/vnd.jupyter.widget-view+json": {
       "model_id": "20ccf978419a43eeba06f23842c42d50",
       "version_major": 2,
       "version_minor": 0
      },
      "text/plain": [
       "Epoch:   0%|          | 0/30 [00:00<?, ?it/s]"
      ]
     },
     "metadata": {},
     "output_type": "display_data"
    },
    {
     "name": "stdout",
     "output_type": "stream",
     "text": [
      "DIS: Test: 2.30435\n"
     ]
    },
    {
     "data": {
      "application/vnd.jupyter.widget-view+json": {
       "model_id": "01c0092eceae4baaa48a8c2a7ce81c11",
       "version_major": 2,
       "version_minor": 0
      },
      "text/plain": [
       "Dividing loop:   0%|          | 0/50 [00:00<?, ?it/s]"
      ]
     },
     "metadata": {},
     "output_type": "display_data"
    },
    {
     "data": {
      "application/vnd.jupyter.widget-view+json": {
       "model_id": "2af455ff4cf949a781eb35da77c43298",
       "version_major": 2,
       "version_minor": 0
      },
      "text/plain": [
       "Epoch:   0%|          | 0/30 [00:00<?, ?it/s]"
      ]
     },
     "metadata": {},
     "output_type": "display_data"
    },
    {
     "name": "stdout",
     "output_type": "stream",
     "text": [
      "FORD: Test: 1.36772\n"
     ]
    },
    {
     "data": {
      "application/vnd.jupyter.widget-view+json": {
       "model_id": "ec7dd0fafdf94a1bb83cd1365f3942c5",
       "version_major": 2,
       "version_minor": 0
      },
      "text/plain": [
       "Dividing loop:   0%|          | 0/50 [00:00<?, ?it/s]"
      ]
     },
     "metadata": {},
     "output_type": "display_data"
    },
    {
     "data": {
      "application/vnd.jupyter.widget-view+json": {
       "model_id": "50a0556972814fe4b491d28481ed82ff",
       "version_major": 2,
       "version_minor": 0
      },
      "text/plain": [
       "Epoch:   0%|          | 0/30 [00:00<?, ?it/s]"
      ]
     },
     "metadata": {},
     "output_type": "display_data"
    },
    {
     "name": "stdout",
     "output_type": "stream",
     "text": [
      "NFLX: Test: 0.54964\n"
     ]
    },
    {
     "data": {
      "application/vnd.jupyter.widget-view+json": {
       "model_id": "0cf6d037dcdb44dd8ecc6288df41372c",
       "version_major": 2,
       "version_minor": 0
      },
      "text/plain": [
       "Dividing loop:   0%|          | 0/50 [00:00<?, ?it/s]"
      ]
     },
     "metadata": {},
     "output_type": "display_data"
    },
    {
     "data": {
      "application/vnd.jupyter.widget-view+json": {
       "model_id": "754ea8dbc60a490dad9b1d3be778d9ac",
       "version_major": 2,
       "version_minor": 0
      },
      "text/plain": [
       "Epoch:   0%|          | 0/30 [00:00<?, ?it/s]"
      ]
     },
     "metadata": {},
     "output_type": "display_data"
    },
    {
     "name": "stdout",
     "output_type": "stream",
     "text": [
      "NKE: Test: 0.83575\n"
     ]
    },
    {
     "data": {
      "application/vnd.jupyter.widget-view+json": {
       "model_id": "a4691f946a3d494d8b9a7155bdb19225",
       "version_major": 2,
       "version_minor": 0
      },
      "text/plain": [
       "Dividing loop:   0%|          | 0/50 [00:00<?, ?it/s]"
      ]
     },
     "metadata": {},
     "output_type": "display_data"
    },
    {
     "data": {
      "application/vnd.jupyter.widget-view+json": {
       "model_id": "d3b18496f9094a74829d08e31304bad8",
       "version_major": 2,
       "version_minor": 0
      },
      "text/plain": [
       "Epoch:   0%|          | 0/30 [00:00<?, ?it/s]"
      ]
     },
     "metadata": {},
     "output_type": "display_data"
    },
    {
     "name": "stdout",
     "output_type": "stream",
     "text": [
      "GE: Test: 5.18261\n"
     ]
    },
    {
     "data": {
      "application/vnd.jupyter.widget-view+json": {
       "model_id": "5d382d671875453485b68f2b3b75a12f",
       "version_major": 2,
       "version_minor": 0
      },
      "text/plain": [
       "Dividing loop:   0%|          | 0/50 [00:00<?, ?it/s]"
      ]
     },
     "metadata": {},
     "output_type": "display_data"
    },
    {
     "data": {
      "application/vnd.jupyter.widget-view+json": {
       "model_id": "0f32808554de4256864042b3bc460ff3",
       "version_major": 2,
       "version_minor": 0
      },
      "text/plain": [
       "Epoch:   0%|          | 0/30 [00:00<?, ?it/s]"
      ]
     },
     "metadata": {},
     "output_type": "display_data"
    },
    {
     "name": "stdout",
     "output_type": "stream",
     "text": [
      "WMT: Test: 0.42008\n"
     ]
    },
    {
     "data": {
      "application/vnd.jupyter.widget-view+json": {
       "model_id": "2fc92555c82a4258b42f6ffc327dcd2f",
       "version_major": 2,
       "version_minor": 0
      },
      "text/plain": [
       "Dividing loop:   0%|          | 0/50 [00:00<?, ?it/s]"
      ]
     },
     "metadata": {},
     "output_type": "display_data"
    },
    {
     "data": {
      "application/vnd.jupyter.widget-view+json": {
       "model_id": "0dd3b5b993b64c8ea05e66af50d2bca2",
       "version_major": 2,
       "version_minor": 0
      },
      "text/plain": [
       "Epoch:   0%|          | 0/30 [00:00<?, ?it/s]"
      ]
     },
     "metadata": {},
     "output_type": "display_data"
    },
    {
     "name": "stdout",
     "output_type": "stream",
     "text": [
      "INTC: Test: 0.49952\n"
     ]
    },
    {
     "data": {
      "application/vnd.jupyter.widget-view+json": {
       "model_id": "bf2e3c4eba0c413e9772171c6a9e4d4e",
       "version_major": 2,
       "version_minor": 0
      },
      "text/plain": [
       "Dividing loop:   0%|          | 0/50 [00:00<?, ?it/s]"
      ]
     },
     "metadata": {},
     "output_type": "display_data"
    },
    {
     "data": {
      "application/vnd.jupyter.widget-view+json": {
       "model_id": "8236fd73dacf4eb8b68f332d762905b6",
       "version_major": 2,
       "version_minor": 0
      },
      "text/plain": [
       "Epoch:   0%|          | 0/30 [00:00<?, ?it/s]"
      ]
     },
     "metadata": {},
     "output_type": "display_data"
    },
    {
     "name": "stdout",
     "output_type": "stream",
     "text": [
      "GOOG: Test: 0.43129\n"
     ]
    },
    {
     "data": {
      "application/vnd.jupyter.widget-view+json": {
       "model_id": "c02f3ea08d354da59b91543986ed85d3",
       "version_major": 2,
       "version_minor": 0
      },
      "text/plain": [
       "Dividing loop:   0%|          | 0/50 [00:00<?, ?it/s]"
      ]
     },
     "metadata": {},
     "output_type": "display_data"
    },
    {
     "data": {
      "application/vnd.jupyter.widget-view+json": {
       "model_id": "abac1c120bc64c86a7f8699e8df5b947",
       "version_major": 2,
       "version_minor": 0
      },
      "text/plain": [
       "Epoch:   0%|          | 0/30 [00:00<?, ?it/s]"
      ]
     },
     "metadata": {},
     "output_type": "display_data"
    },
    {
     "name": "stdout",
     "output_type": "stream",
     "text": [
      "AAPL: Test: 0.91643\n"
     ]
    },
    {
     "data": {
      "application/vnd.jupyter.widget-view+json": {
       "model_id": "c908439190be482e8849269b696e98b3",
       "version_major": 2,
       "version_minor": 0
      },
      "text/plain": [
       "Company:   0%|          | 0/15 [00:00<?, ?it/s]"
      ]
     },
     "metadata": {},
     "output_type": "display_data"
    },
    {
     "data": {
      "application/vnd.jupyter.widget-view+json": {
       "model_id": "94278520300044d99c9efbe24c7e19f8",
       "version_major": 2,
       "version_minor": 0
      },
      "text/plain": [
       "Dividing loop:   0%|          | 0/50 [00:00<?, ?it/s]"
      ]
     },
     "metadata": {},
     "output_type": "display_data"
    },
    {
     "data": {
      "application/vnd.jupyter.widget-view+json": {
       "model_id": "1cd8a4ad71d14c03a19585049f5f62ba",
       "version_major": 2,
       "version_minor": 0
      },
      "text/plain": [
       "Epoch:   0%|          | 0/30 [00:00<?, ?it/s]"
      ]
     },
     "metadata": {},
     "output_type": "display_data"
    },
    {
     "name": "stdout",
     "output_type": "stream",
     "text": [
      "AMZN: Test: 122.45779\n"
     ]
    },
    {
     "data": {
      "application/vnd.jupyter.widget-view+json": {
       "model_id": "fd4968b0409f4b83851239e80ede9ef7",
       "version_major": 2,
       "version_minor": 0
      },
      "text/plain": [
       "Dividing loop:   0%|          | 0/50 [00:00<?, ?it/s]"
      ]
     },
     "metadata": {},
     "output_type": "display_data"
    },
    {
     "data": {
      "application/vnd.jupyter.widget-view+json": {
       "model_id": "41c128f909464512b9486b8abefb1f38",
       "version_major": 2,
       "version_minor": 0
      },
      "text/plain": [
       "Epoch:   0%|          | 0/30 [00:00<?, ?it/s]"
      ]
     },
     "metadata": {},
     "output_type": "display_data"
    },
    {
     "name": "stdout",
     "output_type": "stream",
     "text": [
      "MSFT: Test: 15613.56506\n"
     ]
    },
    {
     "data": {
      "application/vnd.jupyter.widget-view+json": {
       "model_id": "8cb60dcd7b654497962f300323ee8884",
       "version_major": 2,
       "version_minor": 0
      },
      "text/plain": [
       "Dividing loop:   0%|          | 0/50 [00:00<?, ?it/s]"
      ]
     },
     "metadata": {},
     "output_type": "display_data"
    },
    {
     "data": {
      "application/vnd.jupyter.widget-view+json": {
       "model_id": "5f41f876a0d042f58de3a1c11031b475",
       "version_major": 2,
       "version_minor": 0
      },
      "text/plain": [
       "Epoch:   0%|          | 0/30 [00:00<?, ?it/s]"
      ]
     },
     "metadata": {},
     "output_type": "display_data"
    },
    {
     "name": "stdout",
     "output_type": "stream",
     "text": [
      "GM: Test: 94.93492\n"
     ]
    },
    {
     "data": {
      "application/vnd.jupyter.widget-view+json": {
       "model_id": "f1198f3bd0b542af89c650218af90aa4",
       "version_major": 2,
       "version_minor": 0
      },
      "text/plain": [
       "Dividing loop:   0%|          | 0/50 [00:00<?, ?it/s]"
      ]
     },
     "metadata": {},
     "output_type": "display_data"
    },
    {
     "data": {
      "application/vnd.jupyter.widget-view+json": {
       "model_id": "fc5f9891032644e6b5fe471958ed7e62",
       "version_major": 2,
       "version_minor": 0
      },
      "text/plain": [
       "Epoch:   0%|          | 0/30 [00:00<?, ?it/s]"
      ]
     },
     "metadata": {},
     "output_type": "display_data"
    },
    {
     "name": "stdout",
     "output_type": "stream",
     "text": [
      "UBER: Test: 96.63332\n"
     ]
    },
    {
     "data": {
      "application/vnd.jupyter.widget-view+json": {
       "model_id": "249b3b271a6944afbdb28369199a0d48",
       "version_major": 2,
       "version_minor": 0
      },
      "text/plain": [
       "Dividing loop:   0%|          | 0/50 [00:00<?, ?it/s]"
      ]
     },
     "metadata": {},
     "output_type": "display_data"
    },
    {
     "data": {
      "application/vnd.jupyter.widget-view+json": {
       "model_id": "307fc995135a4d68b3d50f0b0145cb74",
       "version_major": 2,
       "version_minor": 0
      },
      "text/plain": [
       "Epoch:   0%|          | 0/30 [00:00<?, ?it/s]"
      ]
     },
     "metadata": {},
     "output_type": "display_data"
    },
    {
     "name": "stdout",
     "output_type": "stream",
     "text": [
      "Coca Cola: Test: 113.80842\n"
     ]
    },
    {
     "data": {
      "application/vnd.jupyter.widget-view+json": {
       "model_id": "ab64f0ffb24d4206ac02ac1098135b28",
       "version_major": 2,
       "version_minor": 0
      },
      "text/plain": [
       "Dividing loop:   0%|          | 0/50 [00:00<?, ?it/s]"
      ]
     },
     "metadata": {},
     "output_type": "display_data"
    },
    {
     "data": {
      "application/vnd.jupyter.widget-view+json": {
       "model_id": "b3f126ec42144407a16beb282aaba0e2",
       "version_major": 2,
       "version_minor": 0
      },
      "text/plain": [
       "Epoch:   0%|          | 0/30 [00:00<?, ?it/s]"
      ]
     },
     "metadata": {},
     "output_type": "display_data"
    },
    {
     "name": "stdout",
     "output_type": "stream",
     "text": [
      "EBAY: Test: 2713.42373\n"
     ]
    },
    {
     "data": {
      "application/vnd.jupyter.widget-view+json": {
       "model_id": "7de58cdcc07f4cddafa53eb81d95fe3a",
       "version_major": 2,
       "version_minor": 0
      },
      "text/plain": [
       "Dividing loop:   0%|          | 0/50 [00:00<?, ?it/s]"
      ]
     },
     "metadata": {},
     "output_type": "display_data"
    },
    {
     "data": {
      "application/vnd.jupyter.widget-view+json": {
       "model_id": "8968ace0e94e4a77a3e1b49617a0edc0",
       "version_major": 2,
       "version_minor": 0
      },
      "text/plain": [
       "Epoch:   0%|          | 0/30 [00:00<?, ?it/s]"
      ]
     },
     "metadata": {},
     "output_type": "display_data"
    },
    {
     "name": "stdout",
     "output_type": "stream",
     "text": [
      "DIS: Test: 1274.48387\n"
     ]
    },
    {
     "data": {
      "application/vnd.jupyter.widget-view+json": {
       "model_id": "171812c6fcbb414c9a0aa4d1dbc48575",
       "version_major": 2,
       "version_minor": 0
      },
      "text/plain": [
       "Dividing loop:   0%|          | 0/50 [00:00<?, ?it/s]"
      ]
     },
     "metadata": {},
     "output_type": "display_data"
    },
    {
     "data": {
      "application/vnd.jupyter.widget-view+json": {
       "model_id": "518d86a13f2a4173b50d24d0b60658d5",
       "version_major": 2,
       "version_minor": 0
      },
      "text/plain": [
       "Epoch:   0%|          | 0/30 [00:00<?, ?it/s]"
      ]
     },
     "metadata": {},
     "output_type": "display_data"
    },
    {
     "name": "stdout",
     "output_type": "stream",
     "text": [
      "FORD: Test: 129.45534\n"
     ]
    },
    {
     "data": {
      "application/vnd.jupyter.widget-view+json": {
       "model_id": "189319bb542a45ee85e63499b8cbb0dd",
       "version_major": 2,
       "version_minor": 0
      },
      "text/plain": [
       "Dividing loop:   0%|          | 0/50 [00:00<?, ?it/s]"
      ]
     },
     "metadata": {},
     "output_type": "display_data"
    },
    {
     "data": {
      "application/vnd.jupyter.widget-view+json": {
       "model_id": "77cd0b0ef45c4a51843fadaa534fb10d",
       "version_major": 2,
       "version_minor": 0
      },
      "text/plain": [
       "Epoch:   0%|          | 0/30 [00:00<?, ?it/s]"
      ]
     },
     "metadata": {},
     "output_type": "display_data"
    },
    {
     "name": "stdout",
     "output_type": "stream",
     "text": [
      "NFLX: Test: 101.90609\n"
     ]
    },
    {
     "data": {
      "application/vnd.jupyter.widget-view+json": {
       "model_id": "02156d1dc1c447439440ca77b273b5b3",
       "version_major": 2,
       "version_minor": 0
      },
      "text/plain": [
       "Dividing loop:   0%|          | 0/50 [00:00<?, ?it/s]"
      ]
     },
     "metadata": {},
     "output_type": "display_data"
    },
    {
     "data": {
      "application/vnd.jupyter.widget-view+json": {
       "model_id": "102318377193435fbe5421d14a663201",
       "version_major": 2,
       "version_minor": 0
      },
      "text/plain": [
       "Epoch:   0%|          | 0/30 [00:00<?, ?it/s]"
      ]
     },
     "metadata": {},
     "output_type": "display_data"
    },
    {
     "name": "stdout",
     "output_type": "stream",
     "text": [
      "NKE: Test: 99.08773\n"
     ]
    },
    {
     "data": {
      "application/vnd.jupyter.widget-view+json": {
       "model_id": "d6e258b4d1ec44a69b4062606b75a2ea",
       "version_major": 2,
       "version_minor": 0
      },
      "text/plain": [
       "Dividing loop:   0%|          | 0/50 [00:00<?, ?it/s]"
      ]
     },
     "metadata": {},
     "output_type": "display_data"
    },
    {
     "data": {
      "application/vnd.jupyter.widget-view+json": {
       "model_id": "82d17a646de4467ba5aa4755e56fa0be",
       "version_major": 2,
       "version_minor": 0
      },
      "text/plain": [
       "Epoch:   0%|          | 0/30 [00:00<?, ?it/s]"
      ]
     },
     "metadata": {},
     "output_type": "display_data"
    },
    {
     "name": "stdout",
     "output_type": "stream",
     "text": [
      "GE: Test: 1011.11488\n"
     ]
    },
    {
     "data": {
      "application/vnd.jupyter.widget-view+json": {
       "model_id": "85d1f63171b34786a1762695aeea1ce6",
       "version_major": 2,
       "version_minor": 0
      },
      "text/plain": [
       "Dividing loop:   0%|          | 0/50 [00:00<?, ?it/s]"
      ]
     },
     "metadata": {},
     "output_type": "display_data"
    },
    {
     "data": {
      "application/vnd.jupyter.widget-view+json": {
       "model_id": "ac0e56a9257e4519871b836cc1c54370",
       "version_major": 2,
       "version_minor": 0
      },
      "text/plain": [
       "Epoch:   0%|          | 0/30 [00:00<?, ?it/s]"
      ]
     },
     "metadata": {},
     "output_type": "display_data"
    },
    {
     "name": "stdout",
     "output_type": "stream",
     "text": [
      "WMT: Test: 4642.25464\n"
     ]
    },
    {
     "data": {
      "application/vnd.jupyter.widget-view+json": {
       "model_id": "5c17568e66904f6ba897c8cfa05be751",
       "version_major": 2,
       "version_minor": 0
      },
      "text/plain": [
       "Dividing loop:   0%|          | 0/50 [00:00<?, ?it/s]"
      ]
     },
     "metadata": {},
     "output_type": "display_data"
    },
    {
     "data": {
      "application/vnd.jupyter.widget-view+json": {
       "model_id": "96b331f0ae5c46548969ae16dd81acf3",
       "version_major": 2,
       "version_minor": 0
      },
      "text/plain": [
       "Epoch:   0%|          | 0/30 [00:00<?, ?it/s]"
      ]
     },
     "metadata": {},
     "output_type": "display_data"
    },
    {
     "name": "stdout",
     "output_type": "stream",
     "text": [
      "INTC: Test: 114.48501\n"
     ]
    },
    {
     "data": {
      "application/vnd.jupyter.widget-view+json": {
       "model_id": "fdbf7fc9299d4b58a6afe685d2942502",
       "version_major": 2,
       "version_minor": 0
      },
      "text/plain": [
       "Dividing loop:   0%|          | 0/50 [00:00<?, ?it/s]"
      ]
     },
     "metadata": {},
     "output_type": "display_data"
    },
    {
     "data": {
      "application/vnd.jupyter.widget-view+json": {
       "model_id": "69e2e61089b043c48c20ee3346bce671",
       "version_major": 2,
       "version_minor": 0
      },
      "text/plain": [
       "Epoch:   0%|          | 0/30 [00:00<?, ?it/s]"
      ]
     },
     "metadata": {},
     "output_type": "display_data"
    },
    {
     "name": "stdout",
     "output_type": "stream",
     "text": [
      "GOOG: Test: 89.10587\n"
     ]
    },
    {
     "data": {
      "application/vnd.jupyter.widget-view+json": {
       "model_id": "31535fb76bed42b0904e042802cc56f1",
       "version_major": 2,
       "version_minor": 0
      },
      "text/plain": [
       "Dividing loop:   0%|          | 0/50 [00:00<?, ?it/s]"
      ]
     },
     "metadata": {},
     "output_type": "display_data"
    },
    {
     "data": {
      "application/vnd.jupyter.widget-view+json": {
       "model_id": "c5631df3fe624835a1fa28cce3e8c609",
       "version_major": 2,
       "version_minor": 0
      },
      "text/plain": [
       "Epoch:   0%|          | 0/30 [00:00<?, ?it/s]"
      ]
     },
     "metadata": {},
     "output_type": "display_data"
    },
    {
     "name": "stdout",
     "output_type": "stream",
     "text": [
      "AAPL: Test: 132.86747\n"
     ]
    }
   ],
   "source": [
    "us_prices = {\n",
    "    \"path\": \"../Data/American Companies/\",\n",
    "    \"use_denoising\": True,\n",
    "    \"prices_not_returns\": True\n",
    "}\n",
    "us_returns = {\n",
    "    \"path\": \"../Data/American Companies/\",\n",
    "    \"use_denoising\": True,\n",
    "    \"prices_not_returns\": False\n",
    "}\n",
    "\n",
    "result_us_prices = get_wapes(**us_prices)\n",
    "result_us_returns = get_wapes(**us_returns)\n",
    "\n",
    "us_result_df = pd.DataFrame({\n",
    "    \"Company\": result_us_prices.keys(),\n",
    "    \"WAPE (price)\": result_us_prices.values(),\n",
    "    \"WAPE (return)\": result_us_returns.values()\n",
    "})\n",
    "\n",
    "us_result_df.to_csv(\"mssa_wn_us.csv\", index=False)"
   ]
  },
  {
   "cell_type": "code",
   "execution_count": 10,
   "metadata": {
    "collapsed": false,
    "jupyter": {
     "outputs_hidden": false
    }
   },
   "outputs": [
    {
     "data": {
      "application/vnd.jupyter.widget-view+json": {
       "model_id": "acca9983fcda4579af0f831483792b52",
       "version_major": 2,
       "version_minor": 0
      },
      "text/plain": [
       "Company:   0%|          | 0/15 [00:00<?, ?it/s]"
      ]
     },
     "metadata": {},
     "output_type": "display_data"
    },
    {
     "data": {
      "application/vnd.jupyter.widget-view+json": {
       "model_id": "5088cba391604bbb880882b1b39a428a",
       "version_major": 2,
       "version_minor": 0
      },
      "text/plain": [
       "Dividing loop:   0%|          | 0/50 [00:00<?, ?it/s]"
      ]
     },
     "metadata": {},
     "output_type": "display_data"
    },
    {
     "data": {
      "application/vnd.jupyter.widget-view+json": {
       "model_id": "310c956ebda04f159e1a45e8c29a8977",
       "version_major": 2,
       "version_minor": 0
      },
      "text/plain": [
       "Epoch:   0%|          | 0/30 [00:00<?, ?it/s]"
      ]
     },
     "metadata": {},
     "output_type": "display_data"
    },
    {
     "name": "stdout",
     "output_type": "stream",
     "text": [
      "China Shenhua: Test: 3.15942\n"
     ]
    },
    {
     "data": {
      "application/vnd.jupyter.widget-view+json": {
       "model_id": "555c62b034194b59aad169efe82535f0",
       "version_major": 2,
       "version_minor": 0
      },
      "text/plain": [
       "Dividing loop:   0%|          | 0/50 [00:00<?, ?it/s]"
      ]
     },
     "metadata": {},
     "output_type": "display_data"
    },
    {
     "data": {
      "application/vnd.jupyter.widget-view+json": {
       "model_id": "fb05c1122204490db5ef78502ef5c766",
       "version_major": 2,
       "version_minor": 0
      },
      "text/plain": [
       "Epoch:   0%|          | 0/30 [00:00<?, ?it/s]"
      ]
     },
     "metadata": {},
     "output_type": "display_data"
    },
    {
     "name": "stdout",
     "output_type": "stream",
     "text": [
      "Agricultural Bank of China: Test: 7.81746\n"
     ]
    },
    {
     "data": {
      "application/vnd.jupyter.widget-view+json": {
       "model_id": "c88b2be8a74849398b571df1f2235fae",
       "version_major": 2,
       "version_minor": 0
      },
      "text/plain": [
       "Dividing loop:   0%|          | 0/50 [00:00<?, ?it/s]"
      ]
     },
     "metadata": {},
     "output_type": "display_data"
    },
    {
     "data": {
      "application/vnd.jupyter.widget-view+json": {
       "model_id": "a35e47e66cbd4cfc849aac9e345c0444",
       "version_major": 2,
       "version_minor": 0
      },
      "text/plain": [
       "Epoch:   0%|          | 0/30 [00:00<?, ?it/s]"
      ]
     },
     "metadata": {},
     "output_type": "display_data"
    },
    {
     "name": "stdout",
     "output_type": "stream",
     "text": [
      "Wanhua Chemical Group: Test: 2.34640\n"
     ]
    },
    {
     "data": {
      "application/vnd.jupyter.widget-view+json": {
       "model_id": "7426bc0e14f149b5bac7478acd87e27c",
       "version_major": 2,
       "version_minor": 0
      },
      "text/plain": [
       "Dividing loop:   0%|          | 0/50 [00:00<?, ?it/s]"
      ]
     },
     "metadata": {},
     "output_type": "display_data"
    },
    {
     "data": {
      "application/vnd.jupyter.widget-view+json": {
       "model_id": "e607b1a31a95410e8ecda8e1ffe7497c",
       "version_major": 2,
       "version_minor": 0
      },
      "text/plain": [
       "Epoch:   0%|          | 0/30 [00:00<?, ?it/s]"
      ]
     },
     "metadata": {},
     "output_type": "display_data"
    },
    {
     "name": "stdout",
     "output_type": "stream",
     "text": [
      "Anhui Coonch Cement: Test: 2.25003\n"
     ]
    },
    {
     "data": {
      "application/vnd.jupyter.widget-view+json": {
       "model_id": "a078a88cc60a4f08b24d323624158e25",
       "version_major": 2,
       "version_minor": 0
      },
      "text/plain": [
       "Dividing loop:   0%|          | 0/50 [00:00<?, ?it/s]"
      ]
     },
     "metadata": {},
     "output_type": "display_data"
    },
    {
     "data": {
      "application/vnd.jupyter.widget-view+json": {
       "model_id": "ffe8aea938b0410d9915c4b2041d8898",
       "version_major": 2,
       "version_minor": 0
      },
      "text/plain": [
       "Epoch:   0%|          | 0/30 [00:00<?, ?it/s]"
      ]
     },
     "metadata": {},
     "output_type": "display_data"
    },
    {
     "name": "stdout",
     "output_type": "stream",
     "text": [
      "CITIC Securities: Test: 391.82661\n"
     ]
    },
    {
     "data": {
      "application/vnd.jupyter.widget-view+json": {
       "model_id": "1877214befff4bf4b67695b9a9318d20",
       "version_major": 2,
       "version_minor": 0
      },
      "text/plain": [
       "Dividing loop:   0%|          | 0/50 [00:00<?, ?it/s]"
      ]
     },
     "metadata": {},
     "output_type": "display_data"
    },
    {
     "data": {
      "application/vnd.jupyter.widget-view+json": {
       "model_id": "a65cad9114bd4a6a88b3863bfd843bb1",
       "version_major": 2,
       "version_minor": 0
      },
      "text/plain": [
       "Epoch:   0%|          | 0/30 [00:00<?, ?it/s]"
      ]
     },
     "metadata": {},
     "output_type": "display_data"
    },
    {
     "name": "stdout",
     "output_type": "stream",
     "text": [
      "Kweichow Moutai: Test: 0.59924\n"
     ]
    },
    {
     "data": {
      "application/vnd.jupyter.widget-view+json": {
       "model_id": "a015e2aca0d24cfb80ab61a381948435",
       "version_major": 2,
       "version_minor": 0
      },
      "text/plain": [
       "Dividing loop:   0%|          | 0/50 [00:00<?, ?it/s]"
      ]
     },
     "metadata": {},
     "output_type": "display_data"
    },
    {
     "data": {
      "application/vnd.jupyter.widget-view+json": {
       "model_id": "2ce38e8a3016432da7711399cefe933d",
       "version_major": 2,
       "version_minor": 0
      },
      "text/plain": [
       "Epoch:   0%|          | 0/30 [00:00<?, ?it/s]"
      ]
     },
     "metadata": {},
     "output_type": "display_data"
    },
    {
     "name": "stdout",
     "output_type": "stream",
     "text": [
      "China Duty Free Group: Test: 1.16126\n"
     ]
    },
    {
     "data": {
      "application/vnd.jupyter.widget-view+json": {
       "model_id": "6927020d9075410fab0e5628edbb8bf5",
       "version_major": 2,
       "version_minor": 0
      },
      "text/plain": [
       "Dividing loop:   0%|          | 0/50 [00:00<?, ?it/s]"
      ]
     },
     "metadata": {},
     "output_type": "display_data"
    },
    {
     "data": {
      "application/vnd.jupyter.widget-view+json": {
       "model_id": "64c9fa0cf5fd4641a02c38942345e544",
       "version_major": 2,
       "version_minor": 0
      },
      "text/plain": [
       "Epoch:   0%|          | 0/30 [00:00<?, ?it/s]"
      ]
     },
     "metadata": {},
     "output_type": "display_data"
    },
    {
     "name": "stdout",
     "output_type": "stream",
     "text": [
      "Ping An: Test: 2.09626\n"
     ]
    },
    {
     "data": {
      "application/vnd.jupyter.widget-view+json": {
       "model_id": "649e1a485f7046268958eb70d7515754",
       "version_major": 2,
       "version_minor": 0
      },
      "text/plain": [
       "Dividing loop:   0%|          | 0/50 [00:00<?, ?it/s]"
      ]
     },
     "metadata": {},
     "output_type": "display_data"
    },
    {
     "data": {
      "application/vnd.jupyter.widget-view+json": {
       "model_id": "3d37d568f5d74144a70f25bca6647f57",
       "version_major": 2,
       "version_minor": 0
      },
      "text/plain": [
       "Epoch:   0%|          | 0/30 [00:00<?, ?it/s]"
      ]
     },
     "metadata": {},
     "output_type": "display_data"
    },
    {
     "name": "stdout",
     "output_type": "stream",
     "text": [
      "China Pacific Insurance: Test: 8.44230\n"
     ]
    },
    {
     "data": {
      "application/vnd.jupyter.widget-view+json": {
       "model_id": "be4567bf00da4439ac59832551f80220",
       "version_major": 2,
       "version_minor": 0
      },
      "text/plain": [
       "Dividing loop:   0%|          | 0/50 [00:00<?, ?it/s]"
      ]
     },
     "metadata": {},
     "output_type": "display_data"
    },
    {
     "data": {
      "application/vnd.jupyter.widget-view+json": {
       "model_id": "c1d413dd5dad4212b98ebd7b5200d53d",
       "version_major": 2,
       "version_minor": 0
      },
      "text/plain": [
       "Epoch:   0%|          | 0/30 [00:00<?, ?it/s]"
      ]
     },
     "metadata": {},
     "output_type": "display_data"
    },
    {
     "name": "stdout",
     "output_type": "stream",
     "text": [
      "PetroChina: Test: 30.04691\n"
     ]
    },
    {
     "data": {
      "application/vnd.jupyter.widget-view+json": {
       "model_id": "1faca373fd424312bc3cdf005aeb3831",
       "version_major": 2,
       "version_minor": 0
      },
      "text/plain": [
       "Dividing loop:   0%|          | 0/50 [00:00<?, ?it/s]"
      ]
     },
     "metadata": {},
     "output_type": "display_data"
    },
    {
     "data": {
      "application/vnd.jupyter.widget-view+json": {
       "model_id": "042e5eb05d2e4ee39b8885d16480dea0",
       "version_major": 2,
       "version_minor": 0
      },
      "text/plain": [
       "Epoch:   0%|          | 0/30 [00:00<?, ?it/s]"
      ]
     },
     "metadata": {},
     "output_type": "display_data"
    },
    {
     "name": "stdout",
     "output_type": "stream",
     "text": [
      "SAIC Motor: Test: 0.51228\n"
     ]
    },
    {
     "data": {
      "application/vnd.jupyter.widget-view+json": {
       "model_id": "522dc61ac4f341549d18308292fa32b1",
       "version_major": 2,
       "version_minor": 0
      },
      "text/plain": [
       "Dividing loop:   0%|          | 0/50 [00:00<?, ?it/s]"
      ]
     },
     "metadata": {},
     "output_type": "display_data"
    },
    {
     "data": {
      "application/vnd.jupyter.widget-view+json": {
       "model_id": "00404c8ba1f54b3a97b37864cabe21be",
       "version_major": 2,
       "version_minor": 0
      },
      "text/plain": [
       "Epoch:   0%|          | 0/30 [00:00<?, ?it/s]"
      ]
     },
     "metadata": {},
     "output_type": "display_data"
    },
    {
     "name": "stdout",
     "output_type": "stream",
     "text": [
      "China Merchants Bank: Test: 10.13560\n"
     ]
    },
    {
     "data": {
      "application/vnd.jupyter.widget-view+json": {
       "model_id": "08a8575d68f4405b8a2673079da546d9",
       "version_major": 2,
       "version_minor": 0
      },
      "text/plain": [
       "Dividing loop:   0%|          | 0/50 [00:00<?, ?it/s]"
      ]
     },
     "metadata": {},
     "output_type": "display_data"
    },
    {
     "data": {
      "application/vnd.jupyter.widget-view+json": {
       "model_id": "4f06b950b5ab4d45a5474e347ea628cf",
       "version_major": 2,
       "version_minor": 0
      },
      "text/plain": [
       "Epoch:   0%|          | 0/30 [00:00<?, ?it/s]"
      ]
     },
     "metadata": {},
     "output_type": "display_data"
    },
    {
     "name": "stdout",
     "output_type": "stream",
     "text": [
      "Sinopec: Test: 0.68155\n"
     ]
    },
    {
     "data": {
      "application/vnd.jupyter.widget-view+json": {
       "model_id": "7832c580d54f4423ae1443ddd2565629",
       "version_major": 2,
       "version_minor": 0
      },
      "text/plain": [
       "Dividing loop:   0%|          | 0/50 [00:00<?, ?it/s]"
      ]
     },
     "metadata": {},
     "output_type": "display_data"
    },
    {
     "data": {
      "application/vnd.jupyter.widget-view+json": {
       "model_id": "214c114a81e043adb990115bf1d239eb",
       "version_major": 2,
       "version_minor": 0
      },
      "text/plain": [
       "Epoch:   0%|          | 0/30 [00:00<?, ?it/s]"
      ]
     },
     "metadata": {},
     "output_type": "display_data"
    },
    {
     "name": "stdout",
     "output_type": "stream",
     "text": [
      "Hengrui Medicine: Test: 1.01268\n"
     ]
    },
    {
     "data": {
      "application/vnd.jupyter.widget-view+json": {
       "model_id": "e40d11f34e6049819223cedec4ec394e",
       "version_major": 2,
       "version_minor": 0
      },
      "text/plain": [
       "Dividing loop:   0%|          | 0/50 [00:00<?, ?it/s]"
      ]
     },
     "metadata": {},
     "output_type": "display_data"
    },
    {
     "data": {
      "application/vnd.jupyter.widget-view+json": {
       "model_id": "7c1458cc711c48eba95bcf5c34651fc9",
       "version_major": 2,
       "version_minor": 0
      },
      "text/plain": [
       "Epoch:   0%|          | 0/30 [00:00<?, ?it/s]"
      ]
     },
     "metadata": {},
     "output_type": "display_data"
    },
    {
     "name": "stdout",
     "output_type": "stream",
     "text": [
      "China Life Insurance Company Limited: Test: 0.65576\n"
     ]
    },
    {
     "data": {
      "application/vnd.jupyter.widget-view+json": {
       "model_id": "ab679a408ea14e6e98f458ddc505b532",
       "version_major": 2,
       "version_minor": 0
      },
      "text/plain": [
       "Company:   0%|          | 0/15 [00:00<?, ?it/s]"
      ]
     },
     "metadata": {},
     "output_type": "display_data"
    },
    {
     "data": {
      "application/vnd.jupyter.widget-view+json": {
       "model_id": "d68119ad534240b8b2ed84860eccfc65",
       "version_major": 2,
       "version_minor": 0
      },
      "text/plain": [
       "Dividing loop:   0%|          | 0/50 [00:00<?, ?it/s]"
      ]
     },
     "metadata": {},
     "output_type": "display_data"
    },
    {
     "data": {
      "application/vnd.jupyter.widget-view+json": {
       "model_id": "5122849ec7be468aa087e165d7ef8644",
       "version_major": 2,
       "version_minor": 0
      },
      "text/plain": [
       "Epoch:   0%|          | 0/30 [00:00<?, ?it/s]"
      ]
     },
     "metadata": {},
     "output_type": "display_data"
    },
    {
     "name": "stdout",
     "output_type": "stream",
     "text": [
      "China Shenhua: Test: 433.29101\n"
     ]
    },
    {
     "data": {
      "application/vnd.jupyter.widget-view+json": {
       "model_id": "1eb48bb1407b428f928bd20a6b523d66",
       "version_major": 2,
       "version_minor": 0
      },
      "text/plain": [
       "Dividing loop:   0%|          | 0/50 [00:00<?, ?it/s]"
      ]
     },
     "metadata": {},
     "output_type": "display_data"
    },
    {
     "data": {
      "application/vnd.jupyter.widget-view+json": {
       "model_id": "090776a072a44c87a021105fdc27fb60",
       "version_major": 2,
       "version_minor": 0
      },
      "text/plain": [
       "Epoch:   0%|          | 0/30 [00:00<?, ?it/s]"
      ]
     },
     "metadata": {},
     "output_type": "display_data"
    },
    {
     "name": "stdout",
     "output_type": "stream",
     "text": [
      "Agricultural Bank of China: Test: 94.09593\n"
     ]
    },
    {
     "data": {
      "application/vnd.jupyter.widget-view+json": {
       "model_id": "f5d3d605185841939c0d731fa9c3bd39",
       "version_major": 2,
       "version_minor": 0
      },
      "text/plain": [
       "Dividing loop:   0%|          | 0/50 [00:00<?, ?it/s]"
      ]
     },
     "metadata": {},
     "output_type": "display_data"
    },
    {
     "data": {
      "application/vnd.jupyter.widget-view+json": {
       "model_id": "6520da7efd26462f91a9eaf71358e7dc",
       "version_major": 2,
       "version_minor": 0
      },
      "text/plain": [
       "Epoch:   0%|          | 0/30 [00:00<?, ?it/s]"
      ]
     },
     "metadata": {},
     "output_type": "display_data"
    },
    {
     "name": "stdout",
     "output_type": "stream",
     "text": [
      "Wanhua Chemical Group: Test: 164.71330\n"
     ]
    },
    {
     "data": {
      "application/vnd.jupyter.widget-view+json": {
       "model_id": "82a17d28cb6b48438a9b8e5977a27ba7",
       "version_major": 2,
       "version_minor": 0
      },
      "text/plain": [
       "Dividing loop:   0%|          | 0/50 [00:00<?, ?it/s]"
      ]
     },
     "metadata": {},
     "output_type": "display_data"
    },
    {
     "data": {
      "application/vnd.jupyter.widget-view+json": {
       "model_id": "d94dacfde541464586ef0845c1c6c49f",
       "version_major": 2,
       "version_minor": 0
      },
      "text/plain": [
       "Epoch:   0%|          | 0/30 [00:00<?, ?it/s]"
      ]
     },
     "metadata": {},
     "output_type": "display_data"
    },
    {
     "name": "stdout",
     "output_type": "stream",
     "text": [
      "Anhui Coonch Cement: Test: 234.76362\n"
     ]
    },
    {
     "data": {
      "application/vnd.jupyter.widget-view+json": {
       "model_id": "0e099ffcd9b74530ad11498f3d6f9ab2",
       "version_major": 2,
       "version_minor": 0
      },
      "text/plain": [
       "Dividing loop:   0%|          | 0/50 [00:00<?, ?it/s]"
      ]
     },
     "metadata": {},
     "output_type": "display_data"
    },
    {
     "data": {
      "application/vnd.jupyter.widget-view+json": {
       "model_id": "01e559cbac6f4e56ab782cc52461fee9",
       "version_major": 2,
       "version_minor": 0
      },
      "text/plain": [
       "Epoch:   0%|          | 0/30 [00:00<?, ?it/s]"
      ]
     },
     "metadata": {},
     "output_type": "display_data"
    },
    {
     "name": "stdout",
     "output_type": "stream",
     "text": [
      "CITIC Securities: Test: 1467.98487\n"
     ]
    },
    {
     "data": {
      "application/vnd.jupyter.widget-view+json": {
       "model_id": "1cfd4b7f4f534e018927e580d6357491",
       "version_major": 2,
       "version_minor": 0
      },
      "text/plain": [
       "Dividing loop:   0%|          | 0/50 [00:00<?, ?it/s]"
      ]
     },
     "metadata": {},
     "output_type": "display_data"
    },
    {
     "data": {
      "application/vnd.jupyter.widget-view+json": {
       "model_id": "c331d598db254910945a84bbbbdfbb63",
       "version_major": 2,
       "version_minor": 0
      },
      "text/plain": [
       "Epoch:   0%|          | 0/30 [00:00<?, ?it/s]"
      ]
     },
     "metadata": {},
     "output_type": "display_data"
    },
    {
     "name": "stdout",
     "output_type": "stream",
     "text": [
      "Kweichow Moutai: Test: 1248.64616\n"
     ]
    },
    {
     "data": {
      "application/vnd.jupyter.widget-view+json": {
       "model_id": "a0f03792879141a390cc5f9606c4fa11",
       "version_major": 2,
       "version_minor": 0
      },
      "text/plain": [
       "Dividing loop:   0%|          | 0/50 [00:00<?, ?it/s]"
      ]
     },
     "metadata": {},
     "output_type": "display_data"
    },
    {
     "data": {
      "application/vnd.jupyter.widget-view+json": {
       "model_id": "20dbbea9576743709041826f9f61593c",
       "version_major": 2,
       "version_minor": 0
      },
      "text/plain": [
       "Epoch:   0%|          | 0/30 [00:00<?, ?it/s]"
      ]
     },
     "metadata": {},
     "output_type": "display_data"
    },
    {
     "name": "stdout",
     "output_type": "stream",
     "text": [
      "China Duty Free Group: Test: 91.36018\n"
     ]
    },
    {
     "data": {
      "application/vnd.jupyter.widget-view+json": {
       "model_id": "a21c63f704784d3abc6f9ad1ada81b6f",
       "version_major": 2,
       "version_minor": 0
      },
      "text/plain": [
       "Dividing loop:   0%|          | 0/50 [00:00<?, ?it/s]"
      ]
     },
     "metadata": {},
     "output_type": "display_data"
    },
    {
     "data": {
      "application/vnd.jupyter.widget-view+json": {
       "model_id": "f157b059377543e3bc6c71dc5cd439df",
       "version_major": 2,
       "version_minor": 0
      },
      "text/plain": [
       "Epoch:   0%|          | 0/30 [00:00<?, ?it/s]"
      ]
     },
     "metadata": {},
     "output_type": "display_data"
    },
    {
     "name": "stdout",
     "output_type": "stream",
     "text": [
      "Ping An: Test: 96.70326\n"
     ]
    },
    {
     "data": {
      "application/vnd.jupyter.widget-view+json": {
       "model_id": "45a3a019fdb54c589238e9d22cf2eb11",
       "version_major": 2,
       "version_minor": 0
      },
      "text/plain": [
       "Dividing loop:   0%|          | 0/50 [00:00<?, ?it/s]"
      ]
     },
     "metadata": {},
     "output_type": "display_data"
    },
    {
     "data": {
      "application/vnd.jupyter.widget-view+json": {
       "model_id": "cc7e92fa3f224f8f92b2c41f6ea16825",
       "version_major": 2,
       "version_minor": 0
      },
      "text/plain": [
       "Epoch:   0%|          | 0/30 [00:00<?, ?it/s]"
      ]
     },
     "metadata": {},
     "output_type": "display_data"
    },
    {
     "name": "stdout",
     "output_type": "stream",
     "text": [
      "China Pacific Insurance: Test: 463.99465\n"
     ]
    },
    {
     "data": {
      "application/vnd.jupyter.widget-view+json": {
       "model_id": "f1e5944b279344a183f1dee301e10e96",
       "version_major": 2,
       "version_minor": 0
      },
      "text/plain": [
       "Dividing loop:   0%|          | 0/50 [00:00<?, ?it/s]"
      ]
     },
     "metadata": {},
     "output_type": "display_data"
    },
    {
     "data": {
      "application/vnd.jupyter.widget-view+json": {
       "model_id": "22abe216229f4c998e8f594b4fbed34d",
       "version_major": 2,
       "version_minor": 0
      },
      "text/plain": [
       "Epoch:   0%|          | 0/30 [00:00<?, ?it/s]"
      ]
     },
     "metadata": {},
     "output_type": "display_data"
    },
    {
     "name": "stdout",
     "output_type": "stream",
     "text": [
      "PetroChina: Test: 90.78080\n"
     ]
    },
    {
     "data": {
      "application/vnd.jupyter.widget-view+json": {
       "model_id": "34edf5c9ec774b1aae1a1e8d8732a7e9",
       "version_major": 2,
       "version_minor": 0
      },
      "text/plain": [
       "Dividing loop:   0%|          | 0/50 [00:00<?, ?it/s]"
      ]
     },
     "metadata": {},
     "output_type": "display_data"
    },
    {
     "data": {
      "application/vnd.jupyter.widget-view+json": {
       "model_id": "143a95d697434f00998df97d6fccaa5b",
       "version_major": 2,
       "version_minor": 0
      },
      "text/plain": [
       "Epoch:   0%|          | 0/30 [00:00<?, ?it/s]"
      ]
     },
     "metadata": {},
     "output_type": "display_data"
    },
    {
     "name": "stdout",
     "output_type": "stream",
     "text": [
      "SAIC Motor: Test: 121.22004\n"
     ]
    },
    {
     "data": {
      "application/vnd.jupyter.widget-view+json": {
       "model_id": "2ebc38d78bfc4fd7bfd7c7eda4eaecec",
       "version_major": 2,
       "version_minor": 0
      },
      "text/plain": [
       "Dividing loop:   0%|          | 0/50 [00:00<?, ?it/s]"
      ]
     },
     "metadata": {},
     "output_type": "display_data"
    },
    {
     "data": {
      "application/vnd.jupyter.widget-view+json": {
       "model_id": "2a7c05c37946465994d11b2110dbebe2",
       "version_major": 2,
       "version_minor": 0
      },
      "text/plain": [
       "Epoch:   0%|          | 0/30 [00:00<?, ?it/s]"
      ]
     },
     "metadata": {},
     "output_type": "display_data"
    },
    {
     "name": "stdout",
     "output_type": "stream",
     "text": [
      "China Merchants Bank: Test: 6435.10132\n"
     ]
    },
    {
     "data": {
      "application/vnd.jupyter.widget-view+json": {
       "model_id": "20bc5ac5e38d4d76a8571f26d59ef1f9",
       "version_major": 2,
       "version_minor": 0
      },
      "text/plain": [
       "Dividing loop:   0%|          | 0/50 [00:00<?, ?it/s]"
      ]
     },
     "metadata": {},
     "output_type": "display_data"
    },
    {
     "data": {
      "application/vnd.jupyter.widget-view+json": {
       "model_id": "d5676dafa15c4b989691223f50f5a8f1",
       "version_major": 2,
       "version_minor": 0
      },
      "text/plain": [
       "Epoch:   0%|          | 0/30 [00:00<?, ?it/s]"
      ]
     },
     "metadata": {},
     "output_type": "display_data"
    },
    {
     "name": "stdout",
     "output_type": "stream",
     "text": [
      "Sinopec: Test: 92.06090\n"
     ]
    },
    {
     "data": {
      "application/vnd.jupyter.widget-view+json": {
       "model_id": "ed5017e1c88f45cdbdc6d947868f408f",
       "version_major": 2,
       "version_minor": 0
      },
      "text/plain": [
       "Dividing loop:   0%|          | 0/50 [00:00<?, ?it/s]"
      ]
     },
     "metadata": {},
     "output_type": "display_data"
    },
    {
     "data": {
      "application/vnd.jupyter.widget-view+json": {
       "model_id": "4d166e8edaed4444a60a0634c9e468e1",
       "version_major": 2,
       "version_minor": 0
      },
      "text/plain": [
       "Epoch:   0%|          | 0/30 [00:00<?, ?it/s]"
      ]
     },
     "metadata": {},
     "output_type": "display_data"
    },
    {
     "name": "stdout",
     "output_type": "stream",
     "text": [
      "Hengrui Medicine: Test: 631.63185\n"
     ]
    },
    {
     "data": {
      "application/vnd.jupyter.widget-view+json": {
       "model_id": "c926eb4bf5274d70a13748a1ac1429b6",
       "version_major": 2,
       "version_minor": 0
      },
      "text/plain": [
       "Dividing loop:   0%|          | 0/50 [00:00<?, ?it/s]"
      ]
     },
     "metadata": {},
     "output_type": "display_data"
    },
    {
     "data": {
      "application/vnd.jupyter.widget-view+json": {
       "model_id": "a326ece19acb47a9a142a682697e2f52",
       "version_major": 2,
       "version_minor": 0
      },
      "text/plain": [
       "Epoch:   0%|          | 0/30 [00:00<?, ?it/s]"
      ]
     },
     "metadata": {},
     "output_type": "display_data"
    },
    {
     "name": "stdout",
     "output_type": "stream",
     "text": [
      "China Life Insurance Company Limited: Test: 880.61419\n"
     ]
    }
   ],
   "source": [
    "ch_prices = {\n",
    "    \"path\": \"../Data/Chinese Companies/\",\n",
    "    \"use_denoising\": True,\n",
    "    \"prices_not_returns\": True\n",
    "}\n",
    "ch_returns = {\n",
    "    \"path\": \"../Data/Chinese Companies/\",\n",
    "    \"use_denoising\": True,\n",
    "    \"prices_not_returns\": False\n",
    "}\n",
    "\n",
    "result_ch_prices = get_wapes(**ch_prices)\n",
    "result_ch_returns = get_wapes(**ch_returns)\n",
    "\n",
    "ch_result_df = pd.DataFrame({\n",
    "    \"Company\": result_ch_prices.keys(),\n",
    "    \"WAPE (price)\": result_ch_prices.values(),\n",
    "    \"WAPE (return)\": result_ch_returns.values()\n",
    "})\n",
    "\n",
    "ch_result_df.to_csv(\"mssa_wn_ch.csv\", index=False)"
   ]
  },
  {
   "cell_type": "code",
   "execution_count": null,
   "metadata": {
    "collapsed": false,
    "jupyter": {
     "outputs_hidden": false
    }
   },
   "outputs": [],
   "source": []
  }
 ],
 "metadata": {
  "kernelspec": {
   "display_name": "Python 3.10 (XPython)",
   "language": "python",
   "name": "xpython"
  },
  "language_info": {
   "file_extension": ".py",
   "mimetype": "text/x-python",
   "name": "python",
   "version": "3.10.8"
  }
 },
 "nbformat": 4,
 "nbformat_minor": 4
}
