{
 "cells": [
  {
   "cell_type": "code",
   "execution_count": 1,
   "metadata": {
    "collapsed": false
   },
   "outputs": [],
   "source": [
    "import torch\n",
    "from torch import nn, optim\n",
    "import numpy as np\n",
    "import matplotlib.pyplot as plt\n",
    "import pandas as pd\n",
    "from sklearn.model_selection import train_test_split"
   ]
  },
  {
   "cell_type": "markdown",
   "metadata": {
    "collapsed": false
   },
   "source": [
    "# Предсказывать будем цены, а не доходности.\n",
    "Так как цены сами по себе предсказывать спроще, они менее похожи на шум, а также подлежат более-менее нормальной декомпозиции. Доходности же можно вычислить, исходя из формулы: $${r_t = \\frac{y_t}{y_{t - 1} } - 1}$$"
   ]
  },
  {
   "cell_type": "markdown",
   "metadata": {
    "collapsed": false
   },
   "source": [
    "# Загрузка данных"
   ]
  },
  {
   "cell_type": "code",
   "execution_count": 2,
   "metadata": {
    "collapsed": false
   },
   "outputs": [
    {
     "data": {
      "text/html": [
       "<div>\n",
       "<style scoped>\n",
       "    .dataframe tbody tr th:only-of-type {\n",
       "        vertical-align: middle;\n",
       "    }\n",
       "\n",
       "    .dataframe tbody tr th {\n",
       "        vertical-align: top;\n",
       "    }\n",
       "\n",
       "    .dataframe thead th {\n",
       "        text-align: right;\n",
       "    }\n",
       "</style>\n",
       "<table border=\"1\" class=\"dataframe\">\n",
       "  <thead>\n",
       "    <tr style=\"text-align: right;\">\n",
       "      <th></th>\n",
       "      <th>Date</th>\n",
       "      <th>Open</th>\n",
       "      <th>High</th>\n",
       "      <th>Low</th>\n",
       "      <th>Close</th>\n",
       "      <th>Adj Close</th>\n",
       "      <th>Volume</th>\n",
       "    </tr>\n",
       "  </thead>\n",
       "  <tbody>\n",
       "    <tr>\n",
       "      <th>0</th>\n",
       "      <td>02.06.1972</td>\n",
       "      <td>2.153220</td>\n",
       "      <td>2.173495</td>\n",
       "      <td>2.141055</td>\n",
       "      <td>2.149165</td>\n",
       "      <td>0.266799</td>\n",
       "      <td>1174468</td>\n",
       "    </tr>\n",
       "    <tr>\n",
       "      <th>1</th>\n",
       "      <td>05.06.1972</td>\n",
       "      <td>2.149165</td>\n",
       "      <td>2.169440</td>\n",
       "      <td>2.141055</td>\n",
       "      <td>2.149165</td>\n",
       "      <td>0.266799</td>\n",
       "      <td>5209582</td>\n",
       "    </tr>\n",
       "    <tr>\n",
       "      <th>2</th>\n",
       "      <td>06.06.1972</td>\n",
       "      <td>2.149165</td>\n",
       "      <td>2.157275</td>\n",
       "      <td>2.116725</td>\n",
       "      <td>2.124835</td>\n",
       "      <td>0.263778</td>\n",
       "      <td>1424158</td>\n",
       "    </tr>\n",
       "    <tr>\n",
       "      <th>3</th>\n",
       "      <td>07.06.1972</td>\n",
       "      <td>2.124835</td>\n",
       "      <td>2.137000</td>\n",
       "      <td>2.112670</td>\n",
       "      <td>2.112670</td>\n",
       "      <td>0.262268</td>\n",
       "      <td>675088</td>\n",
       "    </tr>\n",
       "    <tr>\n",
       "      <th>4</th>\n",
       "      <td>08.06.1972</td>\n",
       "      <td>2.112670</td>\n",
       "      <td>2.128890</td>\n",
       "      <td>2.096449</td>\n",
       "      <td>2.096449</td>\n",
       "      <td>0.260255</td>\n",
       "      <td>1038834</td>\n",
       "    </tr>\n",
       "    <tr>\n",
       "      <th>...</th>\n",
       "      <td>...</td>\n",
       "      <td>...</td>\n",
       "      <td>...</td>\n",
       "      <td>...</td>\n",
       "      <td>...</td>\n",
       "      <td>...</td>\n",
       "      <td>...</td>\n",
       "    </tr>\n",
       "    <tr>\n",
       "      <th>12740</th>\n",
       "      <td>08.12.2022</td>\n",
       "      <td>13.200000</td>\n",
       "      <td>13.260000</td>\n",
       "      <td>13.070000</td>\n",
       "      <td>13.120000</td>\n",
       "      <td>13.120000</td>\n",
       "      <td>32376300</td>\n",
       "    </tr>\n",
       "    <tr>\n",
       "      <th>12741</th>\n",
       "      <td>09.12.2022</td>\n",
       "      <td>13.040000</td>\n",
       "      <td>13.360000</td>\n",
       "      <td>13.040000</td>\n",
       "      <td>13.180000</td>\n",
       "      <td>13.180000</td>\n",
       "      <td>41531600</td>\n",
       "    </tr>\n",
       "    <tr>\n",
       "      <th>12742</th>\n",
       "      <td>12.12.2022</td>\n",
       "      <td>13.200000</td>\n",
       "      <td>13.470000</td>\n",
       "      <td>13.100000</td>\n",
       "      <td>13.460000</td>\n",
       "      <td>13.460000</td>\n",
       "      <td>35473800</td>\n",
       "    </tr>\n",
       "    <tr>\n",
       "      <th>12743</th>\n",
       "      <td>13.12.2022</td>\n",
       "      <td>13.780000</td>\n",
       "      <td>13.920000</td>\n",
       "      <td>13.370000</td>\n",
       "      <td>13.570000</td>\n",
       "      <td>13.570000</td>\n",
       "      <td>57872100</td>\n",
       "    </tr>\n",
       "    <tr>\n",
       "      <th>12744</th>\n",
       "      <td>14.12.2022</td>\n",
       "      <td>13.570000</td>\n",
       "      <td>13.780000</td>\n",
       "      <td>13.360000</td>\n",
       "      <td>13.480000</td>\n",
       "      <td>13.480000</td>\n",
       "      <td>51175100</td>\n",
       "    </tr>\n",
       "  </tbody>\n",
       "</table>\n",
       "<p>12745 rows × 7 columns</p>\n",
       "</div>"
      ],
      "text/plain": [
       "             Date       Open       High        Low      Close  Adj Close  \\\n",
       "0      02.06.1972   2.153220   2.173495   2.141055   2.149165   0.266799   \n",
       "1      05.06.1972   2.149165   2.169440   2.141055   2.149165   0.266799   \n",
       "2      06.06.1972   2.149165   2.157275   2.116725   2.124835   0.263778   \n",
       "3      07.06.1972   2.124835   2.137000   2.112670   2.112670   0.262268   \n",
       "4      08.06.1972   2.112670   2.128890   2.096449   2.096449   0.260255   \n",
       "...           ...        ...        ...        ...        ...        ...   \n",
       "12740  08.12.2022  13.200000  13.260000  13.070000  13.120000  13.120000   \n",
       "12741  09.12.2022  13.040000  13.360000  13.040000  13.180000  13.180000   \n",
       "12742  12.12.2022  13.200000  13.470000  13.100000  13.460000  13.460000   \n",
       "12743  13.12.2022  13.780000  13.920000  13.370000  13.570000  13.570000   \n",
       "12744  14.12.2022  13.570000  13.780000  13.360000  13.480000  13.480000   \n",
       "\n",
       "         Volume  \n",
       "0       1174468  \n",
       "1       5209582  \n",
       "2       1424158  \n",
       "3        675088  \n",
       "4       1038834  \n",
       "...         ...  \n",
       "12740  32376300  \n",
       "12741  41531600  \n",
       "12742  35473800  \n",
       "12743  57872100  \n",
       "12744  51175100  \n",
       "\n",
       "[12745 rows x 7 columns]"
      ]
     },
     "execution_count": 2,
     "metadata": {},
     "output_type": "execute_result"
    }
   ],
   "source": [
    "df = pd.read_csv(\"../Data/American Companies/FORD 1994 2022.csv\")\n",
    "df"
   ]
  },
  {
   "cell_type": "code",
   "execution_count": 3,
   "metadata": {
    "collapsed": false
   },
   "outputs": [],
   "source": [
    "open_price = df.Open\n",
    "date = df.Date.apply(lambda x: pd.to_datetime(x, dayfirst= True))"
   ]
  },
  {
   "cell_type": "code",
   "execution_count": 4,
   "metadata": {
    "collapsed": false
   },
   "outputs": [],
   "source": [
    "bad_data = []\n",
    "for ind, el in enumerate(open_price):\n",
    "    try:\n",
    "        float(el)\n",
    "        assert(el != \"0\")\n",
    "    except:\n",
    "        print(el)\n",
    "        bad_data.append(ind)"
   ]
  },
  {
   "cell_type": "code",
   "execution_count": 5,
   "metadata": {
    "collapsed": false
   },
   "outputs": [],
   "source": [
    "bad_data = np.array(bad_data)"
   ]
  },
  {
   "cell_type": "code",
   "execution_count": 6,
   "metadata": {
    "collapsed": false
   },
   "outputs": [],
   "source": [
    "open_price = open_price.drop(bad_data)\n",
    "dates = date.drop(bad_data)"
   ]
  },
  {
   "cell_type": "code",
   "execution_count": 7,
   "metadata": {
    "collapsed": false
   },
   "outputs": [
    {
     "data": {
      "image/png": "[encoded data removed]",
      "text/plain": [
       "<Figure size 2000x500 with 1 Axes>"
      ]
     },
     "metadata": {},
     "output_type": "display_data"
    }
   ],
   "source": [
    "plt.figure(figsize= (20, 5))\n",
    "plt.title(\"Stock Prices\")\n",
    "plt.plot(dates[:], open_price[:])\n",
    "plt.grid(True)\n",
    "plt.show()"
   ]
  },
  {
   "cell_type": "code",
   "execution_count": 8,
   "metadata": {
    "collapsed": false
   },
   "outputs": [
    {
     "data": {
      "image/png": "[encoded data removed]",
      "text/plain": [
       "<Figure size 2000x500 with 1 Axes>"
      ]
     },
     "metadata": {},
     "output_type": "display_data"
    }
   ],
   "source": [
    "plt.figure(figsize= (20, 5))\n",
    "plt.title(\"Stock Returns\")\n",
    "plt.plot(dates[1:], open_price.pct_change()[1:])\n",
    "plt.grid(True)\n",
    "plt.show()"
   ]
  },
  {
   "cell_type": "code",
   "execution_count": 9,
   "metadata": {
    "collapsed": false
   },
   "outputs": [],
   "source": [
    "open_price = open_price.astype(np.float32).to_numpy()\n",
    "dates = dates.to_numpy()"
   ]
  },
  {
   "cell_type": "markdown",
   "metadata": {
    "collapsed": false
   },
   "source": [
    "# Преобразование данных во входные данные"
   ]
  },
  {
   "cell_type": "code",
   "execution_count": 10,
   "metadata": {
    "collapsed": false
   },
   "outputs": [],
   "source": [
    "def data_to_X_y(x, window_size= 40):\n",
    "    X = []\n",
    "    y = []\n",
    "    for i in range(len(x) - window_size):\n",
    "        row = list(map(lambda a: a, x[i:i + window_size]))\n",
    "        X.append(np.array(row))\n",
    "        col = [x[i + window_size]]\n",
    "        y.append(np.array(col))\n",
    "\n",
    "    return np.array(X), np.array(y)"
   ]
  },
  {
   "cell_type": "markdown",
   "metadata": {
    "collapsed": false
   },
   "source": [
    "# Убираем шум"
   ]
  },
  {
   "cell_type": "code",
   "execution_count": 11,
   "metadata": {
    "collapsed": false
   },
   "outputs": [],
   "source": [
    "# from Functions.SSA import SSA"
   ]
  },
  {
   "cell_type": "code",
   "execution_count": 12,
   "metadata": {
    "collapsed": false
   },
   "outputs": [],
   "source": [
    "# L = 2\n",
    "# m_opt, reconstructed_series = SSA.multiple_stage_denoising(open_price, L, max_iter= 500)\n",
    "# m_opt, reconstructed_series.shape"
   ]
  },
  {
   "cell_type": "code",
   "execution_count": 13,
   "metadata": {
    "collapsed": false
   },
   "outputs": [],
   "source": [
    "# start = -100\n",
    "# end = None\n",
    "#\n",
    "# plt.figure(figsize= (20, 5))\n",
    "# plt.plot(dates[start:end], reconstructed_series[start:end], label= \"Reconstructed\")\n",
    "# plt.plot(dates[start:end], open_price[start:end], label= \"Initial series\", alpha= 0.5)\n",
    "# plt.grid(True)\n",
    "# plt.legend(loc= \"best\")\n",
    "# plt.show()"
   ]
  },
  {
   "cell_type": "markdown",
   "metadata": {
    "collapsed": false
   },
   "source": [
    "### Формирование матрицы траекторий"
   ]
  },
  {
   "cell_type": "code",
   "execution_count": 14,
   "metadata": {
    "collapsed": false
   },
   "outputs": [
    {
     "data": {
      "text/plain": [
       "(torch.Size([12705, 40]), torch.float32, torch.Size([12705, 1]), torch.float32)"
      ]
     },
     "execution_count": 14,
     "metadata": {},
     "output_type": "execute_result"
    }
   ],
   "source": [
    "WINDOW_SIZE = 40 #40\n",
    "X, y = data_to_X_y(open_price, window_size= WINDOW_SIZE)\n",
    "dates_x, dates_y = data_to_X_y(dates, window_size= WINDOW_SIZE)\n",
    "\n",
    "X = torch.from_numpy(X).to(torch.float32)\n",
    "y = torch.from_numpy(y).to(torch.float32)\n",
    "\n",
    "X.shape, X.dtype, y.shape, y.dtype"
   ]
  },
  {
   "cell_type": "markdown",
   "metadata": {
    "collapsed": false
   },
   "source": [
    "# Разбивка на обучение и тест"
   ]
  },
  {
   "cell_type": "code",
   "execution_count": 15,
   "metadata": {
    "collapsed": false
   },
   "outputs": [],
   "source": [
    "X_train, X_test, y_train, y_test = train_test_split(\n",
    "    X, y,\n",
    "    test_size= 0.1,\n",
    "    shuffle= False\n",
    ")\n",
    "\n",
    "dates_train_x, dates_test_x, dates_train_y, dates_test_y = train_test_split(\n",
    "    dates_x, dates_y,\n",
    "    test_size= 0.1,\n",
    "    shuffle= False\n",
    ")"
   ]
  },
  {
   "cell_type": "code",
   "execution_count": 16,
   "metadata": {
    "collapsed": false
   },
   "outputs": [
    {
     "data": {
      "text/plain": [
       "(torch.Size([10290, 40]),\n",
       " torch.Size([1144, 40]),\n",
       " torch.Size([1271, 40]),\n",
       " torch.Size([10290, 1]),\n",
       " torch.Size([1144, 1]),\n",
       " torch.Size([1271, 1]))"
      ]
     },
     "execution_count": 16,
     "metadata": {},
     "output_type": "execute_result"
    }
   ],
   "source": [
    "X_train, X_val, y_train, y_val = train_test_split(\n",
    "    X_train, y_train,\n",
    "    test_size= 0.1,\n",
    "    shuffle= False\n",
    ")\n",
    "\n",
    "dates_train_x, dates_val_x, dates_train_y, dates_val_y = train_test_split(\n",
    "    dates_train_x, dates_train_y,\n",
    "    test_size= 0.1,\n",
    "    shuffle= False\n",
    ")\n",
    "\n",
    "X_train.shape, X_val.shape, X_test.shape, y_train.shape, y_val.shape, y_test.shape"
   ]
  },
  {
   "cell_type": "code",
   "execution_count": 17,
   "metadata": {
    "collapsed": false
   },
   "outputs": [
    {
     "data": {
      "text/plain": [
       "((10290, 40), (10290, 1), (1144, 40), (1144, 1), (1271, 40), (1271, 1))"
      ]
     },
     "execution_count": 17,
     "metadata": {},
     "output_type": "execute_result"
    }
   ],
   "source": [
    "dates_train_x.shape, dates_train_y.shape, dates_val_x.shape, dates_val_y.shape, dates_test_x.shape, dates_test_y.shape"
   ]
  },
  {
   "cell_type": "markdown",
   "metadata": {
    "collapsed": false
   },
   "source": [
    "# Скалирование данных"
   ]
  },
  {
   "cell_type": "code",
   "execution_count": 18,
   "metadata": {
    "collapsed": false
   },
   "outputs": [
    {
     "name": "stdout",
     "output_type": "stream",
     "text": [
      "Min: 0.6437360048294067\n",
      "Max: 36.81948471069336\n"
     ]
    }
   ],
   "source": [
    "class MinMaxScaler():\n",
    "    def __init__(self):\n",
    "        self.min = 0\n",
    "        self.max = 1\n",
    "\n",
    "    def fit(self, data):\n",
    "        self.min = data.min()\n",
    "        self.max = data.max()\n",
    "\n",
    "    def transform(self, data):\n",
    "        return (data - self.min) / (self.max - self.min)\n",
    "\n",
    "    def inverse_transform(self, data):\n",
    "        return (self.max - self.min) * data + self.min\n",
    "\n",
    "    def __str__(self):\n",
    "        return f\"Min: {self.min}\\nMax: {self.max}\"\n",
    "\n",
    "\n",
    "class StandardScaler():\n",
    "    def __init__(self):\n",
    "        self.mean = 0\n",
    "        self.std = 1\n",
    "\n",
    "    def fit(self, data):\n",
    "        self.mean = data.mean()\n",
    "        self.std = data.std()\n",
    "\n",
    "    def transform(self, data):\n",
    "        return (data - self.mean) / self.std\n",
    "\n",
    "    def inverse_transform(self, data):\n",
    "        return self.std * data + self.mean\n",
    "\n",
    "    def __str__(self):\n",
    "        return f\"Mean: {self.mean}\\nStd: {self.std}\"\n",
    "\n",
    "\n",
    "scaler = MinMaxScaler()\n",
    "scaler.fit(torch.concat((torch.unsqueeze(X_train[0], dim= 1), y_train, y_val), dim=0))\n",
    "\n",
    "X_train_scaled = scaler.transform(X_train)\n",
    "X_val_scaled = scaler.transform(X_val)\n",
    "X_test_scaled = scaler.transform(X_test)\n",
    "\n",
    "y_train_scaled = scaler.transform(y_train)\n",
    "y_val_scaled = scaler.transform(y_val)\n",
    "y_test_scaled = scaler.transform(y_test)\n",
    "print(scaler)"
   ]
  },
  {
   "cell_type": "markdown",
   "metadata": {
    "collapsed": false
   },
   "source": [
    "# Создание датасетов и загрузчиков"
   ]
  },
  {
   "cell_type": "code",
   "execution_count": 19,
   "metadata": {
    "collapsed": false
   },
   "outputs": [],
   "source": [
    "class TimeSeriesDataSet(torch.utils.data.Dataset):\n",
    "    def __init__(self, X, y):\n",
    "        self.X = X\n",
    "        self.y = y\n",
    "\n",
    "    def __len__(self):\n",
    "        return len(self.X)\n",
    "\n",
    "    def __getitem__(self, item):\n",
    "        return self.X[item], self.y[item]"
   ]
  },
  {
   "cell_type": "code",
   "execution_count": 20,
   "metadata": {
    "collapsed": false
   },
   "outputs": [],
   "source": [
    "train_dataset = TimeSeriesDataSet(X_train_scaled, y_train_scaled)\n",
    "val_dataset = TimeSeriesDataSet(X_val_scaled, y_val_scaled)\n",
    "test_dataset = TimeSeriesDataSet(X_test_scaled, y_test_scaled)\n",
    "\n",
    "# train_dataset = TimeSeriesDataSet(X_train, y_train)\n",
    "# val_dataset = TimeSeriesDataSet(X_val, y_val)\n",
    "# test_dataset = TimeSeriesDataSet(X_test, y_test)"
   ]
  },
  {
   "cell_type": "code",
   "execution_count": 21,
   "metadata": {
    "collapsed": false
   },
   "outputs": [],
   "source": [
    "train_loader = torch.utils.data.DataLoader(\n",
    "    train_dataset,\n",
    "    batch_size= 350,\n",
    "    shuffle= False\n",
    ")\n",
    "val_loader = torch.utils.data.DataLoader(\n",
    "    val_dataset,\n",
    "    batch_size= 350,\n",
    "    shuffle= False\n",
    ")\n",
    "test_loader = torch.utils.data.DataLoader(\n",
    "    test_dataset,\n",
    "    batch_size= 350,\n",
    "    shuffle= False,\n",
    ")"
   ]
  },
  {
   "cell_type": "markdown",
   "metadata": {
    "collapsed": false
   },
   "source": [
    "# Построение модели"
   ]
  },
  {
   "cell_type": "code",
   "execution_count": null,
   "metadata": {
    "collapsed": false
   },
   "outputs": [],
   "source": [
    "torch.manual_seed(42)\n",
    "torch.backends.cudnn.deterministic = True\n",
    "np.random.seed(42)\n",
    "import random\n",
    "random.seed(42)\n",
    "torch.backends.cudnn.benchmark = False\n",
    "torch.backends.cudnn.enabled = False\n",
    "\n",
    "class WaveletMorlet(nn.Module):\n",
    "    def __init__(self, scale_size= 5):\n",
    "        super().__init__()\n",
    "        self.scale_size = torch.nn.Parameter(torch.tensor([scale_size], dtype= torch.float32), requires_grad= True)\n",
    "\n",
    "    def forward(self, X):\n",
    "        return torch.cos(self.scale_size * X) * torch.exp(- (X ** 2) / 2)\n",
    "\n",
    "class StockWN(nn.Module):\n",
    "    def __init__(self, input_features, number_of_wavelons= 1, w0_coef= 5):\n",
    "        super(StockWN, self).__init__()\n",
    "        # сдвиг\n",
    "        self.translation = torch.nn.Parameter(torch.rand([input_features, number_of_wavelons], requires_grad= True))\n",
    "        # сжатие\n",
    "        self.dilation = torch.nn.Parameter(torch.rand([input_features, number_of_wavelons], requires_grad= True))\n",
    "\n",
    "        # веса линейной части\n",
    "        self.lm_weights = torch.nn.Parameter(torch.rand(1 + input_features, requires_grad= True))\n",
    "        # веса wavelet части\n",
    "        self.wn_weights = torch.nn.Parameter(torch.rand(number_of_wavelons, requires_grad= True))\n",
    "\n",
    "        self.number_of_wavelons = number_of_wavelons\n",
    "        self.input_features = input_features\n",
    "\n",
    "        self.activation_functions = nn.ParameterList(WaveletMorlet(w0_coef) for _ in range(number_of_wavelons))\n",
    "\n",
    "    def forward(self, X, device= \"cpu\"):\n",
    "        output = torch.zeros(X.shape[0]).to(device)\n",
    "\n",
    "        for i in range(len(X)):\n",
    "            vector = X[i]\n",
    "            J = torch.concat([torch.unsqueeze(vector, dim= 1) for _ in range(self.number_of_wavelons)], dim= 1)\n",
    "            Z = (J - self.translation) / self.dilation\n",
    "            Z_new = self.activation(Z)\n",
    "            Z_new_trans = torch.t(Z_new)\n",
    "            Z_final = torch.prod(Z_new_trans, dim= 1)\n",
    "\n",
    "            wavelet_net = torch.dot(Z_final, self.wn_weights)\n",
    "            linear_net = torch.dot(torch.concat([torch.tensor([1], dtype= torch.float32).to(device), vector]), self.lm_weights)\n",
    "            output[i] = wavelet_net + linear_net\n",
    "\n",
    "        return torch.unsqueeze(output, dim= 1)"
   ]
  },
  {
   "cell_type": "markdown",
   "metadata": {
    "collapsed": false
   },
   "source": [
    "# Функция обучения и тестового вычисления, а также построение графиков"
   ]
  },
  {
   "cell_type": "markdown",
   "metadata": {
    "collapsed": false
   },
   "source": [
    "$${sMAPE = \\frac{100}{n} \\sum_{t = 1}^n \\frac{|F_t - A_t|}{|F_t + A_t| / 2}}$$\n",
    "$${WAPE = \\frac{\\sum_{t = 1}^{n}|A_t - F_t|}{\\sum_{t = 1}^{n}|A_t|}}$$\n",
    "$${MAPE = \\sum_{t = 1}^{n}\\frac{|A_t - F_t|}{|A_t|}}$$"
   ]
  },
  {
   "cell_type": "code",
   "execution_count": null,
   "metadata": {
    "collapsed": false
   },
   "outputs": [],
   "source": [
    "from Functions.Metrics import Metrics\n",
    "from Functions.Train_Eval_Plot import Train_Eval_Plot\n",
    "from Functions.lions_optimizer import Lion"
   ]
  },
  {
   "cell_type": "code",
   "execution_count": null,
   "metadata": {
    "collapsed": false
   },
   "outputs": [],
   "source": [
    "metrics_dict = Metrics()"
   ]
  },
  {
   "cell_type": "markdown",
   "metadata": {
    "collapsed": false
   },
   "source": [
    "# Обучение модели"
   ]
  },
  {
   "cell_type": "code",
   "execution_count": null,
   "metadata": {
    "collapsed": false
   },
   "outputs": [],
   "source": [
    "torch.manual_seed(42)\n",
    "torch.backends.cudnn.deterministic = True\n",
    "np.random.seed(42)\n",
    "import random\n",
    "random.seed(42)\n",
    "torch.backends.cudnn.benchmark = False\n",
    "torch.backends.cudnn.enabled = False\n",
    "\n",
    "params = {\n",
    "    \"input_features\": X_train.shape[1],\n",
    "    \"number_of_wavelons\": 2\n",
    "}\n",
    "\n",
    "model = StockWN(**params)"
   ]
  },
  {
   "cell_type": "code",
   "execution_count": null,
   "metadata": {
    "collapsed": false
   },
   "outputs": [],
   "source": [
    "epochs = 50\n",
    "criterion = nn.MSELoss()\n",
    "optimizer = Lion(model.parameters(), lr= 3e-4)\n",
    "#optimizer = optim.Adam(model.parameters(), lr= 3e-5)\n",
    "metric_name = \"WAPE\"\n",
    "\n",
    "train_params = {\n",
    "    \"model\": model,\n",
    "    \"criterion\": criterion,\n",
    "    \"metric\": metrics_dict[metric_name],\n",
    "    \"optimizer\": optimizer,\n",
    "    \"epochs\": epochs,\n",
    "    \"train_data\": {\n",
    "        \"train\": train_loader,\n",
    "        \"val\": val_loader\n",
    "    },\n",
    "    \"verbose\": False,\n",
    "    \"lag\": 1,\n",
    "    \"metric_to_max\": False,\n",
    "    \"device\": \"cuda\"\n",
    "}\n",
    "train_res = Train_Eval_Plot.train(**train_params)"
   ]
  },
  {
   "cell_type": "code",
   "execution_count": null,
   "metadata": {
    "collapsed": false
   },
   "outputs": [],
   "source": [
    "Train_Eval_Plot.plot_train_res(train_res)"
   ]
  },
  {
   "cell_type": "code",
   "execution_count": null,
   "metadata": {
    "collapsed": false
   },
   "outputs": [],
   "source": [
    "model.load_state_dict(train_res[\"best model\"])"
   ]
  },
  {
   "cell_type": "code",
   "execution_count": null,
   "metadata": {
    "collapsed": false
   },
   "outputs": [],
   "source": [
    "eval_res = Train_Eval_Plot.eval(model, test_loader, metrics_dict[metric_name], criterion, device= \"cpu\")"
   ]
  },
  {
   "cell_type": "code",
   "execution_count": null,
   "metadata": {
    "collapsed": false
   },
   "outputs": [],
   "source": [
    "Train_Eval_Plot.plot_eval_res(eval_res, y_test_scaled, scaler, dates_test_y, start= -0, end= None)"
   ]
  },
  {
   "cell_type": "markdown",
   "metadata": {
    "collapsed": false
   },
   "source": [
    "# Вычисление доходностей"
   ]
  },
  {
   "cell_type": "code",
   "execution_count": null,
   "metadata": {
    "collapsed": false
   },
   "outputs": [],
   "source": [
    "predicted_open_prices = pd.DataFrame({\n",
    "    \"Test predictions\": scaler.inverse_transform(eval_res[\"test preds\"]).reshape(-1),\n",
    "    \"Test ground trouth\": y_test.reshape(-1),\n",
    "}, index= pd.to_datetime(dates_test_y.reshape(-1), dayfirst= True))\n",
    "\n",
    "predicted_open_prices"
   ]
  },
  {
   "cell_type": "code",
   "execution_count": null,
   "metadata": {
    "collapsed": false
   },
   "outputs": [],
   "source": [
    "pct_change = predicted_open_prices.pct_change()[1:]\n",
    "\n",
    "predicted_pct_changes = np.array(pct_change[\"Test predictions\"])\n",
    "test_values = np.array(pct_change[\"Test ground trouth\"])\n",
    "dates = list(predicted_open_prices.index)[1:]\n",
    "\n",
    "metric_value = metrics_dict.metrics_dict[\"RMSE\"]()(predicted_pct_changes, test_values)"
   ]
  },
  {
   "cell_type": "code",
   "execution_count": null,
   "metadata": {
    "collapsed": false
   },
   "outputs": [],
   "source": [
    "from matplotlib import rcParams\n",
    "\n",
    "start = -128\n",
    "end = None\n",
    "\n",
    "rcParams[\"figure.figsize\"] = 20, 5\n",
    "print(f\"RMSE: {metric_value}\")\n",
    "plt.plot(dates[start:end], predicted_pct_changes[start:end], label= \"Predicted\")\n",
    "plt.plot(dates[start:end], test_values[start:end], label= \"Actual\")\n",
    "plt.grid(True)\n",
    "plt.legend(loc= \"best\")\n",
    "plt.show()"
   ]
  },
  {
   "cell_type": "code",
   "execution_count": null,
   "metadata": {
    "collapsed": false
   },
   "outputs": [],
   "source": [
    "model.activation.scale_size"
   ]
  },
  {
   "cell_type": "code",
   "execution_count": null,
   "metadata": {
    "collapsed": false
   },
   "outputs": [],
   "source": []
  }
 ],
 "metadata": {
  "kernelspec": {
   "display_name": "Python 3.10 (XPython)",
   "language": "python",
   "name": "xpython"
  },
  "language_info": {
   "codemirror_mode": {
    "name": "ipython",
    "version": 2
   },
   "file_extension": ".py",
   "mimetype": "text/x-python",
   "name": "python",
   "nbconvert_exporter": "python",
   "pygments_lexer": "ipython2",
   "version": "2.7.6"
  }
 },
 "nbformat": 4,
 "nbformat_minor": 0
}
