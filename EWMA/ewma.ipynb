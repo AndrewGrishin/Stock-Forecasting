{
 "cells": [
  {
   "cell_type": "code",
   "execution_count": 1,
   "metadata": {
    "collapsed": true
   },
   "outputs": [],
   "source": [
    "import pandas as pd\n",
    "import numpy as np\n",
    "import matplotlib.pyplot as plt\n",
    "import optuna\n",
    "import os\n",
    "from tqdm.notebook import tqdm\n",
    "\n",
    "optuna.logging.set_verbosity(optuna.logging.WARNING)"
   ]
  },
  {
   "cell_type": "code",
   "execution_count": 2,
   "metadata": {
    "collapsed": false
   },
   "outputs": [],
   "source": [
    "def get_all_ewma(y, alpha= 2, n= 5):\n",
    "    v = []\n",
    "    beta = 1 - alpha / (n + 1)\n",
    "\n",
    "    for i in range(1, len(y) + 1):\n",
    "        betas = (beta * np.ones(i)) ** np.arange(i)\n",
    "        addition = np.dot(betas, (y[:i])[::-1])\n",
    "        new_value = (1 - beta) * addition\n",
    "        correction = (1 - beta ** (i)) ** (-1)\n",
    "        v.append(new_value * correction)\n",
    "\n",
    "    return np.array(v)\n",
    "\n",
    "def get_exact_ewma(y, alpha= 2, n= 5, val= 1):\n",
    "    v = []\n",
    "    beta = 1 - alpha / (n + 1)\n",
    "\n",
    "    betas = (beta * np.ones(val)) ** np.arange(val)\n",
    "    addition = np.dot(betas, (y[:val])[::-1])\n",
    "    new_value = (1 - beta) * addition\n",
    "    correction = (1 - beta ** (val)) ** (-1)\n",
    "    v.append(new_value * correction)\n",
    "\n",
    "    return np.array(v)\n",
    "\n",
    "def wape(y, y_hat):\n",
    "    return np.sum(np.abs(y - y_hat)) / np.sum(np.abs(y))\n",
    "\n",
    "def mape(y, y_hat):\n",
    "    return np.mean(np.abs((y - y_hat) / y))"
   ]
  },
  {
   "cell_type": "code",
   "execution_count": 3,
   "metadata": {
    "collapsed": false
   },
   "outputs": [],
   "source": [
    "# entries_us = os.listdir(\"../Data/American Companies\")\n",
    "# entries_us.remove(\".DS_Store\")\n",
    "# entries_ch = os.listdir(\"../Data/Chinese Companies\")\n",
    "# entries_ch.remove(\".DS_Store\")\n",
    "#\n",
    "# result_dict_us = dict()\n",
    "# result_dict_ch = dict()"
   ]
  },
  {
   "cell_type": "code",
   "execution_count": 4,
   "metadata": {
    "collapsed": false
   },
   "outputs": [],
   "source": [
    "def get_wapes(path, country, metrics, prices_not_returns, valid_size, test_size):\n",
    "\n",
    "    result_dict = dict()\n",
    "    entries = os.listdir(path)\n",
    "    entries.remove(\".DS_Store\")\n",
    "\n",
    "    pbar = tqdm(entries, desc= f\"{country} companies\")\n",
    "    for file_name in pbar:\n",
    "\n",
    "        df = pd.read_csv(path + file_name if path[-1] == r\"/\" else path + r\"/\" + file_name).dropna()\n",
    "        prices = np.array(df.Open) if prices_not_returns else np.array(df.Open.pct_change())[1:]\n",
    "\n",
    "        valid_size = valid_size\n",
    "        test_size = test_size\n",
    "\n",
    "        # Подбор k\n",
    "        def objective(trial):\n",
    "\n",
    "            forecast = []\n",
    "            start_h = len(prices) - valid_size - test_size\n",
    "            end_h = len(prices) - test_size\n",
    "\n",
    "            k = trial.suggest_float(\"k\" , 0, 1)\n",
    "            for i in range(start_h, end_h):\n",
    "                v = get_exact_ewma(prices, alpha= 2, n= 20, val= i - 1)\n",
    "                f = k * prices[i - 1] + (1 - k) * v\n",
    "                forecast.append(f)\n",
    "\n",
    "            forecast = np.array(forecast)\n",
    "            y = prices[-(test_size + valid_size):-test_size]\n",
    "            y_hat = forecast.reshape(-1)\n",
    "            wape = metrics(y, y_hat)\n",
    "            metrics_val = wape * 100\n",
    "\n",
    "            return metrics_val\n",
    "\n",
    "        study = optuna.create_study()\n",
    "        study.optimize(objective, n_trials=200, n_jobs= -1, show_progress_bar= False)\n",
    "\n",
    "        # Тестрирование\n",
    "        forecast = []\n",
    "        k_opt = study.best_params[\"k\"]\n",
    "\n",
    "        start_h = len(prices) - test_size\n",
    "        end_h = len(prices)\n",
    "\n",
    "        k = k_opt\n",
    "        for i in range(start_h, end_h):\n",
    "            v = get_exact_ewma(prices, alpha= 2, n= 20, val= i - 1)\n",
    "            f = k * prices[i - 1] + (1 - k) * v\n",
    "            forecast.append(f)\n",
    "\n",
    "        forecast = np.array(forecast)\n",
    "        y = prices[-test_size:]\n",
    "        y_hat = forecast.reshape(-1)\n",
    "        wape = metrics(y, y_hat)\n",
    "\n",
    "        metrics_val = wape * 100\n",
    "\n",
    "        result_dict[file_name[:-14]] = metrics_val\n",
    "\n",
    "        pbar.set_description(f\"{country}: {file_name[:-14]}. Valid: {study.best_value:.2f}%. Test: {metrics_val:.2f}%\")\n",
    "\n",
    "    return result_dict"
   ]
  },
  {
   "cell_type": "code",
   "execution_count": 5,
   "metadata": {
    "collapsed": false
   },
   "outputs": [
    {
     "data": {
      "application/vnd.jupyter.widget-view+json": {
       "model_id": "53f004e0de474d8f9861fb5e90986997",
       "version_major": 2,
       "version_minor": 0
      },
      "text/plain": [
       "US companies:   0%|          | 0/15 [00:00<?, ?it/s]"
      ]
     },
     "metadata": {},
     "output_type": "display_data"
    }
   ],
   "source": [
    "us_prices_wapes = get_wapes(\"../Data/American Companies\", \"US\", wape, True, 400, 300)"
   ]
  },
  {
   "cell_type": "code",
   "execution_count": 12,
   "metadata": {
    "collapsed": false
   },
   "outputs": [
    {
     "data": {
      "application/vnd.jupyter.widget-view+json": {
       "model_id": "3926be831003422994a66efb5555a1ba",
       "version_major": 2,
       "version_minor": 0
      },
      "text/plain": [
       "US companies:   0%|          | 0/15 [00:00<?, ?it/s]"
      ]
     },
     "metadata": {},
     "output_type": "display_data"
    }
   ],
   "source": [
    "us_returns_wapes = get_wapes(\"../Data/American Companies\", \"US\", wape, False, 400, 300)"
   ]
  },
  {
   "cell_type": "code",
   "execution_count": 13,
   "metadata": {
    "collapsed": false
   },
   "outputs": [
    {
     "data": {
      "application/vnd.jupyter.widget-view+json": {
       "model_id": "a9ed87ac3b4c4c67b5050b648b77185f",
       "version_major": 2,
       "version_minor": 0
      },
      "text/plain": [
       "CH companies:   0%|          | 0/15 [00:00<?, ?it/s]"
      ]
     },
     "metadata": {},
     "output_type": "display_data"
    }
   ],
   "source": [
    "ch_prices_wapes = get_wapes(\"../Data/Chinese Companies\", \"CH\", wape, True, 400, 300)"
   ]
  },
  {
   "cell_type": "code",
   "execution_count": 14,
   "metadata": {
    "collapsed": false
   },
   "outputs": [
    {
     "data": {
      "application/vnd.jupyter.widget-view+json": {
       "model_id": "3f332dc9629243548f3ac960cae7b3d7",
       "version_major": 2,
       "version_minor": 0
      },
      "text/plain": [
       "CH companies:   0%|          | 0/15 [00:00<?, ?it/s]"
      ]
     },
     "metadata": {},
     "output_type": "display_data"
    }
   ],
   "source": [
    "ch_returns_wapes = get_wapes(\"../Data/Chinese Companies\", \"CH\", wape, False, 400, 300)"
   ]
  },
  {
   "cell_type": "code",
   "execution_count": 15,
   "metadata": {
    "collapsed": false
   },
   "outputs": [],
   "source": [
    "us_returns = pd.DataFrame({\n",
    "    \"Company\": us_prices_wapes.keys(),\n",
    "    \"WAPE (price)\": us_prices_wapes.values(),\n",
    "    \"WAPE (return)\": us_returns_wapes.values()\n",
    "})\n",
    "\n",
    "ch_returns = pd.DataFrame({\n",
    "    \"Company\": ch_prices_wapes.keys(),\n",
    "    \"WAPE (price)\": ch_prices_wapes.values(),\n",
    "    \"WAPE (return)\": ch_returns_wapes.values()\n",
    "})"
   ]
  },
  {
   "cell_type": "code",
   "execution_count": 16,
   "metadata": {
    "collapsed": false
   },
   "outputs": [
    {
     "data": {
      "text/html": [
       "<div>\n",
       "<style scoped>\n",
       "    .dataframe tbody tr th:only-of-type {\n",
       "        vertical-align: middle;\n",
       "    }\n",
       "\n",
       "    .dataframe tbody tr th {\n",
       "        vertical-align: top;\n",
       "    }\n",
       "\n",
       "    .dataframe thead th {\n",
       "        text-align: right;\n",
       "    }\n",
       "</style>\n",
       "<table border=\"1\" class=\"dataframe\">\n",
       "  <thead>\n",
       "    <tr style=\"text-align: right;\">\n",
       "      <th></th>\n",
       "      <th>Company</th>\n",
       "      <th>WAPE (price)</th>\n",
       "      <th>WAPE (return)</th>\n",
       "    </tr>\n",
       "  </thead>\n",
       "  <tbody>\n",
       "    <tr>\n",
       "      <th>0</th>\n",
       "      <td>AMZN</td>\n",
       "      <td>2.131505</td>\n",
       "      <td>103.784531</td>\n",
       "    </tr>\n",
       "    <tr>\n",
       "      <th>1</th>\n",
       "      <td>MSFT</td>\n",
       "      <td>1.518125</td>\n",
       "      <td>103.496534</td>\n",
       "    </tr>\n",
       "    <tr>\n",
       "      <th>2</th>\n",
       "      <td>GM</td>\n",
       "      <td>2.139221</td>\n",
       "      <td>102.013013</td>\n",
       "    </tr>\n",
       "    <tr>\n",
       "      <th>3</th>\n",
       "      <td>UBER</td>\n",
       "      <td>2.849135</td>\n",
       "      <td>103.296540</td>\n",
       "    </tr>\n",
       "    <tr>\n",
       "      <th>4</th>\n",
       "      <td>Coca Cola</td>\n",
       "      <td>0.883731</td>\n",
       "      <td>102.113451</td>\n",
       "    </tr>\n",
       "    <tr>\n",
       "      <th>5</th>\n",
       "      <td>EBAY</td>\n",
       "      <td>1.809397</td>\n",
       "      <td>100.408324</td>\n",
       "    </tr>\n",
       "    <tr>\n",
       "      <th>6</th>\n",
       "      <td>DIS</td>\n",
       "      <td>1.639376</td>\n",
       "      <td>102.632827</td>\n",
       "    </tr>\n",
       "    <tr>\n",
       "      <th>7</th>\n",
       "      <td>FORD</td>\n",
       "      <td>2.417377</td>\n",
       "      <td>102.743608</td>\n",
       "    </tr>\n",
       "    <tr>\n",
       "      <th>8</th>\n",
       "      <td>NFLX</td>\n",
       "      <td>2.321462</td>\n",
       "      <td>104.273285</td>\n",
       "    </tr>\n",
       "    <tr>\n",
       "      <th>9</th>\n",
       "      <td>NKE</td>\n",
       "      <td>1.704946</td>\n",
       "      <td>103.029594</td>\n",
       "    </tr>\n",
       "    <tr>\n",
       "      <th>10</th>\n",
       "      <td>GE</td>\n",
       "      <td>1.644857</td>\n",
       "      <td>103.086906</td>\n",
       "    </tr>\n",
       "    <tr>\n",
       "      <th>11</th>\n",
       "      <td>WMT</td>\n",
       "      <td>1.069076</td>\n",
       "      <td>105.512154</td>\n",
       "    </tr>\n",
       "    <tr>\n",
       "      <th>12</th>\n",
       "      <td>INTC</td>\n",
       "      <td>1.563776</td>\n",
       "      <td>102.905166</td>\n",
       "    </tr>\n",
       "    <tr>\n",
       "      <th>13</th>\n",
       "      <td>GOOG</td>\n",
       "      <td>1.700623</td>\n",
       "      <td>104.176895</td>\n",
       "    </tr>\n",
       "    <tr>\n",
       "      <th>14</th>\n",
       "      <td>AAPL</td>\n",
       "      <td>1.651477</td>\n",
       "      <td>102.216993</td>\n",
       "    </tr>\n",
       "  </tbody>\n",
       "</table>\n",
       "</div>"
      ],
      "text/plain": [
       "      Company  WAPE (price)  WAPE (return)\n",
       "0        AMZN      2.131505     103.784531\n",
       "1        MSFT      1.518125     103.496534\n",
       "2          GM      2.139221     102.013013\n",
       "3        UBER      2.849135     103.296540\n",
       "4   Coca Cola      0.883731     102.113451\n",
       "5        EBAY      1.809397     100.408324\n",
       "6         DIS      1.639376     102.632827\n",
       "7        FORD      2.417377     102.743608\n",
       "8        NFLX      2.321462     104.273285\n",
       "9         NKE      1.704946     103.029594\n",
       "10         GE      1.644857     103.086906\n",
       "11        WMT      1.069076     105.512154\n",
       "12       INTC      1.563776     102.905166\n",
       "13       GOOG      1.700623     104.176895\n",
       "14       AAPL      1.651477     102.216993"
      ]
     },
     "execution_count": 13,
     "metadata": {},
     "output_type": "execute_result"
    }
   ],
   "source": [
    "us_returns"
   ]
  },
  {
   "cell_type": "code",
   "execution_count": 17,
   "metadata": {
    "collapsed": false
   },
   "outputs": [
    {
     "data": {
      "text/html": [
       "<div>\n",
       "<style scoped>\n",
       "    .dataframe tbody tr th:only-of-type {\n",
       "        vertical-align: middle;\n",
       "    }\n",
       "\n",
       "    .dataframe tbody tr th {\n",
       "        vertical-align: top;\n",
       "    }\n",
       "\n",
       "    .dataframe thead th {\n",
       "        text-align: right;\n",
       "    }\n",
       "</style>\n",
       "<table border=\"1\" class=\"dataframe\">\n",
       "  <thead>\n",
       "    <tr style=\"text-align: right;\">\n",
       "      <th></th>\n",
       "      <th>Company</th>\n",
       "      <th>WAPE (price)</th>\n",
       "      <th>WAPE (return)</th>\n",
       "    </tr>\n",
       "  </thead>\n",
       "  <tbody>\n",
       "    <tr>\n",
       "      <th>0</th>\n",
       "      <td>China Shenhua</td>\n",
       "      <td>1.982063</td>\n",
       "      <td>105.340244</td>\n",
       "    </tr>\n",
       "    <tr>\n",
       "      <th>1</th>\n",
       "      <td>Agricultural Bank of China</td>\n",
       "      <td>0.468983</td>\n",
       "      <td>104.819720</td>\n",
       "    </tr>\n",
       "    <tr>\n",
       "      <th>2</th>\n",
       "      <td>Wanhua Chemical Group</td>\n",
       "      <td>1.509416</td>\n",
       "      <td>102.587760</td>\n",
       "    </tr>\n",
       "    <tr>\n",
       "      <th>3</th>\n",
       "      <td>Anhui Coonch Cement</td>\n",
       "      <td>1.458439</td>\n",
       "      <td>104.211555</td>\n",
       "    </tr>\n",
       "    <tr>\n",
       "      <th>4</th>\n",
       "      <td>CITIC Securities</td>\n",
       "      <td>1.248193</td>\n",
       "      <td>102.434935</td>\n",
       "    </tr>\n",
       "    <tr>\n",
       "      <th>5</th>\n",
       "      <td>Kweichow Moutai</td>\n",
       "      <td>1.362660</td>\n",
       "      <td>103.804991</td>\n",
       "    </tr>\n",
       "    <tr>\n",
       "      <th>6</th>\n",
       "      <td>China Duty Free Group</td>\n",
       "      <td>2.276677</td>\n",
       "      <td>103.419590</td>\n",
       "    </tr>\n",
       "    <tr>\n",
       "      <th>7</th>\n",
       "      <td>Ping An</td>\n",
       "      <td>1.197741</td>\n",
       "      <td>102.123825</td>\n",
       "    </tr>\n",
       "    <tr>\n",
       "      <th>8</th>\n",
       "      <td>China Pacific Insurance</td>\n",
       "      <td>1.316325</td>\n",
       "      <td>101.983185</td>\n",
       "    </tr>\n",
       "    <tr>\n",
       "      <th>9</th>\n",
       "      <td>PetroChina</td>\n",
       "      <td>1.513595</td>\n",
       "      <td>104.211693</td>\n",
       "    </tr>\n",
       "    <tr>\n",
       "      <th>10</th>\n",
       "      <td>SAIC Motor</td>\n",
       "      <td>1.225110</td>\n",
       "      <td>103.144751</td>\n",
       "    </tr>\n",
       "    <tr>\n",
       "      <th>11</th>\n",
       "      <td>China Merchants Bank</td>\n",
       "      <td>1.438394</td>\n",
       "      <td>103.605282</td>\n",
       "    </tr>\n",
       "    <tr>\n",
       "      <th>12</th>\n",
       "      <td>Sinopec</td>\n",
       "      <td>1.650282</td>\n",
       "      <td>105.952023</td>\n",
       "    </tr>\n",
       "    <tr>\n",
       "      <th>13</th>\n",
       "      <td>Hengrui Medicine</td>\n",
       "      <td>1.767457</td>\n",
       "      <td>104.379914</td>\n",
       "    </tr>\n",
       "    <tr>\n",
       "      <th>14</th>\n",
       "      <td>China Life Insurance Company Limited</td>\n",
       "      <td>1.492662</td>\n",
       "      <td>101.125722</td>\n",
       "    </tr>\n",
       "  </tbody>\n",
       "</table>\n",
       "</div>"
      ],
      "text/plain": [
       "                                 Company  WAPE (price)  WAPE (return)\n",
       "0                          China Shenhua      1.982063     105.340244\n",
       "1             Agricultural Bank of China      0.468983     104.819720\n",
       "2                  Wanhua Chemical Group      1.509416     102.587760\n",
       "3                    Anhui Coonch Cement      1.458439     104.211555\n",
       "4                       CITIC Securities      1.248193     102.434935\n",
       "5                        Kweichow Moutai      1.362660     103.804991\n",
       "6                  China Duty Free Group      2.276677     103.419590\n",
       "7                                Ping An      1.197741     102.123825\n",
       "8                China Pacific Insurance      1.316325     101.983185\n",
       "9                             PetroChina      1.513595     104.211693\n",
       "10                            SAIC Motor      1.225110     103.144751\n",
       "11                  China Merchants Bank      1.438394     103.605282\n",
       "12                               Sinopec      1.650282     105.952023\n",
       "13                      Hengrui Medicine      1.767457     104.379914\n",
       "14  China Life Insurance Company Limited      1.492662     101.125722"
      ]
     },
     "execution_count": 14,
     "metadata": {},
     "output_type": "execute_result"
    }
   ],
   "source": [
    "ch_returns"
   ]
  },
  {
   "cell_type": "code",
   "execution_count": 19,
   "metadata": {
    "collapsed": false
   },
   "outputs": [],
   "source": [
    "us_returns.to_csv(\"ewma_us_price_return.csv\", index= False)\n",
    "ch_returns.to_csv(\"ewma_ch_price_return.csv\", index= False)"
   ]
  },
  {
   "cell_type": "code",
   "execution_count": null,
   "metadata": {
    "collapsed": false
   },
   "outputs": [],
   "source": []
  }
 ],
 "metadata": {
  "kernelspec": {
   "display_name": "Python 3.10 (XPython)",
   "language": "python",
   "name": "xpython"
  },
  "language_info": {
   "codemirror_mode": {
    "name": "ipython",
    "version": 2
   },
   "file_extension": ".py",
   "mimetype": "text/x-python",
   "name": "python",
   "nbconvert_exporter": "python",
   "pygments_lexer": "ipython2",
   "version": "2.7.6"
  }
 },
 "nbformat": 4,
 "nbformat_minor": 0
}
