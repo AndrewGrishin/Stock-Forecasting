{
 "cells": [
  {
   "cell_type": "code",
   "execution_count": null,
   "metadata": {
    "collapsed": true
   },
   "outputs": [],
   "source": [
    "import pandas as pd\n",
    "from pmdarima.arima import auto_arima\n",
    "import pmdarima\n",
    "from tqdm.notebook import tqdm\n",
    "import os\n",
    "import numpy as np"
   ]
  },
  {
   "cell_type": "code",
   "execution_count": null,
   "metadata": {
    "collapsed": false
   },
   "outputs": [],
   "source": [
    "def wape(y, y_hat):\n",
    "    return np.sum(np.abs(y - y_hat)) / np.sum(np.abs(y))\n",
    "\n",
    "def get_wapes(path, country, prices_not_returns, metrics, test_size):\n",
    "    result_dict = dict()\n",
    "\n",
    "    entries = os.listdir(path)\n",
    "    entries.remove(\".DS_Store\")\n",
    "    pbar_companies = tqdm(entries, desc= f\"{country} companies\")\n",
    "    for file in pbar_companies:\n",
    "        df = pd.read_csv(path + file if path[-1] == r\"/\" else path + r\"/\" + file)\n",
    "        open_prices = np.array(df.Open) if prices_not_returns else np.array(df.Open.pct_change())[1:]\n",
    "\n",
    "        test_size = test_size\n",
    "        start_h = len(open_prices) - test_size\n",
    "        end_h = len(open_prices)\n",
    "\n",
    "        forecast = []\n",
    "        arima_model = auto_arima(\n",
    "            open_prices[:start_h],\n",
    "            start_p= 0,\n",
    "            start_q= 0,\n",
    "            d= 1 if prices_not_returns else 0,\n",
    "            max_p= 10,\n",
    "            max_d= 2,\n",
    "            max_q= 10,\n",
    "            #max_order= 4,\n",
    "            seasonal= False,\n",
    "            information_criterion= \"bic\",\n",
    "            alpha= 0.01,\n",
    "            test= \"kpss\",\n",
    "            stepwise= True,\n",
    "            # n_jobs= -1,\n",
    "            n_fits= 70,\n",
    "            trace= False)\n",
    "        order = arima_model.get_params()[\"order\"]\n",
    "\n",
    "        pbar = tqdm(range(start_h, end_h - 1), desc= \"Forecast iter\")\n",
    "        for i in pbar:\n",
    "            arima_model = pmdarima.arima.ARIMA(order)\n",
    "            arima_model.fit(open_prices[:i])\n",
    "            f = arima_model.predict(n_periods= 1)\n",
    "            forecast.append(f)\n",
    "        forecast = np.array(forecast)\n",
    "\n",
    "        y = forecast\n",
    "        y_hat = open_prices[-test_size:]\n",
    "        metrics_val = metrics(y, y_hat) * 100\n",
    "\n",
    "        result_dict[file[:-14]] = metrics_val\n",
    "        pbar_companies.set_description(f\"{country}: {file[:-14]}: Test val: {metrics_val:.2f}%\")\n",
    "\n",
    "    return result_dict"
   ]
  },
  {
   "cell_type": "code",
   "execution_count": null,
   "metadata": {
    "collapsed": false
   },
   "outputs": [],
   "source": [
    "path_us = \"../Data/American Companies/\"\n",
    "path_ch = \"../Data/Chinese Companies/\"\n",
    "\n",
    "forecast_horizon = 100\n",
    "us_prices_wapes = get_wapes(path_us, \"US\", True, wape, forecast_horizon)\n"
   ]
  },
  {
   "cell_type": "code",
   "execution_count": null,
   "metadata": {
    "collapsed": false
   },
   "outputs": [],
   "source": [
    "df = np.array(pd.read_csv(\"../Data/American Companies/AMZN 1997 2022.csv\").Open)"
   ]
  },
  {
   "cell_type": "code",
   "execution_count": null,
   "metadata": {
    "collapsed": false
   },
   "outputs": [],
   "source": [
    "start_h = len(df) - 300\n",
    "end_h = len(df)\n",
    "forecast = []\n",
    "\n",
    "for i in range(start_h, end_h):\n",
    "    model = pmdarima.arima.ARIMA((1, 1, 0))\n",
    "    model = model.fit(df[start_h:])\n",
    "    f = model.predict(1)\n",
    "    forecast.append(f)\n",
    "\n",
    "forecast = np.array(forecast)"
   ]
  },
  {
   "cell_type": "code",
   "execution_count": null,
   "metadata": {
    "collapsed": false
   },
   "outputs": [],
   "source": []
  },
  {
   "cell_type": "code",
   "execution_count": null,
   "metadata": {
    "collapsed": false
   },
   "outputs": [],
   "source": []
  },
  {
   "cell_type": "code",
   "execution_count": null,
   "metadata": {
    "collapsed": false
   },
   "outputs": [],
   "source": []
  },
  {
   "cell_type": "code",
   "execution_count": null,
   "metadata": {
    "collapsed": false
   },
   "outputs": [],
   "source": [
    "us_prices_wapes"
   ]
  },
  {
   "cell_type": "code",
   "execution_count": null,
   "metadata": {
    "collapsed": false
   },
   "outputs": [],
   "source": [
    "\n",
    "us_returns_wapes = get_wapes(path_us, \"US\", False, wape, forecast_horizon)\n",
    "\n",
    "ch_prices_wapes = get_wapes(path_ch, \"CH\", True, wape, forecast_horizon)\n",
    "ch_returns_wapes = get_wapes(path_ch, \"CH\", False, wape, forecast_horizon)"
   ]
  },
  {
   "cell_type": "code",
   "execution_count": null,
   "metadata": {
    "collapsed": false
   },
   "outputs": [],
   "source": [
    "\n",
    "\n",
    "us_data = pd.DataFrame({\n",
    "    \"Company\": us_prices_wapes.keys(),\n",
    "    \"WAPE (price)\": us_prices_wapes.values(),\n",
    "    \"WAPE (return)\": us_returns_wapes.values()\n",
    "})\n",
    "\n",
    "ch_data = pd.DataFrame({\n",
    "    \"Company\": ch_prices_wapes.keys(),\n",
    "    \"WAPE (price)\": ch_prices_wapes.values(),\n",
    "    \"WAPE (return)\": ch_returns_wapes.values()\n",
    "})"
   ]
  }
 ],
 "metadata": {
  "kernelspec": {
   "display_name": "Python 3.10 (XPython)",
   "language": "python",
   "name": "xpython"
  },
  "language_info": {
   "codemirror_mode": {
    "name": "ipython",
    "version": 2
   },
   "file_extension": ".py",
   "mimetype": "text/x-python",
   "name": "python",
   "nbconvert_exporter": "python",
   "pygments_lexer": "ipython2",
   "version": "2.7.6"
  }
 },
 "nbformat": 4,
 "nbformat_minor": 0
}
