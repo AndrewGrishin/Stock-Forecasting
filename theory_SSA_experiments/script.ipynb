{
 "cells": [
  {
   "cell_type": "code",
   "execution_count": 1,
   "metadata": {
    "collapsed": true
   },
   "outputs": [],
   "source": [
    "import numpy as np\n",
    "import pandas as pd\n",
    "import matplotlib.pyplot as plt\n",
    "\n",
    "from sklearn.model_selection import train_test_split"
   ]
  },
  {
   "cell_type": "markdown",
   "metadata": {
    "collapsed": false
   },
   "source": [
    "## Загружаем ряд"
   ]
  },
  {
   "cell_type": "code",
   "execution_count": 2,
   "metadata": {
    "collapsed": false
   },
   "outputs": [
    {
     "ename": "<class 'FileNotFoundError'>",
     "evalue": "[Errno 2] No such file or directory: 'Apple 2000 2022.csv'",
     "output_type": "error",
     "traceback": [
      "\u001b[0;31m---------------------------------------------------------------------------\u001b[0m",
      "\u001b[0;31mFileNotFoundError\u001b[0m                         Traceback (most recent call last)",
      "Cell \u001b[0;32mIn[2], line 2\u001b[0m\n\u001b[1;32m      1\u001b[0m \u001b[38;5;66;03m# x = pd.read_excel(\"data.xlsx\").to_numpy().reshape(-1)\u001b[39;00m\n\u001b[0;32m----> 2\u001b[0m x \u001b[38;5;241m=\u001b[39m pd\u001b[38;5;241m.\u001b[39mread_csv(\u001b[38;5;124m\"\u001b[39m\u001b[38;5;124mApple 2000 2022.csv\u001b[39m\u001b[38;5;124m\"\u001b[39m)[\u001b[38;5;124m\"\u001b[39m\u001b[38;5;124mЦена open\u001b[39m\u001b[38;5;124m\"\u001b[39m]\u001b[38;5;241m.\u001b[39mdropna()\u001b[38;5;241m.\u001b[39mto_numpy()[::\u001b[38;5;241m-\u001b[39m\u001b[38;5;241m1\u001b[39m]\n\u001b[1;32m      3\u001b[0m x\n",
      "File \u001b[0;32m~/dev_env/std_env/lib/python3.10/site-packages/pandas/util/_decorators.py:211\u001b[0m, in \u001b[0;36mdeprecate_kwarg.<locals>._deprecate_kwarg.<locals>.wrapper\u001b[0;34m(*args, **kwargs)\u001b[0m\n\u001b[1;32m    209\u001b[0m     \u001b[38;5;28;01melse\u001b[39;00m:\n\u001b[1;32m    210\u001b[0m         kwargs[new_arg_name] \u001b[38;5;241m=\u001b[39m new_arg_value\n\u001b[0;32m--> 211\u001b[0m \u001b[38;5;28;01mreturn\u001b[39;00m \u001b[43mfunc\u001b[49m\u001b[43m(\u001b[49m\u001b[38;5;241;43m*\u001b[39;49m\u001b[43margs\u001b[49m\u001b[43m,\u001b[49m\u001b[43m \u001b[49m\u001b[38;5;241;43m*\u001b[39;49m\u001b[38;5;241;43m*\u001b[39;49m\u001b[43mkwargs\u001b[49m\u001b[43m)\u001b[49m\n",
      "File \u001b[0;32m~/dev_env/std_env/lib/python3.10/site-packages/pandas/util/_decorators.py:331\u001b[0m, in \u001b[0;36mdeprecate_nonkeyword_arguments.<locals>.decorate.<locals>.wrapper\u001b[0;34m(*args, **kwargs)\u001b[0m\n\u001b[1;32m    325\u001b[0m \u001b[38;5;28;01mif\u001b[39;00m \u001b[38;5;28mlen\u001b[39m(args) \u001b[38;5;241m>\u001b[39m num_allow_args:\n\u001b[1;32m    326\u001b[0m     warnings\u001b[38;5;241m.\u001b[39mwarn(\n\u001b[1;32m    327\u001b[0m         msg\u001b[38;5;241m.\u001b[39mformat(arguments\u001b[38;5;241m=\u001b[39m_format_argument_list(allow_args)),\n\u001b[1;32m    328\u001b[0m         \u001b[38;5;167;01mFutureWarning\u001b[39;00m,\n\u001b[1;32m    329\u001b[0m         stacklevel\u001b[38;5;241m=\u001b[39mfind_stack_level(),\n\u001b[1;32m    330\u001b[0m     )\n\u001b[0;32m--> 331\u001b[0m \u001b[38;5;28;01mreturn\u001b[39;00m \u001b[43mfunc\u001b[49m\u001b[43m(\u001b[49m\u001b[38;5;241;43m*\u001b[39;49m\u001b[43margs\u001b[49m\u001b[43m,\u001b[49m\u001b[43m \u001b[49m\u001b[38;5;241;43m*\u001b[39;49m\u001b[38;5;241;43m*\u001b[39;49m\u001b[43mkwargs\u001b[49m\u001b[43m)\u001b[49m\n",
      "File \u001b[0;32m~/dev_env/std_env/lib/python3.10/site-packages/pandas/io/parsers/readers.py:950\u001b[0m, in \u001b[0;36mread_csv\u001b[0;34m(filepath_or_buffer, sep, delimiter, header, names, index_col, usecols, squeeze, prefix, mangle_dupe_cols, dtype, engine, converters, true_values, false_values, skipinitialspace, skiprows, skipfooter, nrows, na_values, keep_default_na, na_filter, verbose, skip_blank_lines, parse_dates, infer_datetime_format, keep_date_col, date_parser, dayfirst, cache_dates, iterator, chunksize, compression, thousands, decimal, lineterminator, quotechar, quoting, doublequote, escapechar, comment, encoding, encoding_errors, dialect, error_bad_lines, warn_bad_lines, on_bad_lines, delim_whitespace, low_memory, memory_map, float_precision, storage_options)\u001b[0m\n\u001b[1;32m    935\u001b[0m kwds_defaults \u001b[38;5;241m=\u001b[39m _refine_defaults_read(\n\u001b[1;32m    936\u001b[0m     dialect,\n\u001b[1;32m    937\u001b[0m     delimiter,\n\u001b[0;32m   (...)\u001b[0m\n\u001b[1;32m    946\u001b[0m     defaults\u001b[38;5;241m=\u001b[39m{\u001b[38;5;124m\"\u001b[39m\u001b[38;5;124mdelimiter\u001b[39m\u001b[38;5;124m\"\u001b[39m: \u001b[38;5;124m\"\u001b[39m\u001b[38;5;124m,\u001b[39m\u001b[38;5;124m\"\u001b[39m},\n\u001b[1;32m    947\u001b[0m )\n\u001b[1;32m    948\u001b[0m kwds\u001b[38;5;241m.\u001b[39mupdate(kwds_defaults)\n\u001b[0;32m--> 950\u001b[0m \u001b[38;5;28;01mreturn\u001b[39;00m \u001b[43m_read\u001b[49m\u001b[43m(\u001b[49m\u001b[43mfilepath_or_buffer\u001b[49m\u001b[43m,\u001b[49m\u001b[43m \u001b[49m\u001b[43mkwds\u001b[49m\u001b[43m)\u001b[49m\n",
      "File \u001b[0;32m~/dev_env/std_env/lib/python3.10/site-packages/pandas/io/parsers/readers.py:605\u001b[0m, in \u001b[0;36m_read\u001b[0;34m(filepath_or_buffer, kwds)\u001b[0m\n\u001b[1;32m    602\u001b[0m _validate_names(kwds\u001b[38;5;241m.\u001b[39mget(\u001b[38;5;124m\"\u001b[39m\u001b[38;5;124mnames\u001b[39m\u001b[38;5;124m\"\u001b[39m, \u001b[38;5;28;01mNone\u001b[39;00m))\n\u001b[1;32m    604\u001b[0m \u001b[38;5;66;03m# Create the parser.\u001b[39;00m\n\u001b[0;32m--> 605\u001b[0m parser \u001b[38;5;241m=\u001b[39m \u001b[43mTextFileReader\u001b[49m\u001b[43m(\u001b[49m\u001b[43mfilepath_or_buffer\u001b[49m\u001b[43m,\u001b[49m\u001b[43m \u001b[49m\u001b[38;5;241;43m*\u001b[39;49m\u001b[38;5;241;43m*\u001b[39;49m\u001b[43mkwds\u001b[49m\u001b[43m)\u001b[49m\n\u001b[1;32m    607\u001b[0m \u001b[38;5;28;01mif\u001b[39;00m chunksize \u001b[38;5;129;01mor\u001b[39;00m iterator:\n\u001b[1;32m    608\u001b[0m     \u001b[38;5;28;01mreturn\u001b[39;00m parser\n",
      "File \u001b[0;32m~/dev_env/std_env/lib/python3.10/site-packages/pandas/io/parsers/readers.py:1442\u001b[0m, in \u001b[0;36mTextFileReader.__init__\u001b[0;34m(self, f, engine, **kwds)\u001b[0m\n\u001b[1;32m   1439\u001b[0m     \u001b[38;5;28mself\u001b[39m\u001b[38;5;241m.\u001b[39moptions[\u001b[38;5;124m\"\u001b[39m\u001b[38;5;124mhas_index_names\u001b[39m\u001b[38;5;124m\"\u001b[39m] \u001b[38;5;241m=\u001b[39m kwds[\u001b[38;5;124m\"\u001b[39m\u001b[38;5;124mhas_index_names\u001b[39m\u001b[38;5;124m\"\u001b[39m]\n\u001b[1;32m   1441\u001b[0m \u001b[38;5;28mself\u001b[39m\u001b[38;5;241m.\u001b[39mhandles: IOHandles \u001b[38;5;241m|\u001b[39m \u001b[38;5;28;01mNone\u001b[39;00m \u001b[38;5;241m=\u001b[39m \u001b[38;5;28;01mNone\u001b[39;00m\n\u001b[0;32m-> 1442\u001b[0m \u001b[38;5;28mself\u001b[39m\u001b[38;5;241m.\u001b[39m_engine \u001b[38;5;241m=\u001b[39m \u001b[38;5;28;43mself\u001b[39;49m\u001b[38;5;241;43m.\u001b[39;49m\u001b[43m_make_engine\u001b[49m\u001b[43m(\u001b[49m\u001b[43mf\u001b[49m\u001b[43m,\u001b[49m\u001b[43m \u001b[49m\u001b[38;5;28;43mself\u001b[39;49m\u001b[38;5;241;43m.\u001b[39;49m\u001b[43mengine\u001b[49m\u001b[43m)\u001b[49m\n",
      "File \u001b[0;32m~/dev_env/std_env/lib/python3.10/site-packages/pandas/io/parsers/readers.py:1735\u001b[0m, in \u001b[0;36mTextFileReader._make_engine\u001b[0;34m(self, f, engine)\u001b[0m\n\u001b[1;32m   1733\u001b[0m     \u001b[38;5;28;01mif\u001b[39;00m \u001b[38;5;124m\"\u001b[39m\u001b[38;5;124mb\u001b[39m\u001b[38;5;124m\"\u001b[39m \u001b[38;5;129;01mnot\u001b[39;00m \u001b[38;5;129;01min\u001b[39;00m mode:\n\u001b[1;32m   1734\u001b[0m         mode \u001b[38;5;241m+\u001b[39m\u001b[38;5;241m=\u001b[39m \u001b[38;5;124m\"\u001b[39m\u001b[38;5;124mb\u001b[39m\u001b[38;5;124m\"\u001b[39m\n\u001b[0;32m-> 1735\u001b[0m \u001b[38;5;28mself\u001b[39m\u001b[38;5;241m.\u001b[39mhandles \u001b[38;5;241m=\u001b[39m \u001b[43mget_handle\u001b[49m\u001b[43m(\u001b[49m\n\u001b[1;32m   1736\u001b[0m \u001b[43m    \u001b[49m\u001b[43mf\u001b[49m\u001b[43m,\u001b[49m\n\u001b[1;32m   1737\u001b[0m \u001b[43m    \u001b[49m\u001b[43mmode\u001b[49m\u001b[43m,\u001b[49m\n\u001b[1;32m   1738\u001b[0m \u001b[43m    \u001b[49m\u001b[43mencoding\u001b[49m\u001b[38;5;241;43m=\u001b[39;49m\u001b[38;5;28;43mself\u001b[39;49m\u001b[38;5;241;43m.\u001b[39;49m\u001b[43moptions\u001b[49m\u001b[38;5;241;43m.\u001b[39;49m\u001b[43mget\u001b[49m\u001b[43m(\u001b[49m\u001b[38;5;124;43m\"\u001b[39;49m\u001b[38;5;124;43mencoding\u001b[39;49m\u001b[38;5;124;43m\"\u001b[39;49m\u001b[43m,\u001b[49m\u001b[43m \u001b[49m\u001b[38;5;28;43;01mNone\u001b[39;49;00m\u001b[43m)\u001b[49m\u001b[43m,\u001b[49m\n\u001b[1;32m   1739\u001b[0m \u001b[43m    \u001b[49m\u001b[43mcompression\u001b[49m\u001b[38;5;241;43m=\u001b[39;49m\u001b[38;5;28;43mself\u001b[39;49m\u001b[38;5;241;43m.\u001b[39;49m\u001b[43moptions\u001b[49m\u001b[38;5;241;43m.\u001b[39;49m\u001b[43mget\u001b[49m\u001b[43m(\u001b[49m\u001b[38;5;124;43m\"\u001b[39;49m\u001b[38;5;124;43mcompression\u001b[39;49m\u001b[38;5;124;43m\"\u001b[39;49m\u001b[43m,\u001b[49m\u001b[43m \u001b[49m\u001b[38;5;28;43;01mNone\u001b[39;49;00m\u001b[43m)\u001b[49m\u001b[43m,\u001b[49m\n\u001b[1;32m   1740\u001b[0m \u001b[43m    \u001b[49m\u001b[43mmemory_map\u001b[49m\u001b[38;5;241;43m=\u001b[39;49m\u001b[38;5;28;43mself\u001b[39;49m\u001b[38;5;241;43m.\u001b[39;49m\u001b[43moptions\u001b[49m\u001b[38;5;241;43m.\u001b[39;49m\u001b[43mget\u001b[49m\u001b[43m(\u001b[49m\u001b[38;5;124;43m\"\u001b[39;49m\u001b[38;5;124;43mmemory_map\u001b[39;49m\u001b[38;5;124;43m\"\u001b[39;49m\u001b[43m,\u001b[49m\u001b[43m \u001b[49m\u001b[38;5;28;43;01mFalse\u001b[39;49;00m\u001b[43m)\u001b[49m\u001b[43m,\u001b[49m\n\u001b[1;32m   1741\u001b[0m \u001b[43m    \u001b[49m\u001b[43mis_text\u001b[49m\u001b[38;5;241;43m=\u001b[39;49m\u001b[43mis_text\u001b[49m\u001b[43m,\u001b[49m\n\u001b[1;32m   1742\u001b[0m \u001b[43m    \u001b[49m\u001b[43merrors\u001b[49m\u001b[38;5;241;43m=\u001b[39;49m\u001b[38;5;28;43mself\u001b[39;49m\u001b[38;5;241;43m.\u001b[39;49m\u001b[43moptions\u001b[49m\u001b[38;5;241;43m.\u001b[39;49m\u001b[43mget\u001b[49m\u001b[43m(\u001b[49m\u001b[38;5;124;43m\"\u001b[39;49m\u001b[38;5;124;43mencoding_errors\u001b[39;49m\u001b[38;5;124;43m\"\u001b[39;49m\u001b[43m,\u001b[49m\u001b[43m \u001b[49m\u001b[38;5;124;43m\"\u001b[39;49m\u001b[38;5;124;43mstrict\u001b[39;49m\u001b[38;5;124;43m\"\u001b[39;49m\u001b[43m)\u001b[49m\u001b[43m,\u001b[49m\n\u001b[1;32m   1743\u001b[0m \u001b[43m    \u001b[49m\u001b[43mstorage_options\u001b[49m\u001b[38;5;241;43m=\u001b[39;49m\u001b[38;5;28;43mself\u001b[39;49m\u001b[38;5;241;43m.\u001b[39;49m\u001b[43moptions\u001b[49m\u001b[38;5;241;43m.\u001b[39;49m\u001b[43mget\u001b[49m\u001b[43m(\u001b[49m\u001b[38;5;124;43m\"\u001b[39;49m\u001b[38;5;124;43mstorage_options\u001b[39;49m\u001b[38;5;124;43m\"\u001b[39;49m\u001b[43m,\u001b[49m\u001b[43m \u001b[49m\u001b[38;5;28;43;01mNone\u001b[39;49;00m\u001b[43m)\u001b[49m\u001b[43m,\u001b[49m\n\u001b[1;32m   1744\u001b[0m \u001b[43m\u001b[49m\u001b[43m)\u001b[49m\n\u001b[1;32m   1745\u001b[0m \u001b[38;5;28;01massert\u001b[39;00m \u001b[38;5;28mself\u001b[39m\u001b[38;5;241m.\u001b[39mhandles \u001b[38;5;129;01mis\u001b[39;00m \u001b[38;5;129;01mnot\u001b[39;00m \u001b[38;5;28;01mNone\u001b[39;00m\n\u001b[1;32m   1746\u001b[0m f \u001b[38;5;241m=\u001b[39m \u001b[38;5;28mself\u001b[39m\u001b[38;5;241m.\u001b[39mhandles\u001b[38;5;241m.\u001b[39mhandle\n",
      "File \u001b[0;32m~/dev_env/std_env/lib/python3.10/site-packages/pandas/io/common.py:856\u001b[0m, in \u001b[0;36mget_handle\u001b[0;34m(path_or_buf, mode, encoding, compression, memory_map, is_text, errors, storage_options)\u001b[0m\n\u001b[1;32m    851\u001b[0m \u001b[38;5;28;01melif\u001b[39;00m \u001b[38;5;28misinstance\u001b[39m(handle, \u001b[38;5;28mstr\u001b[39m):\n\u001b[1;32m    852\u001b[0m     \u001b[38;5;66;03m# Check whether the filename is to be opened in binary mode.\u001b[39;00m\n\u001b[1;32m    853\u001b[0m     \u001b[38;5;66;03m# Binary mode does not support 'encoding' and 'newline'.\u001b[39;00m\n\u001b[1;32m    854\u001b[0m     \u001b[38;5;28;01mif\u001b[39;00m ioargs\u001b[38;5;241m.\u001b[39mencoding \u001b[38;5;129;01mand\u001b[39;00m \u001b[38;5;124m\"\u001b[39m\u001b[38;5;124mb\u001b[39m\u001b[38;5;124m\"\u001b[39m \u001b[38;5;129;01mnot\u001b[39;00m \u001b[38;5;129;01min\u001b[39;00m ioargs\u001b[38;5;241m.\u001b[39mmode:\n\u001b[1;32m    855\u001b[0m         \u001b[38;5;66;03m# Encoding\u001b[39;00m\n\u001b[0;32m--> 856\u001b[0m         handle \u001b[38;5;241m=\u001b[39m \u001b[38;5;28;43mopen\u001b[39;49m\u001b[43m(\u001b[49m\n\u001b[1;32m    857\u001b[0m \u001b[43m            \u001b[49m\u001b[43mhandle\u001b[49m\u001b[43m,\u001b[49m\n\u001b[1;32m    858\u001b[0m \u001b[43m            \u001b[49m\u001b[43mioargs\u001b[49m\u001b[38;5;241;43m.\u001b[39;49m\u001b[43mmode\u001b[49m\u001b[43m,\u001b[49m\n\u001b[1;32m    859\u001b[0m \u001b[43m            \u001b[49m\u001b[43mencoding\u001b[49m\u001b[38;5;241;43m=\u001b[39;49m\u001b[43mioargs\u001b[49m\u001b[38;5;241;43m.\u001b[39;49m\u001b[43mencoding\u001b[49m\u001b[43m,\u001b[49m\n\u001b[1;32m    860\u001b[0m \u001b[43m            \u001b[49m\u001b[43merrors\u001b[49m\u001b[38;5;241;43m=\u001b[39;49m\u001b[43merrors\u001b[49m\u001b[43m,\u001b[49m\n\u001b[1;32m    861\u001b[0m \u001b[43m            \u001b[49m\u001b[43mnewline\u001b[49m\u001b[38;5;241;43m=\u001b[39;49m\u001b[38;5;124;43m\"\u001b[39;49m\u001b[38;5;124;43m\"\u001b[39;49m\u001b[43m,\u001b[49m\n\u001b[1;32m    862\u001b[0m \u001b[43m        \u001b[49m\u001b[43m)\u001b[49m\n\u001b[1;32m    863\u001b[0m     \u001b[38;5;28;01melse\u001b[39;00m:\n\u001b[1;32m    864\u001b[0m         \u001b[38;5;66;03m# Binary mode\u001b[39;00m\n\u001b[1;32m    865\u001b[0m         handle \u001b[38;5;241m=\u001b[39m \u001b[38;5;28mopen\u001b[39m(handle, ioargs\u001b[38;5;241m.\u001b[39mmode)\n",
      "\u001b[0;31mFileNotFoundError\u001b[0m: [Errno 2] No such file or directory: 'Apple 2000 2022.csv'"
     ]
    }
   ],
   "source": [
    "# x = pd.read_excel(\"data.xlsx\").to_numpy().reshape(-1)\n",
    "x = pd.read_csv(\"Apple 2000 2022.csv\")[\"Цена open\"].dropna().to_numpy()[::-1]\n",
    "x"
   ]
  },
  {
   "cell_type": "code",
   "execution_count": 3,
   "metadata": {
    "collapsed": false
   },
   "outputs": [
    {
     "ename": "<class 'NameError'>",
     "evalue": "name 'x' is not defined",
     "output_type": "error",
     "traceback": [
      "\u001b[0;31m---------------------------------------------------------------------------\u001b[0m",
      "\u001b[0;31mNameError\u001b[0m                                 Traceback (most recent call last)",
      "Cell \u001b[0;32mIn[3], line 1\u001b[0m\n\u001b[0;32m----> 1\u001b[0m x_train, x_test \u001b[38;5;241m=\u001b[39m train_test_split(x, test_size\u001b[38;5;241m=\u001b[39m \u001b[38;5;241m100\u001b[39m, shuffle\u001b[38;5;241m=\u001b[39m \u001b[38;5;28;01mFalse\u001b[39;00m)\n\u001b[1;32m      2\u001b[0m x_train\u001b[38;5;241m.\u001b[39mshape, x_test\u001b[38;5;241m.\u001b[39mshape\n",
      "\u001b[0;31mNameError\u001b[0m: name 'x' is not defined"
     ]
    }
   ],
   "source": [
    "x_train, x_test = train_test_split(x, test_size= 100, shuffle= False)\n",
    "x_train.shape, x_test.shape"
   ]
  },
  {
   "cell_type": "markdown",
   "metadata": {
    "collapsed": false
   },
   "source": [
    "## Преобразуем в матрицу Хенкеля"
   ]
  },
  {
   "cell_type": "code",
   "execution_count": 4,
   "metadata": {
    "collapsed": false
   },
   "outputs": [
    {
     "ename": "<class 'NameError'>",
     "evalue": "name 'x_train' is not defined",
     "output_type": "error",
     "traceback": [
      "\u001b[0;31m---------------------------------------------------------------------------\u001b[0m",
      "\u001b[0;31mNameError\u001b[0m                                 Traceback (most recent call last)",
      "Cell \u001b[0;32mIn[4], line 2\u001b[0m\n\u001b[1;32m      1\u001b[0m L \u001b[38;5;241m=\u001b[39m \u001b[38;5;241m200\u001b[39m \u001b[38;5;66;03m# windows size\u001b[39;00m\n\u001b[0;32m----> 2\u001b[0m N \u001b[38;5;241m=\u001b[39m x_train\u001b[38;5;241m.\u001b[39mshape[\u001b[38;5;241m0\u001b[39m] \u001b[38;5;66;03m# number of elements in x\u001b[39;00m\n\u001b[1;32m      3\u001b[0m K \u001b[38;5;241m=\u001b[39m N \u001b[38;5;241m-\u001b[39m L \u001b[38;5;241m+\u001b[39m \u001b[38;5;241m1\u001b[39m \u001b[38;5;66;03m# number of elements in row\u001b[39;00m\n",
      "\u001b[0;31mNameError\u001b[0m: name 'x_train' is not defined"
     ]
    }
   ],
   "source": [
    "L = 200 # windows size\n",
    "N = x_train.shape[0] # number of elements in x\n",
    "K = N - L + 1 # number of elements in row"
   ]
  },
  {
   "cell_type": "code",
   "execution_count": 5,
   "metadata": {
    "collapsed": false
   },
   "outputs": [
    {
     "ename": "<class 'ModuleNotFoundError'>",
     "evalue": "No module named 'SSA'",
     "output_type": "error",
     "traceback": [
      "\u001b[0;31m---------------------------------------------------------------------------\u001b[0m",
      "\u001b[0;31mModuleNotFoundError\u001b[0m                       Traceback (most recent call last)",
      "Cell \u001b[0;32mIn[5], line 152\u001b[0m\n\u001b[1;32m      1\u001b[0m \u001b[38;5;66;03m# class SSA:\u001b[39;00m\n\u001b[1;32m      2\u001b[0m \u001b[38;5;66;03m#\u001b[39;00m\n\u001b[1;32m      3\u001b[0m \u001b[38;5;66;03m#     @staticmethod\u001b[39;00m\n\u001b[0;32m   (...)\u001b[0m\n\u001b[1;32m    150\u001b[0m \u001b[38;5;66;03m#         plt.show()\u001b[39;00m\n\u001b[1;32m    151\u001b[0m \u001b[38;5;66;03m#\u001b[39;00m\n\u001b[0;32m--> 152\u001b[0m \u001b[38;5;28;01mfrom\u001b[39;00m \u001b[38;5;21;01mSSA\u001b[39;00m \u001b[38;5;28;01mimport\u001b[39;00m SSA\n",
      "\u001b[0;31mModuleNotFoundError\u001b[0m: No module named 'SSA'"
     ]
    }
   ],
   "source": [
    "# class SSA:\n",
    "#\n",
    "#     @staticmethod\n",
    "#     def x_to_Hankelian(x, L, K):\n",
    "#         \"\"\"\n",
    "#         :param x: initial times series\n",
    "#         :param L: window size\n",
    "#         :param K: number of elements in rows\n",
    "#         :return: trajectory matrix (sometimes it is called Hankel's matrix of Hankelian)\n",
    "#         \"\"\"\n",
    "#         X = np.zeros((L, K))\n",
    "#         for i in range(L):\n",
    "#             X[i] = x[i: i + K]\n",
    "#         return X\n",
    "#\n",
    "#     @staticmethod\n",
    "#     def Hankelian_to_TS(X):\n",
    "#         \"\"\"\n",
    "#         :param X: Gets matrix (L, K)\n",
    "#         :return: times series, computed by means of anti-diagonals\n",
    "#         \"\"\"\n",
    "#         X = X[::-1]\n",
    "#         X = np.array([X.diagonal(i).mean() for i in range(-X.shape[0] + 1, X.shape[1])])\n",
    "#         return X\n",
    "#\n",
    "#     @staticmethod\n",
    "#     def get_elementry_matrix(s, u, v):\n",
    "#         \"\"\"\n",
    "#         :param s: j-th singular value\n",
    "#         :param u: j-th vector in U\n",
    "#         :param v: j-th vector in V\n",
    "#         :return: evelementary matrix\n",
    "#         \"\"\"\n",
    "#         return s * np.outer(u, v)\n",
    "#\n",
    "#     @staticmethod\n",
    "#     def get_contribution(Sigma):\n",
    "#         \"\"\"\n",
    "#         :param Sigma: vector of singular values\n",
    "#         :return: (contribution of each eigen value = (singular value) ** 2, cumulative contribution)\n",
    "#         \"\"\"\n",
    "#         Sigma = np.power(Sigma, 2)\n",
    "#         tmp = Sigma / Sigma.sum()\n",
    "#         return tmp, tmp.cumsum()\n",
    "#\n",
    "#     @staticmethod\n",
    "#     def get_W_corr_matrix(x_hat, d, K, L):\n",
    "#         \"\"\"\n",
    "#         :param x_hat: reconstructed parts of the time series\n",
    "#         :param d: rank of matrix X (number of non-zero singular values)\n",
    "#         :param K: K = N - L + 1\n",
    "#         :param L: window size\n",
    "#         :return: matrix of weighted correlation between reconstructed vectors.\n",
    "#             $${\n",
    "#                 WCorr_{i, j} = \\frac{\\left(\\hat{x}_i, \\hat{x}_j \\right)_w}{\\sqrt{\\lVert \\hat{x}_j \\rVert_w \\cdot \\lVert \\hat{x}_i \\rVert_w} }: \\lVert \\hat{x}_i \\rVert_w =  \\left(\\hat{x}_i, \\hat{x}_i \\right)_w = \\sum_{k = 1}^K w_k \\cdot \\hat{x}_{i,k} \\cdot \\hat{x}_{i,k}\n",
    "#             }$$\n",
    "#         \"\"\"\n",
    "#         # vector of weights (number of which each element in initial TS x meets in X)\n",
    "#         w = np.array(list(np.arange(L) + 1) + [L] * (K - 1 - L) + list(np.arange(L) + 1)[::-1])\n",
    "#         def w_dot_product(a, b, w= w):\n",
    "#             return np.sum(w * a * b)\n",
    "#\n",
    "#         W_corr = np.zeros((d, d))\n",
    "#         for i in range(L):\n",
    "#             for j in range(i, L):\n",
    "#                 enumerator = w_dot_product(x_hat[i], x_hat[j], w)\n",
    "#                 denominator = (w_dot_product(x_hat[i], x_hat[i], w) * w_dot_product(x_hat[j], x_hat[j], w))**(0.5)\n",
    "#                 W_corr[i, j] =  enumerator / denominator\n",
    "#                 W_corr[j, i] = W_corr[i, j]\n",
    "#\n",
    "#         return W_corr\n",
    "#\n",
    "#     @staticmethod\n",
    "#     def plot_W_corr(W_corr):\n",
    "#         \"\"\"\n",
    "#         :param W_corr: correlation matrix of reconstructed components\n",
    "#         :return: Nothing. Plots color map of correlation.\n",
    "#         \"\"\"\n",
    "#         plt.figure(figsize= (18, 9))\n",
    "#         axis = plt.imshow(W_corr)\n",
    "#         plt.colorbar(axis.colorbar);\n",
    "#\n",
    "#     @staticmethod\n",
    "#     def plot_x_hat(x_hat, x):\n",
    "#         \"\"\"\n",
    "#         :param x_hat: reconstructed TS in decomposed view\n",
    "#         :param x: initial TS\n",
    "#         :return: Nothing. Plots all x_hat and x\n",
    "#         \"\"\"\n",
    "#         plt.figure(figsize= (18, 7))\n",
    "#         for i in range(x_hat.shape[0]):\n",
    "#             plt.plot(x_hat[i], label= f\"Component: {i}\")\n",
    "#\n",
    "#         plt.plot(x, label= \"True series\", alpha= 0.5)\n",
    "#         plt.legend(loc= \"best\")\n",
    "#         plt.grid(True)\n",
    "#         plt.show()\n",
    "#\n",
    "#     @staticmethod\n",
    "#     def plot_contribution(sigma_contribution):\n",
    "#         \"\"\"\n",
    "#         :param sigma_contribution: (normed to 1 contribution of each singular value, cumsum of normed contribution)\n",
    "#         :return: Nothing. Plots 2 figures (Singular contribution, Cumsum of singular contribution)\n",
    "#         \"\"\"\n",
    "#         fig, axis = plt.subplots(nrows= 1, ncols= 2, figsize= (18, 5))\n",
    "#         axis[0].set_title(\"Contribution\")\n",
    "#         axis[0].plot(sigma_contribution[0])\n",
    "#         axis[0].scatter(list(np.arange(len(sigma_contribution[0]))), sigma_contribution[0])\n",
    "#         axis[0].grid(True)\n",
    "#\n",
    "#         axis[1].set_title(\"Cumulative Contribution\")\n",
    "#         axis[1].plot(sigma_contribution[1])\n",
    "#         axis[1].scatter(list(np.arange(len(sigma_contribution[1]))), sigma_contribution[1])\n",
    "#         axis[1].grid(True)\n",
    "#\n",
    "#         plt.show()\n",
    "#\n",
    "#     @staticmethod # Спросить о правильности!!!!!\n",
    "#     def forecast(Q, reconstructed_values, r, U, N):\n",
    "#         \"\"\"\n",
    "#         :param Q: steps to forecast\n",
    "#         :param reconstructed_values: reconstruction of initial TS\n",
    "#         :param r: number of non-zero singular values\n",
    "#         :param U: orthonormal matrix in SVD decomposition (left side) U Sigma V^T\n",
    "#         :param N: length of initial TS\n",
    "#         :return: np.array() -> shape (Q,) - forecast\n",
    "#         \"\"\"\n",
    "#         U_underline = U[:, 0:r]\n",
    "#         verticality_coef = np.power(U_underline[-1, :], 2).sum()\n",
    "#         R = np.sum(U_underline[-1, :] * U_underline[0:-1, :], axis= 1) / (1 - verticality_coef)\n",
    "#         R = R[::-1]\n",
    "#\n",
    "#         for i in range(N, N + Q):\n",
    "#             s = 0\n",
    "#             for j in range(L - 1):\n",
    "#                 s += (R[j] * reconstructed_values[i - j - 1])\n",
    "#             reconstructed_values.append(s)\n",
    "#\n",
    "#         forecasted = np.array(reconstructed_values[N:])\n",
    "#         return forecasted\n",
    "#\n",
    "#     @staticmethod\n",
    "#     def plot_prediction(reconstructed_values, forecasted, x):\n",
    "#\n",
    "#         plt.figure(figsize= (18, 8))\n",
    "#         plt.plot(np.concatenate([np.array(reconstructed_values), forecasted], axis= 0), label= \"Reconstruction + forecast\", c= \"orange\")\n",
    "#         plt.plot(np.arange(len(x)),x, label= \"Initial x\")\n",
    "#         plt.legend(loc= \"best\")\n",
    "#         plt.grid(True)\n",
    "#         plt.show()\n",
    "#\n",
    "from SSA import SSA"
   ]
  },
  {
   "cell_type": "markdown",
   "metadata": {
    "collapsed": false
   },
   "source": [
    "$${\n",
    "    \\text{W_Corr}_{i, j} = \\frac{\\left(\\hat{x}_i, \\hat{x}_j \\right)_w}{\\sqrt{\\lVert \\hat{x}_j \\rVert_w \\cdot \\lVert \\hat{x}_i \\rVert_w} }: \\lVert \\hat{x}_i \\rVert_w =  \\left(\\hat{x}_i, \\hat{x}_i \\right)_w = \\sum_{k = 1}^K w_k \\cdot \\hat{x}_{i,k} \\cdot \\hat{x}_{i,k}\n",
    "}$$"
   ]
  },
  {
   "cell_type": "code",
   "execution_count": 6,
   "metadata": {
    "collapsed": false
   },
   "outputs": [
    {
     "ename": "<class 'NameError'>",
     "evalue": "name 'SSA' is not defined",
     "output_type": "error",
     "traceback": [
      "\u001b[0;31m---------------------------------------------------------------------------\u001b[0m",
      "\u001b[0;31mNameError\u001b[0m                                 Traceback (most recent call last)",
      "Cell \u001b[0;32mIn[6], line 1\u001b[0m\n\u001b[0;32m----> 1\u001b[0m X_train \u001b[38;5;241m=\u001b[39m SSA\u001b[38;5;241m.\u001b[39mx_to_Hankelian(x_train, L, K)\n\u001b[1;32m      2\u001b[0m d \u001b[38;5;241m=\u001b[39m np\u001b[38;5;241m.\u001b[39mlinalg\u001b[38;5;241m.\u001b[39mmatrix_rank(X_train)\n\u001b[1;32m      3\u001b[0m U, Sigma, Vt \u001b[38;5;241m=\u001b[39m np\u001b[38;5;241m.\u001b[39mlinalg\u001b[38;5;241m.\u001b[39msvd(X_train)\n",
      "\u001b[0;31mNameError\u001b[0m: name 'SSA' is not defined"
     ]
    }
   ],
   "source": [
    "X_train = SSA.x_to_Hankelian(x_train, L, K)\n",
    "d = np.linalg.matrix_rank(X_train)\n",
    "U, Sigma, Vt = np.linalg.svd(X_train)\n",
    "V = Vt.T\n",
    "\n",
    "contribution = SSA.get_contribution(Sigma)\n",
    "X_elem = np.array([SSA.get_elementry_matrix(Sigma[i], U[:, i], V[:, i]) for i in range(U.shape[1])])\n",
    "x_hat = np.array([SSA.Hankelian_to_TS(X_elem[i]) for i in range(X_elem.shape[0])])\n",
    "W_corr = SSA.get_W_corr_matrix(x_hat, d, K, L)"
   ]
  },
  {
   "cell_type": "code",
   "execution_count": 7,
   "metadata": {
    "collapsed": false
   },
   "outputs": [
    {
     "ename": "<class 'NameError'>",
     "evalue": "name 'SSA' is not defined",
     "output_type": "error",
     "traceback": [
      "\u001b[0;31m---------------------------------------------------------------------------\u001b[0m",
      "\u001b[0;31mNameError\u001b[0m                                 Traceback (most recent call last)",
      "Cell \u001b[0;32mIn[7], line 1\u001b[0m\n\u001b[0;32m----> 1\u001b[0m \u001b[43mSSA\u001b[49m\u001b[38;5;241m.\u001b[39mplot_contribution(SSA\u001b[38;5;241m.\u001b[39mget_contribution(Sigma));\n",
      "\u001b[0;31mNameError\u001b[0m: name 'SSA' is not defined"
     ]
    }
   ],
   "source": [
    "SSA.plot_contribution(SSA.get_contribution(Sigma));"
   ]
  },
  {
   "cell_type": "code",
   "execution_count": 8,
   "metadata": {
    "collapsed": false
   },
   "outputs": [
    {
     "ename": "<class 'NameError'>",
     "evalue": "name 'SSA' is not defined",
     "output_type": "error",
     "traceback": [
      "\u001b[0;31m---------------------------------------------------------------------------\u001b[0m",
      "\u001b[0;31mNameError\u001b[0m                                 Traceback (most recent call last)",
      "Cell \u001b[0;32mIn[8], line 1\u001b[0m\n\u001b[0;32m----> 1\u001b[0m \u001b[43mSSA\u001b[49m\u001b[38;5;241m.\u001b[39mplot_x_hat(x_hat, x_train);\n",
      "\u001b[0;31mNameError\u001b[0m: name 'SSA' is not defined"
     ]
    }
   ],
   "source": [
    "SSA.plot_x_hat(x_hat, x_train);"
   ]
  },
  {
   "cell_type": "code",
   "execution_count": 9,
   "metadata": {
    "collapsed": false
   },
   "outputs": [
    {
     "ename": "<class 'NameError'>",
     "evalue": "name 'SSA' is not defined",
     "output_type": "error",
     "traceback": [
      "\u001b[0;31m---------------------------------------------------------------------------\u001b[0m",
      "\u001b[0;31mNameError\u001b[0m                                 Traceback (most recent call last)",
      "Cell \u001b[0;32mIn[9], line 1\u001b[0m\n\u001b[0;32m----> 1\u001b[0m \u001b[43mSSA\u001b[49m\u001b[38;5;241m.\u001b[39mplot_W_corr(W_corr);\n",
      "\u001b[0;31mNameError\u001b[0m: name 'SSA' is not defined"
     ]
    }
   ],
   "source": [
    "SSA.plot_W_corr(W_corr);"
   ]
  },
  {
   "cell_type": "code",
   "execution_count": 10,
   "metadata": {
    "collapsed": false
   },
   "outputs": [
    {
     "ename": "<class 'NameError'>",
     "evalue": "name 'SSA' is not defined",
     "output_type": "error",
     "traceback": [
      "\u001b[0;31m---------------------------------------------------------------------------\u001b[0m",
      "\u001b[0;31mNameError\u001b[0m                                 Traceback (most recent call last)",
      "Cell \u001b[0;32mIn[10], line 1\u001b[0m\n\u001b[0;32m----> 1\u001b[0m contribution \u001b[38;5;241m=\u001b[39m SSA\u001b[38;5;241m.\u001b[39mget_contribution(Sigma)\n\u001b[1;32m      3\u001b[0m \u001b[38;5;66;03m# Один из основных параметров: округление до какого знака у сингулярного числа\u001b[39;00m\n\u001b[1;32m      4\u001b[0m \u001b[38;5;66;03m# Влияет на # элементраных матриц, используемых для реконструкции ряда.\u001b[39;00m\n\u001b[1;32m      6\u001b[0m round_number \u001b[38;5;241m=\u001b[39m \u001b[38;5;241m6\u001b[39m\n",
      "\u001b[0;31mNameError\u001b[0m: name 'SSA' is not defined"
     ]
    }
   ],
   "source": [
    "contribution = SSA.get_contribution(Sigma)\n",
    "\n",
    "# Один из основных параметров: округление до какого знака у сингулярного числа\n",
    "# Влияет на # элементраных матриц, используемых для реконструкции ряда.\n",
    "\n",
    "round_number = 6\n",
    "r = len(contribution[0].round(round_number)[contribution[0].round(round_number) > 0])\n",
    "r = 104\n",
    "\n",
    "contribution[0].round(round_number), r"
   ]
  },
  {
   "cell_type": "code",
   "execution_count": 11,
   "metadata": {
    "collapsed": false
   },
   "outputs": [
    {
     "ename": "<class 'NameError'>",
     "evalue": "name 'r' is not defined",
     "output_type": "error",
     "traceback": [
      "\u001b[0;31m---------------------------------------------------------------------------\u001b[0m",
      "\u001b[0;31mNameError\u001b[0m                                 Traceback (most recent call last)",
      "Cell \u001b[0;32mIn[11], line 4\u001b[0m\n\u001b[1;32m      1\u001b[0m Q \u001b[38;5;241m=\u001b[39m \u001b[38;5;241m100\u001b[39m\n\u001b[1;32m      3\u001b[0m \u001b[38;5;66;03m# reconstructed series without noise\u001b[39;00m\n\u001b[0;32m----> 4\u001b[0m components_to_use \u001b[38;5;241m=\u001b[39m np\u001b[38;5;241m.\u001b[39marange(r)\n\u001b[1;32m      5\u001b[0m reconstructed_values \u001b[38;5;241m=\u001b[39m \u001b[38;5;28mlist\u001b[39m(x_hat[components_to_use]\u001b[38;5;241m.\u001b[39msum(axis\u001b[38;5;241m=\u001b[39m \u001b[38;5;241m0\u001b[39m))\n\u001b[1;32m      6\u001b[0m forecasted \u001b[38;5;241m=\u001b[39m SSA\u001b[38;5;241m.\u001b[39mforecast(Q, reconstructed_values, r, U, N, L)\n",
      "\u001b[0;31mNameError\u001b[0m: name 'r' is not defined"
     ]
    }
   ],
   "source": [
    "Q = 100\n",
    "\n",
    "# reconstructed series without noise\n",
    "components_to_use = np.arange(r)\n",
    "reconstructed_values = list(x_hat[components_to_use].sum(axis= 0))\n",
    "forecasted = SSA.forecast(Q, reconstructed_values, r, U, N, L)"
   ]
  },
  {
   "cell_type": "code",
   "execution_count": 12,
   "metadata": {
    "collapsed": false
   },
   "outputs": [],
   "source": [
    "# SSA.plot_prediction(reconstructed_values[5400:], forecasted, x[5400:])"
   ]
  },
  {
   "cell_type": "code",
   "execution_count": 13,
   "metadata": {
    "collapsed": false
   },
   "outputs": [
    {
     "data": {
      "text/plain": [
       "<Figure size 1800x700 with 0 Axes>"
      ]
     },
     "metadata": {},
     "output_type": "display_data"
    },
    {
     "ename": "<class 'NameError'>",
     "evalue": "name 'forecasted' is not defined",
     "output_type": "error",
     "traceback": [
      "\u001b[0;31m---------------------------------------------------------------------------\u001b[0m",
      "\u001b[0;31mNameError\u001b[0m                                 Traceback (most recent call last)",
      "Cell \u001b[0;32mIn[13], line 2\u001b[0m\n\u001b[1;32m      1\u001b[0m plt\u001b[38;5;241m.\u001b[39mfigure(figsize\u001b[38;5;241m=\u001b[39m (\u001b[38;5;241m18\u001b[39m, \u001b[38;5;241m7\u001b[39m))\n\u001b[0;32m----> 2\u001b[0m plt\u001b[38;5;241m.\u001b[39mplot(forecasted, label\u001b[38;5;241m=\u001b[39m \u001b[38;5;124m\"\u001b[39m\u001b[38;5;124mForecast\u001b[39m\u001b[38;5;124m\"\u001b[39m)\n\u001b[1;32m      3\u001b[0m plt\u001b[38;5;241m.\u001b[39mplot(x_test, label\u001b[38;5;241m=\u001b[39m \u001b[38;5;124m\"\u001b[39m\u001b[38;5;124mReadl\u001b[39m\u001b[38;5;124m\"\u001b[39m)\n\u001b[1;32m      4\u001b[0m plt\u001b[38;5;241m.\u001b[39mgrid(\u001b[38;5;28;01mTrue\u001b[39;00m)\n",
      "\u001b[0;31mNameError\u001b[0m: name 'forecasted' is not defined"
     ]
    }
   ],
   "source": [
    "plt.figure(figsize= (18, 7))\n",
    "plt.plot(forecasted, label= \"Forecast\")\n",
    "plt.plot(x_test, label= \"Readl\")\n",
    "plt.grid(True)\n",
    "plt.legend(loc= \"best\")\n",
    "plt.show()"
   ]
  },
  {
   "cell_type": "code",
   "execution_count": 14,
   "metadata": {
    "collapsed": false
   },
   "outputs": [
    {
     "data": {
      "text/plain": [
       "<Figure size 1800x800 with 0 Axes>"
      ]
     },
     "metadata": {},
     "output_type": "display_data"
    },
    {
     "ename": "<class 'NameError'>",
     "evalue": "name 'reconstructed_values' is not defined",
     "output_type": "error",
     "traceback": [
      "\u001b[0;31m---------------------------------------------------------------------------\u001b[0m",
      "\u001b[0;31mNameError\u001b[0m                                 Traceback (most recent call last)",
      "Cell \u001b[0;32mIn[14], line 2\u001b[0m\n\u001b[1;32m      1\u001b[0m plt\u001b[38;5;241m.\u001b[39mfigure(figsize\u001b[38;5;241m=\u001b[39m (\u001b[38;5;241m18\u001b[39m, \u001b[38;5;241m8\u001b[39m))\n\u001b[0;32m----> 2\u001b[0m plt\u001b[38;5;241m.\u001b[39mplot(np\u001b[38;5;241m.\u001b[39mconcatenate([np\u001b[38;5;241m.\u001b[39marray(reconstructed_values[\u001b[38;5;241m4500\u001b[39m:]), forecasted], axis\u001b[38;5;241m=\u001b[39m \u001b[38;5;241m0\u001b[39m), label\u001b[38;5;241m=\u001b[39m \u001b[38;5;124m\"\u001b[39m\u001b[38;5;124mReconstruction + forecast\u001b[39m\u001b[38;5;124m\"\u001b[39m)\n\u001b[1;32m      3\u001b[0m plt\u001b[38;5;241m.\u001b[39mplot(np\u001b[38;5;241m.\u001b[39marange(\u001b[38;5;28mlen\u001b[39m(x[\u001b[38;5;241m4500\u001b[39m:])),x[\u001b[38;5;241m4500\u001b[39m:], label\u001b[38;5;241m=\u001b[39m \u001b[38;5;124m\"\u001b[39m\u001b[38;5;124mInitial x\u001b[39m\u001b[38;5;124m\"\u001b[39m)\n\u001b[1;32m      4\u001b[0m plt\u001b[38;5;241m.\u001b[39mlegend(loc\u001b[38;5;241m=\u001b[39m \u001b[38;5;124m\"\u001b[39m\u001b[38;5;124mbest\u001b[39m\u001b[38;5;124m\"\u001b[39m)\n",
      "\u001b[0;31mNameError\u001b[0m: name 'reconstructed_values' is not defined"
     ]
    }
   ],
   "source": [
    "plt.figure(figsize= (18, 8))\n",
    "plt.plot(np.concatenate([np.array(reconstructed_values[4500:]), forecasted], axis= 0), label= \"Reconstruction + forecast\")\n",
    "plt.plot(np.arange(len(x[4500:])),x[4500:], label= \"Initial x\")\n",
    "plt.legend(loc= \"best\")\n",
    "plt.grid(True);"
   ]
  },
  {
   "cell_type": "code",
   "execution_count": 15,
   "metadata": {
    "collapsed": false
   },
   "outputs": [],
   "source": []
  },
  {
   "cell_type": "code",
   "execution_count": 16,
   "metadata": {
    "collapsed": false
   },
   "outputs": [],
   "source": []
  },
  {
   "cell_type": "code",
   "execution_count": 17,
   "metadata": {
    "collapsed": false
   },
   "outputs": [],
   "source": []
  },
  {
   "cell_type": "code",
   "execution_count": 18,
   "metadata": {
    "collapsed": false
   },
   "outputs": [],
   "source": []
  },
  {
   "cell_type": "code",
   "execution_count": 19,
   "metadata": {
    "collapsed": false
   },
   "outputs": [],
   "source": []
  },
  {
   "cell_type": "code",
   "execution_count": 20,
   "metadata": {
    "collapsed": false
   },
   "outputs": [],
   "source": []
  },
  {
   "cell_type": "code",
   "execution_count": 21,
   "metadata": {
    "collapsed": false
   },
   "outputs": [],
   "source": []
  },
  {
   "cell_type": "code",
   "execution_count": 22,
   "metadata": {
    "collapsed": false
   },
   "outputs": [],
   "source": []
  },
  {
   "cell_type": "markdown",
   "metadata": {
    "collapsed": false
   },
   "source": [
    "# Теория SSA"
   ]
  },
  {
   "cell_type": "code",
   "execution_count": 23,
   "metadata": {
    "collapsed": false
   },
   "outputs": [
    {
     "ename": "<class 'NameError'>",
     "evalue": "name 'x' is not defined",
     "output_type": "error",
     "traceback": [
      "\u001b[0;31m---------------------------------------------------------------------------\u001b[0m",
      "\u001b[0;31mNameError\u001b[0m                                 Traceback (most recent call last)",
      "Cell \u001b[0;32mIn[15], line 2\u001b[0m\n\u001b[1;32m      1\u001b[0m L \u001b[38;5;241m=\u001b[39m \u001b[38;5;241m20\u001b[39m\n\u001b[0;32m----> 2\u001b[0m N \u001b[38;5;241m=\u001b[39m x\u001b[38;5;241m.\u001b[39mshape[\u001b[38;5;241m0\u001b[39m]\n\u001b[1;32m      3\u001b[0m K \u001b[38;5;241m=\u001b[39m N \u001b[38;5;241m-\u001b[39m L \u001b[38;5;241m+\u001b[39m \u001b[38;5;241m1\u001b[39m\n\u001b[1;32m      5\u001b[0m X \u001b[38;5;241m=\u001b[39m np\u001b[38;5;241m.\u001b[39mzeros((L, K))\n",
      "\u001b[0;31mNameError\u001b[0m: name 'x' is not defined"
     ]
    }
   ],
   "source": [
    "L = 20\n",
    "N = x.shape[0]\n",
    "K = N - L + 1\n",
    "\n",
    "X = np.zeros((L, K))\n",
    "for i in range(L):\n",
    "    X[i, :] = x[i: K + i]\n",
    "\n",
    "X, X.shape"
   ]
  },
  {
   "cell_type": "markdown",
   "metadata": {
    "collapsed": false
   },
   "source": [
    "## SVD разложение"
   ]
  },
  {
   "cell_type": "markdown",
   "metadata": {
    "collapsed": false
   },
   "source": [
    "$${X_{n, m} = U \\Sigma V^*}$$\n",
    "${U_{n,n}}$ - по столбцам стоят нормированные собственные вектора матрицы `X.T @ X`\n",
    "${V^*_{m,m}}$ - по строкам стоят нормированные собственные вектора матрицы `X @ X.T`\n",
    "${\\Sigma_{n,m}}$ - по диагонали стоят ${\\sqrt{\\lambda_j}: \\overline{1,m}}$"
   ]
  },
  {
   "cell_type": "code",
   "execution_count": 24,
   "metadata": {
    "collapsed": false
   },
   "outputs": [
    {
     "ename": "<class 'NameError'>",
     "evalue": "name 'X' is not defined",
     "output_type": "error",
     "traceback": [
      "\u001b[0;31m---------------------------------------------------------------------------\u001b[0m",
      "\u001b[0;31mNameError\u001b[0m                                 Traceback (most recent call last)",
      "Cell \u001b[0;32mIn[16], line 1\u001b[0m\n\u001b[0;32m----> 1\u001b[0m U,S,Vt \u001b[38;5;241m=\u001b[39m np\u001b[38;5;241m.\u001b[39mlinalg\u001b[38;5;241m.\u001b[39msvd(X)\n\u001b[1;32m      2\u001b[0m V \u001b[38;5;241m=\u001b[39m Vt\u001b[38;5;241m.\u001b[39mT\n\u001b[1;32m      4\u001b[0m d \u001b[38;5;241m=\u001b[39m np\u001b[38;5;241m.\u001b[39mlinalg\u001b[38;5;241m.\u001b[39mmatrix_rank(X)\n",
      "\u001b[0;31mNameError\u001b[0m: name 'X' is not defined"
     ]
    }
   ],
   "source": [
    "U,S,Vt = np.linalg.svd(X)\n",
    "V = Vt.T\n",
    "\n",
    "d = np.linalg.matrix_rank(X)\n",
    "X_elem = np.array([S[i] * np.outer(U[:, i], V[:, i]) for i in range(d)])\n",
    "X_elem.shape"
   ]
  },
  {
   "cell_type": "code",
   "execution_count": 25,
   "metadata": {
    "collapsed": false
   },
   "outputs": [],
   "source": [
    "def X_to_TS(X_i):\n",
    "    \"\"\"Averages the anti-diagonals of the given elementary matrix, X_i, and returns a time series.\"\"\"\n",
    "    # Reverse the column ordering of X_i\n",
    "    X_rev = X_i[::-1]\n",
    "    # Full credit to Mark Tolonen at https://stackoverflow.com/a/6313414 for this one:\n",
    "    return np.array([X_rev.diagonal(i).mean() for i in range(-X_i.shape[0]+1, X_i.shape[1])])"
   ]
  },
  {
   "cell_type": "code",
   "execution_count": 26,
   "metadata": {
    "collapsed": false
   },
   "outputs": [
    {
     "ename": "<class 'NameError'>",
     "evalue": "name 'X_elem' is not defined",
     "output_type": "error",
     "traceback": [
      "\u001b[0;31m---------------------------------------------------------------------------\u001b[0m",
      "\u001b[0;31mNameError\u001b[0m                                 Traceback (most recent call last)",
      "Cell \u001b[0;32mIn[18], line 1\u001b[0m\n\u001b[0;32m----> 1\u001b[0m \u001b[38;5;28;01mfor\u001b[39;00m i \u001b[38;5;129;01min\u001b[39;00m \u001b[38;5;28mrange\u001b[39m(\u001b[43mX_elem\u001b[49m\u001b[38;5;241m.\u001b[39mshape[\u001b[38;5;241m0\u001b[39m]):\n\u001b[1;32m      2\u001b[0m     plt\u001b[38;5;241m.\u001b[39mplot(X_to_TS(X_elem[i]))\n\u001b[1;32m      3\u001b[0m     plt\u001b[38;5;241m.\u001b[39mtitle(\u001b[38;5;124mf\u001b[39m\u001b[38;5;124m\"\u001b[39m\u001b[38;5;124m$X_\u001b[39m\u001b[38;5;132;01m{\u001b[39;00mi\u001b[38;5;132;01m}\u001b[39;00m\u001b[38;5;124m$\u001b[39m\u001b[38;5;124m\"\u001b[39m)\n",
      "\u001b[0;31mNameError\u001b[0m: name 'X_elem' is not defined"
     ]
    }
   ],
   "source": [
    "for i in range(X_elem.shape[0]):\n",
    "    plt.plot(X_to_TS(X_elem[i]))\n",
    "    plt.title(f\"$X_{i}$\")\n",
    "    plt.show()"
   ]
  },
  {
   "cell_type": "code",
   "execution_count": 27,
   "metadata": {
    "collapsed": false
   },
   "outputs": [
    {
     "ename": "<class 'NameError'>",
     "evalue": "name 'X_elem' is not defined",
     "output_type": "error",
     "traceback": [
      "\u001b[0;31m---------------------------------------------------------------------------\u001b[0m",
      "\u001b[0;31mNameError\u001b[0m                                 Traceback (most recent call last)",
      "Cell \u001b[0;32mIn[19], line 1\u001b[0m\n\u001b[0;32m----> 1\u001b[0m plt\u001b[38;5;241m.\u001b[39mplot(X_to_TS(\u001b[43mX_elem\u001b[49m[\u001b[38;5;241m0\u001b[39m]));\n",
      "\u001b[0;31mNameError\u001b[0m: name 'X_elem' is not defined"
     ]
    }
   ],
   "source": [
    "plt.plot(X_to_TS(X_elem[0]));"
   ]
  },
  {
   "cell_type": "code",
   "execution_count": 28,
   "metadata": {
    "collapsed": false
   },
   "outputs": [
    {
     "ename": "<class 'NameError'>",
     "evalue": "name 'K' is not defined",
     "output_type": "error",
     "traceback": [
      "\u001b[0;31m---------------------------------------------------------------------------\u001b[0m",
      "\u001b[0;31mNameError\u001b[0m                                 Traceback (most recent call last)",
      "Cell \u001b[0;32mIn[20], line 6\u001b[0m\n\u001b[1;32m      1\u001b[0m \u001b[38;5;66;03m# Get the weights w first, as they'll be reused a lot.\u001b[39;00m\n\u001b[1;32m      2\u001b[0m \u001b[38;5;66;03m# Note: list(np.arange(L)+1) returns the sequence 1 to L (first line in definition of w),\u001b[39;00m\n\u001b[1;32m      3\u001b[0m \u001b[38;5;66;03m# [L]*(K-L-1) repeats L K-L-1 times (second line in w definition)\u001b[39;00m\n\u001b[1;32m      4\u001b[0m \u001b[38;5;66;03m# list(np.arange(L)+1)[::-1] reverses the first list (equivalent to the third line)\u001b[39;00m\n\u001b[1;32m      5\u001b[0m \u001b[38;5;66;03m# Add all the lists together and we have our array of weights.\u001b[39;00m\n\u001b[0;32m----> 6\u001b[0m w \u001b[38;5;241m=\u001b[39m np\u001b[38;5;241m.\u001b[39marray(\u001b[38;5;28mlist\u001b[39m(np\u001b[38;5;241m.\u001b[39marange(L)\u001b[38;5;241m+\u001b[39m\u001b[38;5;241m1\u001b[39m) \u001b[38;5;241m+\u001b[39m [L]\u001b[38;5;241m*\u001b[39m(K\u001b[38;5;241m-\u001b[39mL\u001b[38;5;241m-\u001b[39m\u001b[38;5;241m1\u001b[39m) \u001b[38;5;241m+\u001b[39m \u001b[38;5;28mlist\u001b[39m(np\u001b[38;5;241m.\u001b[39marange(L)\u001b[38;5;241m+\u001b[39m\u001b[38;5;241m1\u001b[39m)[::\u001b[38;5;241m-\u001b[39m\u001b[38;5;241m1\u001b[39m])\n\u001b[1;32m      8\u001b[0m \u001b[38;5;66;03m# Get all the components of the toy series, store them as columns in F_elem array.\u001b[39;00m\n\u001b[1;32m      9\u001b[0m F_elem \u001b[38;5;241m=\u001b[39m np\u001b[38;5;241m.\u001b[39marray([X_to_TS(X_elem[i]) \u001b[38;5;28;01mfor\u001b[39;00m i \u001b[38;5;129;01min\u001b[39;00m \u001b[38;5;28mrange\u001b[39m(d)])\n",
      "\u001b[0;31mNameError\u001b[0m: name 'K' is not defined"
     ]
    }
   ],
   "source": [
    "# Get the weights w first, as they'll be reused a lot.\n",
    "# Note: list(np.arange(L)+1) returns the sequence 1 to L (first line in definition of w),\n",
    "# [L]*(K-L-1) repeats L K-L-1 times (second line in w definition)\n",
    "# list(np.arange(L)+1)[::-1] reverses the first list (equivalent to the third line)\n",
    "# Add all the lists together and we have our array of weights.\n",
    "w = np.array(list(np.arange(L)+1) + [L]*(K-L-1) + list(np.arange(L)+1)[::-1])\n",
    "\n",
    "# Get all the components of the toy series, store them as columns in F_elem array.\n",
    "F_elem = np.array([X_to_TS(X_elem[i]) for i in range(d)])\n",
    "\n",
    "# Calculate the individual weighted norms, ||F_i||_w, first, then take inverse square-root so we don't have to later.\n",
    "F_wnorms = np.array([w.dot(F_elem[i]**2) for i in range(d)])\n",
    "F_wnorms = F_wnorms**-0.5\n",
    "\n",
    "# Calculate the w-corr matrix. The diagonal elements are equal to 1, so we can start with an identity matrix\n",
    "# and iterate over all pairs of i's and j's (i != j), noting that Wij = Wji.\n",
    "Wcorr = np.identity(d)\n",
    "for i in range(d):\n",
    "    for j in range(i+1,d):\n",
    "        Wcorr[i,j] = abs(w.dot(F_elem[i]*F_elem[j]) * F_wnorms[i] * F_wnorms[j])\n",
    "        Wcorr[j,i] = Wcorr[i,j]"
   ]
  },
  {
   "cell_type": "code",
   "execution_count": 29,
   "metadata": {
    "collapsed": false
   },
   "outputs": [
    {
     "ename": "<class 'NameError'>",
     "evalue": "name 'Wcorr' is not defined",
     "output_type": "error",
     "traceback": [
      "\u001b[0;31m---------------------------------------------------------------------------\u001b[0m",
      "\u001b[0;31mNameError\u001b[0m                                 Traceback (most recent call last)",
      "Cell \u001b[0;32mIn[21], line 1\u001b[0m\n\u001b[0;32m----> 1\u001b[0m axs \u001b[38;5;241m=\u001b[39m plt\u001b[38;5;241m.\u001b[39mimshow(Wcorr)\n\u001b[1;32m      2\u001b[0m \u001b[38;5;66;03m# plt.figure(figsize= (18, 9))\u001b[39;00m\n\u001b[1;32m      3\u001b[0m plt\u001b[38;5;241m.\u001b[39mcolorbar(axs\u001b[38;5;241m.\u001b[39mcolorbar, fraction\u001b[38;5;241m=\u001b[39m \u001b[38;5;241m0.045\u001b[39m)\n",
      "\u001b[0;31mNameError\u001b[0m: name 'Wcorr' is not defined"
     ]
    }
   ],
   "source": [
    "axs = plt.imshow(Wcorr)\n",
    "# plt.figure(figsize= (18, 9))\n",
    "plt.colorbar(axs.colorbar, fraction= 0.045)\n",
    "plt.clim(0, 1)"
   ]
  },
  {
   "cell_type": "code",
   "execution_count": 30,
   "metadata": {
    "collapsed": false
   },
   "outputs": [],
   "source": [
    "class SSA(object):\n",
    "    __supported_types = (pd.Series, np.ndarray, list)\n",
    "\n",
    "    def __init__(self, tseries, L, save_mem=True):\n",
    "        \"\"\"\n",
    "        Decomposes the given time series with a singular-spectrum analysis. Assumes the values of the time series are\n",
    "        recorded at equal intervals.\n",
    "\n",
    "        Parameters\n",
    "        ----------\n",
    "        tseries : The original time series, in the form of a Pandas Series, NumPy array or list.\n",
    "        L : The window length. Must be an integer 2 <= L <= N/2, where N is the length of the time series.\n",
    "        save_mem : Conserve memory by not retaining the elementary matrices. Recommended for long time series with\n",
    "            thousands of values. Defaults to True.\n",
    "\n",
    "        Note: Even if an NumPy array or list is used for the initial time series, all time series returned will be\n",
    "        in the form of a Pandas Series or DataFrame object.\n",
    "        \"\"\"\n",
    "\n",
    "        # Tedious type-checking for the initial time series\n",
    "        if not isinstance(tseries, self.__supported_types):\n",
    "            raise TypeError(\"Unsupported time series object. Try Pandas Series, NumPy array or list.\")\n",
    "\n",
    "        # Checks to save us from ourselves\n",
    "        self.N = len(tseries)\n",
    "        if not 2 <= L <= self.N/2:\n",
    "            raise ValueError(\"The window length must be in the interval [2, N/2].\")\n",
    "\n",
    "        self.L = L\n",
    "        self.orig_TS = pd.Series(tseries)\n",
    "        self.K = self.N - self.L + 1\n",
    "\n",
    "        # Embed the time series in a trajectory matrix\n",
    "        self.X = np.array([self.orig_TS.values[i:L+i] for i in range(0, self.K)]).T\n",
    "\n",
    "        # Decompose the trajectory matrix\n",
    "        self.U, self.Sigma, VT = np.linalg.svd(self.X)\n",
    "        self.d = np.linalg.matrix_rank(self.X)\n",
    "\n",
    "        self.TS_comps = np.zeros((self.N, self.d))\n",
    "\n",
    "        if not save_mem:\n",
    "            # Construct and save all the elementary matrices\n",
    "            self.X_elem = np.array([ self.Sigma[i]*np.outer(self.U[:,i], VT[i,:]) for i in range(self.d) ])\n",
    "\n",
    "            # Diagonally average the elementary matrices, store them as columns in array.\n",
    "            for i in range(self.d):\n",
    "                X_rev = self.X_elem[i, ::-1]\n",
    "                self.TS_comps[:,i] = [X_rev.diagonal(j).mean() for j in range(-X_rev.shape[0]+1, X_rev.shape[1])]\n",
    "\n",
    "            self.V = VT.T\n",
    "        else:\n",
    "            # Reconstruct the elementary matrices without storing them\n",
    "            for i in range(self.d):\n",
    "                X_elem = self.Sigma[i]*np.outer(self.U[:,i], VT[i,:])\n",
    "                X_rev = X_elem[::-1]\n",
    "                self.TS_comps[:,i] = [X_rev.diagonal(j).mean() for j in range(-X_rev.shape[0]+1, X_rev.shape[1])]\n",
    "\n",
    "            self.X_elem = \"Re-run with save_mem=False to retain the elementary matrices.\"\n",
    "\n",
    "            # The V array may also be very large under these circumstances, so we won't keep it.\n",
    "            self.V = \"Re-run with save_mem=False to retain the V matrix.\"\n",
    "\n",
    "        # Calculate the w-correlation matrix.\n",
    "        self.calc_wcorr()\n",
    "\n",
    "    def components_to_df(self, n=0):\n",
    "        \"\"\"\n",
    "        Returns all the time series components in a single Pandas DataFrame object.\n",
    "        \"\"\"\n",
    "        if n > 0:\n",
    "            n = min(n, self.d)\n",
    "        else:\n",
    "            n = self.d\n",
    "\n",
    "        # Create list of columns - call them F0, F1, F2, ...\n",
    "        cols = [\"F{}\".format(i) for i in range(n)]\n",
    "        return pd.DataFrame(self.TS_comps[:, :n], columns=cols, index=self.orig_TS.index)\n",
    "\n",
    "\n",
    "    def reconstruct(self, indices):\n",
    "        \"\"\"\n",
    "        Reconstructs the time series from its elementary components, using the given indices. Returns a Pandas Series\n",
    "        object with the reconstructed time series.\n",
    "\n",
    "        Parameters\n",
    "        ----------\n",
    "        indices: An integer, list of integers or slice(n,m) object, representing the elementary components to sum.\n",
    "        \"\"\"\n",
    "        if isinstance(indices, int): indices = [indices]\n",
    "\n",
    "        ts_vals = self.TS_comps[:,indices].sum(axis=1)\n",
    "        return pd.Series(ts_vals, index=self.orig_TS.index)\n",
    "\n",
    "    def calc_wcorr(self):\n",
    "        \"\"\"\n",
    "        Calculates the w-correlation matrix for the time series.\n",
    "        \"\"\"\n",
    "\n",
    "        # Calculate the weights\n",
    "        w = np.array(list(np.arange(self.L)+1) + [self.L]*(self.K-self.L-1) + list(np.arange(self.L)+1)[::-1])\n",
    "\n",
    "        def w_inner(F_i, F_j):\n",
    "            return w.dot(F_i*F_j)\n",
    "\n",
    "        # Calculated weighted norms, ||F_i||_w, then invert.\n",
    "        F_wnorms = np.array([w_inner(self.TS_comps[:,i], self.TS_comps[:,i]) for i in range(self.d)])\n",
    "        F_wnorms = F_wnorms**-0.5\n",
    "\n",
    "        # Calculate Wcorr.\n",
    "        self.Wcorr = np.identity(self.d)\n",
    "        for i in range(self.d):\n",
    "            for j in range(i+1,self.d):\n",
    "                self.Wcorr[i,j] = abs(w_inner(self.TS_comps[:,i], self.TS_comps[:,j]) * F_wnorms[i] * F_wnorms[j])\n",
    "                self.Wcorr[j,i] = self.Wcorr[i,j]\n",
    "\n",
    "    def plot_wcorr(self, min=None, max=None):\n",
    "        \"\"\"\n",
    "        Plots the w-correlation matrix for the decomposed time series.\n",
    "        \"\"\"\n",
    "        if min is None:\n",
    "            min = 0\n",
    "        if max is None:\n",
    "            max = self.d\n",
    "\n",
    "        if self.Wcorr is None:\n",
    "            self.calc_wcorr()\n",
    "\n",
    "        ax = plt.imshow(self.Wcorr)\n",
    "        plt.xlabel(r\"$\\tilde{F}_i$\")\n",
    "        plt.ylabel(r\"$\\tilde{F}_j$\")\n",
    "        plt.colorbar(ax.colorbar, fraction=0.045)\n",
    "        ax.colorbar.set_label(\"$W_{i,j}$\")\n",
    "        plt.clim(0,1)\n",
    "\n",
    "        # For plotting purposes:\n",
    "        if max == self.d:\n",
    "            max_rnge = self.d-1\n",
    "        else:\n",
    "            max_rnge = max\n",
    "\n",
    "        plt.xlim(min-0.5, max_rnge+0.5)\n",
    "        plt.ylim(max_rnge+0.5, min-0.5)"
   ]
  },
  {
   "cell_type": "code",
   "execution_count": 31,
   "metadata": {
    "collapsed": false
   },
   "outputs": [],
   "source": []
  }
 ],
 "metadata": {
  "kernelspec": {
   "display_name": "Python 3.10 (XPython)",
   "language": "python",
   "name": "xpython"
  },
  "language_info": {
   "codemirror_mode": {
    "name": "ipython",
    "version": 2
   },
   "file_extension": ".py",
   "mimetype": "text/x-python",
   "name": "python",
   "nbconvert_exporter": "python",
   "pygments_lexer": "ipython2",
   "version": "2.7.6"
  }
 },
 "nbformat": 4,
 "nbformat_minor": 0
}
