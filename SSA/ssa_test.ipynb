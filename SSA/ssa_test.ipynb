{
 "cells": [
  {
   "cell_type": "code",
   "execution_count": 1,
   "metadata": {
    "collapsed": true
   },
   "outputs": [],
   "source": [
    "import numpy as np\n",
    "import pandas as pd\n",
    "import matplotlib.pyplot as plt\n",
    "from SSA import SSA"
   ]
  },
  {
   "cell_type": "code",
   "execution_count": 2,
   "metadata": {
    "collapsed": false
   },
   "outputs": [
    {
     "data": {
      "text/plain": [
       "((2000,), (1900,), (1900,), (100,), (100,))"
      ]
     },
     "execution_count": 2,
     "metadata": {},
     "output_type": "execute_result"
    }
   ],
   "source": [
    "df = pd.read_csv(\"../Data/Illustration Data/data_to_denoise.csv\")\n",
    "x = np.array(df.x)\n",
    "y = np.array(df.y)\n",
    "original_data = np.sin(5 * x) + 1 / 4 * (x ** 2)\n",
    "\n",
    "test_size = -100\n",
    "\n",
    "train_data = y[:test_size]\n",
    "test_data = y[test_size:]\n",
    "\n",
    "train_od = original_data[:test_size]\n",
    "test_od = original_data[test_size:]\n",
    "\n",
    "train_dates = x[:test_size]\n",
    "test_dates = x[test_size:]\n",
    "\n",
    "y.shape, train_data.shape, train_dates.shape, test_data.shape, test_dates.shape"
   ]
  },
  {
   "cell_type": "code",
   "execution_count": null,
   "metadata": {
    "collapsed": false
   },
   "outputs": [],
   "source": [
    "N = len(train_data)\n",
    "L = 20\n",
    "K = N - L + 1\n",
    "r = None\n",
    "\n",
    "components = SSA.get_components(train_data, L)"
   ]
  },
  {
   "cell_type": "code",
   "execution_count": null,
   "metadata": {
    "collapsed": false
   },
   "outputs": [],
   "source": [
    "plt.figure(figsize= (18, 5))\n",
    "plt.grid(True)\n",
    "for ind, x in enumerate(components):\n",
    "    name = \"\"\n",
    "    if ind == 0:\n",
    "        name = f\"Компонента: {ind + 1}\"\n",
    "\n",
    "    plt.plot(train_dates, x, label= name)\n",
    "plt.plot(train_dates, train_data, label= \"Исходные данные\", alpha= 0.5, color= \"cornflowerblue\")\n",
    "plt.plot(train_dates, train_od, label= \"Исходные данные (без шума)\", alpha= 0.5, color= \"red\")\n",
    "plt.legend(loc= \"best\")\n",
    "plt.show()"
   ]
  },
  {
   "cell_type": "code",
   "execution_count": null,
   "metadata": {
    "collapsed": false
   },
   "outputs": [],
   "source": [
    "components2 = pd.DataFrame(np.concatenate([train_dates.reshape(-1, 1), components.T], axis= 1))\n",
    "components2.columns = [\"x\"] + [f\"y{i + 1}\" for i in range(components2.shape[1] - 1)]\n",
    "components2.to_csv(\"components.csv\", index=False)"
   ]
  },
  {
   "cell_type": "code",
   "execution_count": null,
   "metadata": {
    "collapsed": false
   },
   "outputs": [],
   "source": [
    "contribution = SSA.get_contribution(np.linalg.svd(SSA.x_to_Hankelian(train_data, L, K))[1])"
   ]
  },
  {
   "cell_type": "code",
   "execution_count": null,
   "metadata": {
    "collapsed": false
   },
   "outputs": [],
   "source": [
    "contribution"
   ]
  },
  {
   "cell_type": "code",
   "execution_count": null,
   "metadata": {
    "collapsed": false
   },
   "outputs": [],
   "source": [
    "contribution2 = pd.DataFrame({\n",
    "    \"x\": np.arange(1, len(contribution[0]) + 1),\n",
    "    \"each\": contribution[0],\n",
    "    \"cumsum\": contribution[1]\n",
    "})"
   ]
  },
  {
   "cell_type": "code",
   "execution_count": null,
   "metadata": {
    "collapsed": false
   },
   "outputs": [],
   "source": [
    "contribution2.to_csv(\"contribution.csv\", index= False)"
   ]
  },
  {
   "cell_type": "code",
   "execution_count": null,
   "metadata": {
    "collapsed": false
   },
   "outputs": [],
   "source": [
    "hankelian = SSA.x_to_Hankelian(train_data, L)\n",
    "d = np.linalg.matrix_rank(hankelian)"
   ]
  },
  {
   "cell_type": "code",
   "execution_count": null,
   "metadata": {
    "collapsed": false
   },
   "outputs": [],
   "source": [
    "W_corr = SSA.get_W_corr_matrix(SSA.get_components(train_data, L), d, K, L)"
   ]
  },
  {
   "cell_type": "code",
   "execution_count": null,
   "metadata": {
    "collapsed": false
   },
   "outputs": [],
   "source": [
    "W_corr"
   ]
  },
  {
   "cell_type": "code",
   "execution_count": null,
   "metadata": {
    "collapsed": false
   },
   "outputs": [],
   "source": [
    "import numpy as np\n",
    "import matplotlib\n",
    "import matplotlib as mpl\n",
    "import matplotlib.pyplot as plt\n",
    "\n",
    "\n",
    "vegetables = np.arange(1, 21) #[\"cucumber\", \"tomato\", \"lettuce\", \"asparagus\", \"potato\", \"wheat\", \"barley\"]\n",
    "farmers = np.arange(1, 21) #[\"Farmer Joe\", \"Upland Bros.\", \"Smith Gardening\", \"Agrifun\", \"Organiculture\", \"BioGoods Ltd.\", \"Cornylee Corp.\"]\n",
    "\n",
    "harvest = W_corr.round(2)\n",
    "\n",
    "fig, ax = plt.subplots(figsize= (18, 9))\n",
    "im = ax.imshow(harvest)\n",
    "\n",
    "# Show all ticks and label them with the respective list entries\n",
    "ax.set_xticks(np.arange(len(farmers)), labels=farmers)\n",
    "ax.set_yticks(np.arange(len(vegetables)), labels=vegetables)\n",
    "\n",
    "# Rotate the tick labels and set their alignment.\n",
    "plt.setp(ax.get_xticklabels(), ha=\"right\", rotation_mode=\"anchor\")\n",
    "\n",
    "# Loop over data dimensions and create text annotations.\n",
    "for i in range(len(vegetables)):\n",
    "    for j in range(len(farmers)):\n",
    "        # if i != j:\n",
    "        if harvest[i, j] > 0.8:\n",
    "            text = ax.text(j, i, harvest[i, j],\n",
    "                           ha=\"center\", va=\"center\", color=\"black\", fontweight= \"bold\")\n",
    "        else:\n",
    "            text = ax.text(j, i, harvest[i, j],\n",
    "                           ha=\"center\", va=\"center\", color=\"w\", fontweight= \"bold\")\n",
    "\n",
    "# ax.set_title(\"Harvest of local farmers (in tons/year)\")\n",
    "fig.tight_layout()\n",
    "plt.savefig(\"W_corr.png\", dpi= 230)\n",
    "plt.show()"
   ]
  },
  {
   "cell_type": "code",
   "execution_count": null,
   "metadata": {
    "collapsed": false
   },
   "outputs": [],
   "source": [
    "forecast = SSA.forecast(train_data, K, abs(test_size), 18)"
   ]
  },
  {
   "cell_type": "code",
   "execution_count": null,
   "metadata": {
    "collapsed": false
   },
   "outputs": [],
   "source": [
    "plt.figure(figsize= (18, 4.5))\n",
    "plt.grid(True)\n",
    "plt.plot(train_dates[-100:], train_data[-100:], label= \"Train наблюдения\")\n",
    "plt.plot(test_dates, test_data, label= \"Test наблюдения\", color= \"green\")\n",
    "plt.plot(test_dates, test_od, label= \"Test наблюдения (без шума)\", color= \"red\")\n",
    "plt.plot(test_dates, forecast, label= \"Test предсказания\", color= \"orange\")\n",
    "# plt.axvline(x = 4.5, c= \"purple\", label = 'Начало прогноза')\n",
    "plt.legend(loc= \"lower left\")\n",
    "plt.savefig(\"forecast_100.png\", dpi= 230)\n",
    "plt.show()"
   ]
  },
  {
   "cell_type": "code",
   "execution_count": null,
   "metadata": {
    "collapsed": false
   },
   "outputs": [],
   "source": [
    "# далее очистка от шума"
   ]
  },
  {
   "cell_type": "code",
   "execution_count": 10,
   "metadata": {
    "collapsed": false
   },
   "outputs": [
    {
     "data": {
      "application/vnd.jupyter.widget-view+json": {
       "model_id": "d205b0bb6eb54d668599342096d477cb",
       "version_major": 2,
       "version_minor": 0
      },
      "text/plain": [
       "Dividing loop:   0%|          | 0/2000 [00:00<?, ?it/s]"
      ]
     },
     "metadata": {},
     "output_type": "display_data"
    }
   ],
   "source": [
    "denoised = SSA.multiple_stage_denoising(y, L= 2)"
   ]
  },
  {
   "cell_type": "code",
   "execution_count": 11,
   "metadata": {
    "collapsed": false
   },
   "outputs": [
    {
     "data": {
      "text/plain": [
       "((2000,), (2000,), (2000,), (2000,))"
      ]
     },
     "execution_count": 11,
     "metadata": {},
     "output_type": "execute_result"
    }
   ],
   "source": [
    "denoised[1].shape, x.shape, y.shape, original_data.shape"
   ]
  },
  {
   "cell_type": "code",
   "execution_count": 12,
   "metadata": {
    "collapsed": false
   },
   "outputs": [
    {
     "data": {
      "image/png": "[encoded data removed]",
      "text/plain": [
       "<Figure size 640x480 with 1 Axes>"
      ]
     },
     "metadata": {},
     "output_type": "display_data"
    }
   ],
   "source": [
    "data = pd.DataFrame({\n",
    "    # \"x\": x,\n",
    "    \"y\": y,\n",
    "    \"origianl\": original_data,\n",
    "    \"denoised\": denoised[1]\n",
    "})\n",
    "data.plot();"
   ]
  },
  {
   "cell_type": "code",
   "execution_count": 6,
   "metadata": {
    "collapsed": false
   },
   "outputs": [],
   "source": [
    "# data.to_csv(\"denoised.csv\", index= False)"
   ]
  },
  {
   "cell_type": "code",
   "execution_count": null,
   "metadata": {
    "collapsed": false
   },
   "outputs": [],
   "source": []
  }
 ],
 "metadata": {
  "kernelspec": {
   "display_name": "Python 3.10 (XPython)",
   "language": "python",
   "name": "xpython"
  },
  "language_info": {
   "codemirror_mode": {
    "name": "ipython",
    "version": 2
   },
   "file_extension": ".py",
   "mimetype": "text/x-python",
   "name": "python",
   "nbconvert_exporter": "python",
   "pygments_lexer": "ipython2",
   "version": "2.7.6"
  }
 },
 "nbformat": 4,
 "nbformat_minor": 0
}
