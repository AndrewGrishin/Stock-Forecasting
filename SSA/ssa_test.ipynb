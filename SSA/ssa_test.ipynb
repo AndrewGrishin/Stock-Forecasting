{
 "cells": [
  {
   "cell_type": "code",
   "execution_count": 1,
   "metadata": {
    "collapsed": true
   },
   "outputs": [],
   "source": [
    "import numpy as np\n",
    "import pandas as pd\n",
    "from SSA import SSA\n",
    "import os\n",
    "from tqdm.notebook import tqdm"
   ]
  },
  {
   "cell_type": "code",
   "execution_count": 2,
   "outputs": [],
   "source": [
    "def wape(y, y_hat):\n",
    "    return np.sum(np.abs(y - y_hat)) / np.sum(np.abs(y)) * 100"
   ],
   "metadata": {
    "collapsed": false
   }
  },
  {
   "cell_type": "code",
   "execution_count": 8,
   "metadata": {
    "collapsed": false
   },
   "outputs": [],
   "source": [
    "def get_wapes(path, country, prices_not_returns, test_size):\n",
    "    result_dict = dict()\n",
    "    entries = os.listdir(path)\n",
    "    entries.remove(\".DS_Store\")\n",
    "\n",
    "    pbar = tqdm(entries, desc= f\"{country} company\", total= len(entries))\n",
    "    for file in pbar:\n",
    "        df = pd.read_csv(path + file if path[-1] == r\"/\" else path + r\"/\" + file).dropna()\n",
    "        series = np.array(df.Open) if prices_not_returns else np.array(df.Open.pct_change())[1:]\n",
    "\n",
    "        x_train, x_test = series[:test_size], series[test_size:]\n",
    "\n",
    "        N = len(x_train)\n",
    "        L = 20\n",
    "        K = N - L + 1\n",
    "        r = None\n",
    "\n",
    "        hankelian = SSA.x_to_Hankelian(x_train, L)\n",
    "        d = np.linalg.matrix_rank(hankelian)\n",
    "\n",
    "        forecast = np.zeros(len(x_test))\n",
    "\n",
    "        pbar_forecast = tqdm(range(len(x_test)), f\"{file[:-14]}: Forecast stage\")\n",
    "        for i in pbar_forecast:\n",
    "            x_train_loc = np.concatenate([x_train, x_test[:i]], axis= 0)\n",
    "            f = SSA.forecast(x_train_loc, K, 1, 18)\n",
    "            forecast[i] = f\n",
    "\n",
    "        metrics = wape(x_test, forecast)\n",
    "        result_dict[file[:-14]] = metrics\n",
    "\n",
    "        print(f\"{file[:-14]}: Test error: {metrics:.2}%\")\n",
    "\n",
    "    return result_dict\n"
   ]
  },
  {
   "cell_type": "code",
   "execution_count": 4,
   "outputs": [
    {
     "data": {
      "application/vnd.jupyter.widget-view+json": {
       "model_id": "15d6c8673670425caf3ae458f96d34fd",
       "version_major": 2,
       "version_minor": 0
      },
      "text/plain": "US company:   0%|          | 0/15 [00:00<?, ?it/s]"
     },
     "metadata": {},
     "output_type": "display_data"
    },
    {
     "data": {
      "application/vnd.jupyter.widget-view+json": {
       "model_id": "448833555754442c85d5b09198563df0",
       "version_major": 2,
       "version_minor": 0
      },
      "text/plain": "GE: Forecast stage:   0%|          | 0/50 [00:00<?, ?it/s]"
     },
     "metadata": {},
     "output_type": "display_data"
    },
    {
     "name": "stdout",
     "output_type": "stream",
     "text": [
      "GE: Test error: 2.0%\n"
     ]
    },
    {
     "data": {
      "application/vnd.jupyter.widget-view+json": {
       "model_id": "73375875d76e4af7841968534c52d332",
       "version_major": 2,
       "version_minor": 0
      },
      "text/plain": "AMZN: Forecast stage:   0%|          | 0/50 [00:00<?, ?it/s]"
     },
     "metadata": {},
     "output_type": "display_data"
    },
    {
     "name": "stdout",
     "output_type": "stream",
     "text": [
      "AMZN: Test error: 4.4%\n"
     ]
    },
    {
     "data": {
      "application/vnd.jupyter.widget-view+json": {
       "model_id": "59b35b4c652e4b929d2af43667bd1886",
       "version_major": 2,
       "version_minor": 0
      },
      "text/plain": "GOOG: Forecast stage:   0%|          | 0/50 [00:00<?, ?it/s]"
     },
     "metadata": {},
     "output_type": "display_data"
    },
    {
     "name": "stdout",
     "output_type": "stream",
     "text": [
      "GOOG: Test error: 3.1%\n"
     ]
    },
    {
     "data": {
      "application/vnd.jupyter.widget-view+json": {
       "model_id": "ff0e062f23bf484d994c665ee976aba5",
       "version_major": 2,
       "version_minor": 0
      },
      "text/plain": "NKE: Forecast stage:   0%|          | 0/50 [00:00<?, ?it/s]"
     },
     "metadata": {},
     "output_type": "display_data"
    },
    {
     "name": "stdout",
     "output_type": "stream",
     "text": [
      "NKE: Test error: 4.2%\n"
     ]
    },
    {
     "data": {
      "application/vnd.jupyter.widget-view+json": {
       "model_id": "b21053776222405989fc9d4c7b754714",
       "version_major": 2,
       "version_minor": 0
      },
      "text/plain": "INTC: Forecast stage:   0%|          | 0/50 [00:00<?, ?it/s]"
     },
     "metadata": {},
     "output_type": "display_data"
    },
    {
     "name": "stdout",
     "output_type": "stream",
     "text": [
      "INTC: Test error: 2.8%\n"
     ]
    },
    {
     "data": {
      "application/vnd.jupyter.widget-view+json": {
       "model_id": "0ddf064fc9574900b0c0f2d997afa42c",
       "version_major": 2,
       "version_minor": 0
      },
      "text/plain": "AAPL: Forecast stage:   0%|          | 0/50 [00:00<?, ?it/s]"
     },
     "metadata": {},
     "output_type": "display_data"
    },
    {
     "name": "stdout",
     "output_type": "stream",
     "text": [
      "AAPL: Test error: 3.5%\n"
     ]
    },
    {
     "data": {
      "application/vnd.jupyter.widget-view+json": {
       "model_id": "9f8a5d48e6a44bd1a048ea424ff59c91",
       "version_major": 2,
       "version_minor": 0
      },
      "text/plain": "UBER: Forecast stage:   0%|          | 0/50 [00:00<?, ?it/s]"
     },
     "metadata": {},
     "output_type": "display_data"
    },
    {
     "name": "stdout",
     "output_type": "stream",
     "text": [
      "UBER: Test error: 3.9%\n"
     ]
    },
    {
     "data": {
      "application/vnd.jupyter.widget-view+json": {
       "model_id": "55994abc8e764807b9742224e65f81e2",
       "version_major": 2,
       "version_minor": 0
      },
      "text/plain": "MSFT: Forecast stage:   0%|          | 0/50 [00:00<?, ?it/s]"
     },
     "metadata": {},
     "output_type": "display_data"
    },
    {
     "name": "stdout",
     "output_type": "stream",
     "text": [
      "MSFT: Test error: 3.1%\n"
     ]
    },
    {
     "data": {
      "application/vnd.jupyter.widget-view+json": {
       "model_id": "cf89a94560ad4930b704128296bea4b6",
       "version_major": 2,
       "version_minor": 0
      },
      "text/plain": "GM: Forecast stage:   0%|          | 0/50 [00:00<?, ?it/s]"
     },
     "metadata": {},
     "output_type": "display_data"
    },
    {
     "name": "stdout",
     "output_type": "stream",
     "text": [
      "GM: Test error: 2.8%\n"
     ]
    },
    {
     "data": {
      "application/vnd.jupyter.widget-view+json": {
       "model_id": "7d0e2afe727940ccbbd1f72d288dc0cf",
       "version_major": 2,
       "version_minor": 0
      },
      "text/plain": "WMT: Forecast stage:   0%|          | 0/50 [00:00<?, ?it/s]"
     },
     "metadata": {},
     "output_type": "display_data"
    },
    {
     "name": "stdout",
     "output_type": "stream",
     "text": [
      "WMT: Test error: 1.6%\n"
     ]
    },
    {
     "data": {
      "application/vnd.jupyter.widget-view+json": {
       "model_id": "689553af34f14a6ba07fa81504bd74f5",
       "version_major": 2,
       "version_minor": 0
      },
      "text/plain": "NFLX: Forecast stage:   0%|          | 0/50 [00:00<?, ?it/s]"
     },
     "metadata": {},
     "output_type": "display_data"
    },
    {
     "name": "stdout",
     "output_type": "stream",
     "text": [
      "NFLX: Test error: 3.6%\n"
     ]
    },
    {
     "data": {
      "application/vnd.jupyter.widget-view+json": {
       "model_id": "b4af832010b64ce0b4c2fefee1bf654a",
       "version_major": 2,
       "version_minor": 0
      },
      "text/plain": "Coca Cola: Forecast stage:   0%|          | 0/50 [00:00<?, ?it/s]"
     },
     "metadata": {},
     "output_type": "display_data"
    },
    {
     "name": "stdout",
     "output_type": "stream",
     "text": [
      "Coca Cola: Test error: 1.2%\n"
     ]
    },
    {
     "data": {
      "application/vnd.jupyter.widget-view+json": {
       "model_id": "26d5c0879498467189e8f8baaa5581e5",
       "version_major": 2,
       "version_minor": 0
      },
      "text/plain": "EBAY: Forecast stage:   0%|          | 0/50 [00:00<?, ?it/s]"
     },
     "metadata": {},
     "output_type": "display_data"
    },
    {
     "name": "stdout",
     "output_type": "stream",
     "text": [
      "EBAY: Test error: 2.2%\n"
     ]
    },
    {
     "data": {
      "application/vnd.jupyter.widget-view+json": {
       "model_id": "8acc9cd987de4ed7adbfe008009ee85d",
       "version_major": 2,
       "version_minor": 0
      },
      "text/plain": "FORD: Forecast stage:   0%|          | 0/50 [00:00<?, ?it/s]"
     },
     "metadata": {},
     "output_type": "display_data"
    },
    {
     "name": "stdout",
     "output_type": "stream",
     "text": [
      "FORD: Test error: 2.8%\n"
     ]
    },
    {
     "data": {
      "application/vnd.jupyter.widget-view+json": {
       "model_id": "73b257d7d14743eeb35e1be1b42fcb94",
       "version_major": 2,
       "version_minor": 0
      },
      "text/plain": "DIS: Forecast stage:   0%|          | 0/50 [00:00<?, ?it/s]"
     },
     "metadata": {},
     "output_type": "display_data"
    },
    {
     "name": "stdout",
     "output_type": "stream",
     "text": [
      "DIS: Test error: 3.2%\n"
     ]
    },
    {
     "data": {
      "application/vnd.jupyter.widget-view+json": {
       "model_id": "19dcd9149caa4dd4a0d8b05b61b76807",
       "version_major": 2,
       "version_minor": 0
      },
      "text/plain": "US company:   0%|          | 0/15 [00:00<?, ?it/s]"
     },
     "metadata": {},
     "output_type": "display_data"
    },
    {
     "data": {
      "application/vnd.jupyter.widget-view+json": {
       "model_id": "3b908fc8cfc94e0d9abdb4bf2b6dc35e",
       "version_major": 2,
       "version_minor": 0
      },
      "text/plain": "GE: Forecast stage:   0%|          | 0/50 [00:00<?, ?it/s]"
     },
     "metadata": {},
     "output_type": "display_data"
    },
    {
     "name": "stdout",
     "output_type": "stream",
     "text": [
      "GE: Test error: 1.3e+02%\n"
     ]
    },
    {
     "data": {
      "application/vnd.jupyter.widget-view+json": {
       "model_id": "c01f6d7f4fab4ab49e35d03f1c4acf76",
       "version_major": 2,
       "version_minor": 0
      },
      "text/plain": "AMZN: Forecast stage:   0%|          | 0/50 [00:00<?, ?it/s]"
     },
     "metadata": {},
     "output_type": "display_data"
    },
    {
     "name": "stdout",
     "output_type": "stream",
     "text": [
      "AMZN: Test error: 1.1e+02%\n"
     ]
    },
    {
     "data": {
      "application/vnd.jupyter.widget-view+json": {
       "model_id": "4bca67f8799d44b4903de762f69dcca5",
       "version_major": 2,
       "version_minor": 0
      },
      "text/plain": "GOOG: Forecast stage:   0%|          | 0/50 [00:00<?, ?it/s]"
     },
     "metadata": {},
     "output_type": "display_data"
    },
    {
     "name": "stdout",
     "output_type": "stream",
     "text": [
      "GOOG: Test error: 1.1e+02%\n"
     ]
    },
    {
     "data": {
      "application/vnd.jupyter.widget-view+json": {
       "model_id": "31994fe2e1d543249ccdedbe2661b72c",
       "version_major": 2,
       "version_minor": 0
      },
      "text/plain": "NKE: Forecast stage:   0%|          | 0/50 [00:00<?, ?it/s]"
     },
     "metadata": {},
     "output_type": "display_data"
    },
    {
     "name": "stdout",
     "output_type": "stream",
     "text": [
      "NKE: Test error: 1.2e+02%\n"
     ]
    },
    {
     "data": {
      "application/vnd.jupyter.widget-view+json": {
       "model_id": "2dc7421a68a24010b8bc423cadc0d330",
       "version_major": 2,
       "version_minor": 0
      },
      "text/plain": "INTC: Forecast stage:   0%|          | 0/50 [00:00<?, ?it/s]"
     },
     "metadata": {},
     "output_type": "display_data"
    },
    {
     "name": "stdout",
     "output_type": "stream",
     "text": [
      "INTC: Test error: 1.4e+02%\n"
     ]
    },
    {
     "data": {
      "application/vnd.jupyter.widget-view+json": {
       "model_id": "96a257f9031c4d8d90deae6843048a97",
       "version_major": 2,
       "version_minor": 0
      },
      "text/plain": "AAPL: Forecast stage:   0%|          | 0/50 [00:00<?, ?it/s]"
     },
     "metadata": {},
     "output_type": "display_data"
    },
    {
     "name": "stdout",
     "output_type": "stream",
     "text": [
      "AAPL: Test error: 1e+02%\n"
     ]
    },
    {
     "data": {
      "application/vnd.jupyter.widget-view+json": {
       "model_id": "760993cefc1f49ad80ef20e185980117",
       "version_major": 2,
       "version_minor": 0
      },
      "text/plain": "UBER: Forecast stage:   0%|          | 0/50 [00:00<?, ?it/s]"
     },
     "metadata": {},
     "output_type": "display_data"
    },
    {
     "name": "stdout",
     "output_type": "stream",
     "text": [
      "UBER: Test error: 1.5e+02%\n"
     ]
    },
    {
     "data": {
      "application/vnd.jupyter.widget-view+json": {
       "model_id": "149e06d9f4924e7b9e212a7adf3302d0",
       "version_major": 2,
       "version_minor": 0
      },
      "text/plain": "MSFT: Forecast stage:   0%|          | 0/50 [00:00<?, ?it/s]"
     },
     "metadata": {},
     "output_type": "display_data"
    },
    {
     "name": "stdout",
     "output_type": "stream",
     "text": [
      "MSFT: Test error: 1.2e+02%\n"
     ]
    },
    {
     "data": {
      "application/vnd.jupyter.widget-view+json": {
       "model_id": "fef82470db724861909ca68458f5c533",
       "version_major": 2,
       "version_minor": 0
      },
      "text/plain": "GM: Forecast stage:   0%|          | 0/50 [00:00<?, ?it/s]"
     },
     "metadata": {},
     "output_type": "display_data"
    },
    {
     "name": "stdout",
     "output_type": "stream",
     "text": [
      "GM: Test error: 1.2e+02%\n"
     ]
    },
    {
     "data": {
      "application/vnd.jupyter.widget-view+json": {
       "model_id": "071be8ca8dd04702b4373d736317c92d",
       "version_major": 2,
       "version_minor": 0
      },
      "text/plain": "WMT: Forecast stage:   0%|          | 0/50 [00:00<?, ?it/s]"
     },
     "metadata": {},
     "output_type": "display_data"
    },
    {
     "name": "stdout",
     "output_type": "stream",
     "text": [
      "WMT: Test error: 1.5e+02%\n"
     ]
    },
    {
     "data": {
      "application/vnd.jupyter.widget-view+json": {
       "model_id": "f7ff8e9294f44718bc0be8bf4a1a4f0a",
       "version_major": 2,
       "version_minor": 0
      },
      "text/plain": "NFLX: Forecast stage:   0%|          | 0/50 [00:00<?, ?it/s]"
     },
     "metadata": {},
     "output_type": "display_data"
    },
    {
     "name": "stdout",
     "output_type": "stream",
     "text": [
      "NFLX: Test error: 1.5e+02%\n"
     ]
    },
    {
     "data": {
      "application/vnd.jupyter.widget-view+json": {
       "model_id": "26ee014f6bf94af48ea6c2c9056e6bfa",
       "version_major": 2,
       "version_minor": 0
      },
      "text/plain": "Coca Cola: Forecast stage:   0%|          | 0/50 [00:00<?, ?it/s]"
     },
     "metadata": {},
     "output_type": "display_data"
    },
    {
     "name": "stdout",
     "output_type": "stream",
     "text": [
      "Coca Cola: Test error: 1.2e+02%\n"
     ]
    },
    {
     "data": {
      "application/vnd.jupyter.widget-view+json": {
       "model_id": "8c5326a2e7d4405da3999d4ec99bcefb",
       "version_major": 2,
       "version_minor": 0
      },
      "text/plain": "EBAY: Forecast stage:   0%|          | 0/50 [00:00<?, ?it/s]"
     },
     "metadata": {},
     "output_type": "display_data"
    },
    {
     "name": "stdout",
     "output_type": "stream",
     "text": [
      "EBAY: Test error: 1e+02%\n"
     ]
    },
    {
     "data": {
      "application/vnd.jupyter.widget-view+json": {
       "model_id": "aa0532f7cd0646b7813081e1ede70605",
       "version_major": 2,
       "version_minor": 0
      },
      "text/plain": "FORD: Forecast stage:   0%|          | 0/50 [00:00<?, ?it/s]"
     },
     "metadata": {},
     "output_type": "display_data"
    },
    {
     "name": "stdout",
     "output_type": "stream",
     "text": [
      "FORD: Test error: 1.4e+02%\n"
     ]
    },
    {
     "data": {
      "application/vnd.jupyter.widget-view+json": {
       "model_id": "37bb81da0abd4f21904e7d73981d70e8",
       "version_major": 2,
       "version_minor": 0
      },
      "text/plain": "DIS: Forecast stage:   0%|          | 0/50 [00:00<?, ?it/s]"
     },
     "metadata": {},
     "output_type": "display_data"
    },
    {
     "name": "stdout",
     "output_type": "stream",
     "text": [
      "DIS: Test error: 1.3e+02%\n"
     ]
    }
   ],
   "source": [
    "us_prices = {\n",
    "    \"path\": \"../Data/American Companies\",\n",
    "    \"country\": \"US\",\n",
    "    \"prices_not_returns\": True,\n",
    "    \"test_size\": -50\n",
    "}\n",
    "us_returns = {\n",
    "    \"path\": \"../Data/American Companies\",\n",
    "    \"country\": \"US\",\n",
    "    \"prices_not_returns\": False,\n",
    "    \"test_size\": -50\n",
    "}\n",
    "\n",
    "result_us_prices = get_wapes(**us_prices)\n",
    "result_us_returns = get_wapes(**us_returns)\n",
    "\n",
    "us_result_df = pd.DataFrame({\n",
    "    \"Company\": result_us_prices.keys(),\n",
    "    \"WAPE (price)\": result_us_prices.values(),\n",
    "    \"WAPE (return)\": result_us_returns.values()\n",
    "})\n",
    "\n",
    "us_result_df.to_csv(\"ssa_us.csv\", index= False)"
   ],
   "metadata": {
    "collapsed": false
   }
  },
  {
   "cell_type": "code",
   "execution_count": 9,
   "outputs": [
    {
     "data": {
      "application/vnd.jupyter.widget-view+json": {
       "model_id": "a3cd091ce62b44d98f59f02b8e3bdedf",
       "version_major": 2,
       "version_minor": 0
      },
      "text/plain": "CH company:   0%|          | 0/15 [00:00<?, ?it/s]"
     },
     "metadata": {},
     "output_type": "display_data"
    },
    {
     "data": {
      "application/vnd.jupyter.widget-view+json": {
       "model_id": "c2146477cffa4724abae34906c79cf7d",
       "version_major": 2,
       "version_minor": 0
      },
      "text/plain": "China Shenhua: Forecast stage:   0%|          | 0/50 [00:00<?, ?it/s]"
     },
     "metadata": {},
     "output_type": "display_data"
    },
    {
     "name": "stdout",
     "output_type": "stream",
     "text": [
      "China Shenhua: Test error: 2.1%\n"
     ]
    },
    {
     "data": {
      "application/vnd.jupyter.widget-view+json": {
       "model_id": "93d73cb663e540ae8b6c56040d4a1b99",
       "version_major": 2,
       "version_minor": 0
      },
      "text/plain": "China Pacific Insurance: Forecast stage:   0%|          | 0/50 [00:00<?, ?it/s]"
     },
     "metadata": {},
     "output_type": "display_data"
    },
    {
     "name": "stdout",
     "output_type": "stream",
     "text": [
      "China Pacific Insurance: Test error: 2.2%\n"
     ]
    },
    {
     "data": {
      "application/vnd.jupyter.widget-view+json": {
       "model_id": "c8e8f57e3c7c4f19a8a4850cb7a89d6f",
       "version_major": 2,
       "version_minor": 0
      },
      "text/plain": "Anhui Coonch Cement: Forecast stage:   0%|          | 0/50 [00:00<?, ?it/s]"
     },
     "metadata": {},
     "output_type": "display_data"
    },
    {
     "name": "stdout",
     "output_type": "stream",
     "text": [
      "Anhui Coonch Cement: Test error: 1.9%\n"
     ]
    },
    {
     "data": {
      "application/vnd.jupyter.widget-view+json": {
       "model_id": "20d4e904359f43cea04092025206cd4c",
       "version_major": 2,
       "version_minor": 0
      },
      "text/plain": "SAIC Motor: Forecast stage:   0%|          | 0/50 [00:00<?, ?it/s]"
     },
     "metadata": {},
     "output_type": "display_data"
    },
    {
     "name": "stdout",
     "output_type": "stream",
     "text": [
      "SAIC Motor: Test error: 1.6%\n"
     ]
    },
    {
     "data": {
      "application/vnd.jupyter.widget-view+json": {
       "model_id": "73825257ac584fbc8ec9b6f81365e814",
       "version_major": 2,
       "version_minor": 0
      },
      "text/plain": "Ping An: Forecast stage:   0%|          | 0/50 [00:00<?, ?it/s]"
     },
     "metadata": {},
     "output_type": "display_data"
    },
    {
     "name": "stdout",
     "output_type": "stream",
     "text": [
      "Ping An: Test error: 2.4%\n"
     ]
    },
    {
     "data": {
      "application/vnd.jupyter.widget-view+json": {
       "model_id": "53eb351c81e94275b28af23c7347b048",
       "version_major": 2,
       "version_minor": 0
      },
      "text/plain": "Agricultural Bank of China: Forecast stage:   0%|          | 0/50 [00:00<?, ?it/s]"
     },
     "metadata": {},
     "output_type": "display_data"
    },
    {
     "name": "stdout",
     "output_type": "stream",
     "text": [
      "Agricultural Bank of China: Test error: 0.73%\n"
     ]
    },
    {
     "data": {
      "application/vnd.jupyter.widget-view+json": {
       "model_id": "45f26784b5174d49a9d888cda8eddd7a",
       "version_major": 2,
       "version_minor": 0
      },
      "text/plain": "Wanhua Chemical Group: Forecast stage:   0%|          | 0/50 [00:00<?, ?it/s]"
     },
     "metadata": {},
     "output_type": "display_data"
    },
    {
     "name": "stdout",
     "output_type": "stream",
     "text": [
      "Wanhua Chemical Group: Test error: 2.2%\n"
     ]
    },
    {
     "data": {
      "application/vnd.jupyter.widget-view+json": {
       "model_id": "d5bd0c67b5f74215b9bbe07160072e15",
       "version_major": 2,
       "version_minor": 0
      },
      "text/plain": "China Life Insurance Company Limited: Forecast stage:   0%|          | 0/50 [00:00<?, ?it/s]"
     },
     "metadata": {},
     "output_type": "display_data"
    },
    {
     "name": "stdout",
     "output_type": "stream",
     "text": [
      "China Life Insurance Company Limited: Test error: 2.5%\n"
     ]
    },
    {
     "data": {
      "application/vnd.jupyter.widget-view+json": {
       "model_id": "01cd1042f9c241a1b9146c3de3057ed1",
       "version_major": 2,
       "version_minor": 0
      },
      "text/plain": "Sinopec: Forecast stage:   0%|          | 0/50 [00:00<?, ?it/s]"
     },
     "metadata": {},
     "output_type": "display_data"
    },
    {
     "name": "stdout",
     "output_type": "stream",
     "text": [
      "Sinopec: Test error: 2.0%\n"
     ]
    },
    {
     "data": {
      "application/vnd.jupyter.widget-view+json": {
       "model_id": "d2de0fa8dd4748eeaa664eb827befa09",
       "version_major": 2,
       "version_minor": 0
      },
      "text/plain": "China Duty Free Group: Forecast stage:   0%|          | 0/50 [00:00<?, ?it/s]"
     },
     "metadata": {},
     "output_type": "display_data"
    },
    {
     "name": "stdout",
     "output_type": "stream",
     "text": [
      "China Duty Free Group: Test error: 3.0%\n"
     ]
    },
    {
     "data": {
      "application/vnd.jupyter.widget-view+json": {
       "model_id": "349da925fa1f47878fc6e2c53a6ba228",
       "version_major": 2,
       "version_minor": 0
      },
      "text/plain": "Kweichow Moutai: Forecast stage:   0%|          | 0/50 [00:00<?, ?it/s]"
     },
     "metadata": {},
     "output_type": "display_data"
    },
    {
     "name": "stdout",
     "output_type": "stream",
     "text": [
      "Kweichow Moutai: Test error: 1.5%\n"
     ]
    },
    {
     "data": {
      "application/vnd.jupyter.widget-view+json": {
       "model_id": "25db398f93cb481e9d2b71b8997714a4",
       "version_major": 2,
       "version_minor": 0
      },
      "text/plain": "Hengrui Medicine: Forecast stage:   0%|          | 0/50 [00:00<?, ?it/s]"
     },
     "metadata": {},
     "output_type": "display_data"
    },
    {
     "name": "stdout",
     "output_type": "stream",
     "text": [
      "Hengrui Medicine: Test error: 2.5%\n"
     ]
    },
    {
     "data": {
      "application/vnd.jupyter.widget-view+json": {
       "model_id": "000cb58b48b64375aa3a664718bb5549",
       "version_major": 2,
       "version_minor": 0
      },
      "text/plain": "CITIC Securities: Forecast stage:   0%|          | 0/50 [00:00<?, ?it/s]"
     },
     "metadata": {},
     "output_type": "display_data"
    },
    {
     "name": "stdout",
     "output_type": "stream",
     "text": [
      "CITIC Securities: Test error: 1.8%\n"
     ]
    },
    {
     "data": {
      "application/vnd.jupyter.widget-view+json": {
       "model_id": "816ef580714e4e40b2eee7e6ee02d3e7",
       "version_major": 2,
       "version_minor": 0
      },
      "text/plain": "PetroChina: Forecast stage:   0%|          | 0/50 [00:00<?, ?it/s]"
     },
     "metadata": {},
     "output_type": "display_data"
    },
    {
     "name": "stdout",
     "output_type": "stream",
     "text": [
      "PetroChina: Test error: 1.6%\n"
     ]
    },
    {
     "data": {
      "application/vnd.jupyter.widget-view+json": {
       "model_id": "6eda9597714444a9947b9dbbcc10c558",
       "version_major": 2,
       "version_minor": 0
      },
      "text/plain": "China Merchants Bank: Forecast stage:   0%|          | 0/50 [00:00<?, ?it/s]"
     },
     "metadata": {},
     "output_type": "display_data"
    },
    {
     "name": "stdout",
     "output_type": "stream",
     "text": [
      "China Merchants Bank: Test error: 2.8%\n"
     ]
    },
    {
     "data": {
      "application/vnd.jupyter.widget-view+json": {
       "model_id": "7f283a23b8b1421f82eef5ef8b140771",
       "version_major": 2,
       "version_minor": 0
      },
      "text/plain": "CH company:   0%|          | 0/15 [00:00<?, ?it/s]"
     },
     "metadata": {},
     "output_type": "display_data"
    },
    {
     "data": {
      "application/vnd.jupyter.widget-view+json": {
       "model_id": "e88e3f7b55d94a26854421f423e5e740",
       "version_major": 2,
       "version_minor": 0
      },
      "text/plain": "China Shenhua: Forecast stage:   0%|          | 0/50 [00:00<?, ?it/s]"
     },
     "metadata": {},
     "output_type": "display_data"
    },
    {
     "name": "stdout",
     "output_type": "stream",
     "text": [
      "China Shenhua: Test error: 1.3e+02%\n"
     ]
    },
    {
     "data": {
      "application/vnd.jupyter.widget-view+json": {
       "model_id": "0734d36bd61a41bfa7aef61a3bf2e95a",
       "version_major": 2,
       "version_minor": 0
      },
      "text/plain": "China Pacific Insurance: Forecast stage:   0%|          | 0/50 [00:00<?, ?it/s]"
     },
     "metadata": {},
     "output_type": "display_data"
    },
    {
     "name": "stdout",
     "output_type": "stream",
     "text": [
      "China Pacific Insurance: Test error: 1e+02%\n"
     ]
    },
    {
     "data": {
      "application/vnd.jupyter.widget-view+json": {
       "model_id": "8b3a21512cd940929db5d028141f0072",
       "version_major": 2,
       "version_minor": 0
      },
      "text/plain": "Anhui Coonch Cement: Forecast stage:   0%|          | 0/50 [00:00<?, ?it/s]"
     },
     "metadata": {},
     "output_type": "display_data"
    },
    {
     "name": "stdout",
     "output_type": "stream",
     "text": [
      "Anhui Coonch Cement: Test error: 1.4e+02%\n"
     ]
    },
    {
     "data": {
      "application/vnd.jupyter.widget-view+json": {
       "model_id": "a8f3a2223516403cb6811444042c712c",
       "version_major": 2,
       "version_minor": 0
      },
      "text/plain": "SAIC Motor: Forecast stage:   0%|          | 0/50 [00:00<?, ?it/s]"
     },
     "metadata": {},
     "output_type": "display_data"
    },
    {
     "name": "stdout",
     "output_type": "stream",
     "text": [
      "SAIC Motor: Test error: 1.1e+02%\n"
     ]
    },
    {
     "data": {
      "application/vnd.jupyter.widget-view+json": {
       "model_id": "160ae0b2cbd84c99b72b8f8a466c26a0",
       "version_major": 2,
       "version_minor": 0
      },
      "text/plain": "Ping An: Forecast stage:   0%|          | 0/50 [00:00<?, ?it/s]"
     },
     "metadata": {},
     "output_type": "display_data"
    },
    {
     "name": "stdout",
     "output_type": "stream",
     "text": [
      "Ping An: Test error: 9.5e+01%\n"
     ]
    },
    {
     "data": {
      "application/vnd.jupyter.widget-view+json": {
       "model_id": "d47c1553f05b4023b25bab1309ec5a37",
       "version_major": 2,
       "version_minor": 0
      },
      "text/plain": "Agricultural Bank of China: Forecast stage:   0%|          | 0/50 [00:00<?, ?it/s]"
     },
     "metadata": {},
     "output_type": "display_data"
    },
    {
     "name": "stdout",
     "output_type": "stream",
     "text": [
      "Agricultural Bank of China: Test error: 1.3e+02%\n"
     ]
    },
    {
     "data": {
      "application/vnd.jupyter.widget-view+json": {
       "model_id": "9f85f245008b4d058ca5e31006346eb0",
       "version_major": 2,
       "version_minor": 0
      },
      "text/plain": "Wanhua Chemical Group: Forecast stage:   0%|          | 0/50 [00:00<?, ?it/s]"
     },
     "metadata": {},
     "output_type": "display_data"
    },
    {
     "name": "stdout",
     "output_type": "stream",
     "text": [
      "Wanhua Chemical Group: Test error: 1.2e+02%\n"
     ]
    },
    {
     "data": {
      "application/vnd.jupyter.widget-view+json": {
       "model_id": "439062e6085f4e41ba3c1a368af7d2d8",
       "version_major": 2,
       "version_minor": 0
      },
      "text/plain": "China Life Insurance Company Limited: Forecast stage:   0%|          | 0/50 [00:00<?, ?it/s]"
     },
     "metadata": {},
     "output_type": "display_data"
    },
    {
     "name": "stdout",
     "output_type": "stream",
     "text": [
      "China Life Insurance Company Limited: Test error: 1.1e+02%\n"
     ]
    },
    {
     "data": {
      "application/vnd.jupyter.widget-view+json": {
       "model_id": "20e5aba9764a4740a35d481cfd86be7b",
       "version_major": 2,
       "version_minor": 0
      },
      "text/plain": "Sinopec: Forecast stage:   0%|          | 0/50 [00:00<?, ?it/s]"
     },
     "metadata": {},
     "output_type": "display_data"
    },
    {
     "name": "stdout",
     "output_type": "stream",
     "text": [
      "Sinopec: Test error: 1.1e+02%\n"
     ]
    },
    {
     "data": {
      "application/vnd.jupyter.widget-view+json": {
       "model_id": "8a584d5eb3e1463e937eeb2b115509eb",
       "version_major": 2,
       "version_minor": 0
      },
      "text/plain": "China Duty Free Group: Forecast stage:   0%|          | 0/50 [00:00<?, ?it/s]"
     },
     "metadata": {},
     "output_type": "display_data"
    },
    {
     "name": "stdout",
     "output_type": "stream",
     "text": [
      "China Duty Free Group: Test error: 1.2e+02%\n"
     ]
    },
    {
     "data": {
      "application/vnd.jupyter.widget-view+json": {
       "model_id": "6eddff74f9ca4b86a9e91347e1d27fdd",
       "version_major": 2,
       "version_minor": 0
      },
      "text/plain": "Kweichow Moutai: Forecast stage:   0%|          | 0/50 [00:00<?, ?it/s]"
     },
     "metadata": {},
     "output_type": "display_data"
    },
    {
     "name": "stdout",
     "output_type": "stream",
     "text": [
      "Kweichow Moutai: Test error: 1.4e+02%\n"
     ]
    },
    {
     "data": {
      "application/vnd.jupyter.widget-view+json": {
       "model_id": "52953542896349fca5c8cab270af6f95",
       "version_major": 2,
       "version_minor": 0
      },
      "text/plain": "Hengrui Medicine: Forecast stage:   0%|          | 0/50 [00:00<?, ?it/s]"
     },
     "metadata": {},
     "output_type": "display_data"
    },
    {
     "name": "stdout",
     "output_type": "stream",
     "text": [
      "Hengrui Medicine: Test error: 1.3e+02%\n"
     ]
    },
    {
     "data": {
      "application/vnd.jupyter.widget-view+json": {
       "model_id": "8b4a3fc10fa444a7a0f9ceebe8a647c6",
       "version_major": 2,
       "version_minor": 0
      },
      "text/plain": "CITIC Securities: Forecast stage:   0%|          | 0/50 [00:00<?, ?it/s]"
     },
     "metadata": {},
     "output_type": "display_data"
    },
    {
     "name": "stdout",
     "output_type": "stream",
     "text": [
      "CITIC Securities: Test error: 1.1e+02%\n"
     ]
    },
    {
     "data": {
      "application/vnd.jupyter.widget-view+json": {
       "model_id": "6f165c128fd9481a92e6b6c7421d8d5e",
       "version_major": 2,
       "version_minor": 0
      },
      "text/plain": "PetroChina: Forecast stage:   0%|          | 0/50 [00:00<?, ?it/s]"
     },
     "metadata": {},
     "output_type": "display_data"
    },
    {
     "name": "stdout",
     "output_type": "stream",
     "text": [
      "PetroChina: Test error: 1.5e+02%\n"
     ]
    },
    {
     "data": {
      "application/vnd.jupyter.widget-view+json": {
       "model_id": "d9d66f692a434ef6b7aa699c0d458c99",
       "version_major": 2,
       "version_minor": 0
      },
      "text/plain": "China Merchants Bank: Forecast stage:   0%|          | 0/50 [00:00<?, ?it/s]"
     },
     "metadata": {},
     "output_type": "display_data"
    },
    {
     "name": "stdout",
     "output_type": "stream",
     "text": [
      "China Merchants Bank: Test error: 1.1e+02%\n"
     ]
    }
   ],
   "source": [
    "ch_prices = {\n",
    "    \"path\": \"../Data/Chinese Companies\",\n",
    "    \"country\": \"CH\",\n",
    "    \"prices_not_returns\": True,\n",
    "    \"test_size\": -50\n",
    "}\n",
    "\n",
    "ch_returns = {\n",
    "    \"path\": \"../Data/Chinese Companies\",\n",
    "    \"country\": \"CH\",\n",
    "    \"prices_not_returns\": False,\n",
    "    \"test_size\": -50\n",
    "}\n",
    "\n",
    "result_ch_prices = get_wapes(**ch_prices)\n",
    "result_ch_returns = get_wapes(**ch_returns)\n",
    "\n",
    "ch_result_df = pd.DataFrame({\n",
    "    \"Company\": result_ch_prices.keys(),\n",
    "    \"WAPE (price)\": result_ch_prices.values(),\n",
    "    \"WAPE (return)\": result_ch_returns.values()\n",
    "})\n",
    "\n",
    "ch_result_df.to_csv(\"ssa_ch.csv\", index= False)"
   ],
   "metadata": {
    "collapsed": false
   }
  },
  {
   "cell_type": "code",
   "execution_count": null,
   "outputs": [],
   "source": [],
   "metadata": {
    "collapsed": false
   }
  }
 ],
 "metadata": {
  "kernelspec": {
   "display_name": "Python 3.10 (XPython)",
   "language": "python",
   "name": "xpython"
  },
  "language_info": {
   "codemirror_mode": {
    "name": "ipython",
    "version": 2
   },
   "file_extension": ".py",
   "mimetype": "text/x-python",
   "name": "python",
   "nbconvert_exporter": "python",
   "pygments_lexer": "ipython2",
   "version": "2.7.6"
  }
 },
 "nbformat": 4,
 "nbformat_minor": 0
}
