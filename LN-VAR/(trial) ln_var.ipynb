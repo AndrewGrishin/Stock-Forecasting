{
 "cells": [
  {
   "cell_type": "code",
   "execution_count": 1,
   "metadata": {
    "collapsed": true
   },
   "outputs": [],
   "source": [
    "import torch\n",
    "from torch import nn, optim\n",
    "import numpy as np\n",
    "import pandas as pd\n",
    "from sklearn.model_selection import train_test_split\n",
    "from tqdm.notebook import tqdm\n",
    "import os\n",
    "from sklearn.preprocessing import StandardScaler, MinMaxScaler\n",
    "\n",
    "# воспроизводимость\n",
    "torch.manual_seed(42)\n",
    "torch.backends.cudnn.deterministic = True\n",
    "np.random.seed(42)\n",
    "import random\n",
    "random.seed(42)\n",
    "torch.backends.cudnn.benchmark = False\n",
    "torch.backends.cudnn.enabled = False"
   ]
  },
  {
   "cell_type": "code",
   "execution_count": 2,
   "metadata": {
    "collapsed": false
   },
   "outputs": [],
   "source": [
    "path = \"../Data/American Companies/\"\n",
    "entries = os.listdir(path)\n",
    "entries.remove(\".DS_Store\")"
   ]
  },
  {
   "cell_type": "code",
   "execution_count": 3,
   "metadata": {
    "collapsed": false
   },
   "outputs": [],
   "source": [
    "df = pd.read_csv(path + entries[1]).dropna()\n",
    "data = df.drop([\"Date\", \"Volume\"], axis= 1)\n",
    "x = data.to_numpy()"
   ]
  },
  {
   "cell_type": "code",
   "execution_count": 4,
   "metadata": {
    "collapsed": false
   },
   "outputs": [],
   "source": [
    "scaler = MinMaxScaler()\n",
    "scaler.fit(x)\n",
    "x_tr = scaler.transform(x)"
   ]
  },
  {
   "cell_type": "code",
   "execution_count": 5,
   "metadata": {
    "collapsed": false
   },
   "outputs": [],
   "source": [
    "X_train, X_test = train_test_split(x_tr, test_size= 0.15, shuffle= False)\n",
    "X_train, X_val = train_test_split(X_train, test_size= 0.15, shuffle= False)"
   ]
  },
  {
   "cell_type": "code",
   "execution_count": 6,
   "metadata": {
    "collapsed": false
   },
   "outputs": [],
   "source": [
    "def series_to_X_y(series, k):\n",
    "    X = []\n",
    "    y = []\n",
    "\n",
    "    for i in range(len(series) - k):\n",
    "        row = [series[i + l, :] for l in range(k)]\n",
    "        row = row[::-1]\n",
    "        column = series[i + k, :]\n",
    "\n",
    "        X.append(row)\n",
    "        y.append(column)\n",
    "    X = np.asarray(X, dtype= np.float32)\n",
    "    y = np.asarray(y, dtype= np.float32)\n",
    "    return torch.from_numpy(X), torch.from_numpy(y)"
   ]
  },
  {
   "cell_type": "code",
   "execution_count": 7,
   "metadata": {
    "collapsed": false
   },
   "outputs": [
    {
     "data": {
      "text/plain": [
       "(torch.Size([6682, 11, 5]),\n",
       " torch.Size([6682, 5]),\n",
       " torch.Size([1171, 11, 5]),\n",
       " torch.Size([1171, 5]),\n",
       " torch.Size([1379, 11, 5]),\n",
       " torch.Size([1379, 5]))"
      ]
     },
     "execution_count": 7,
     "metadata": {},
     "output_type": "execute_result"
    }
   ],
   "source": [
    "lag_size = 11\n",
    "X_train, y_train = series_to_X_y(X_train, lag_size)\n",
    "X_val, y_val = series_to_X_y(X_val, lag_size)\n",
    "X_test, y_test = series_to_X_y(X_test, lag_size)\n",
    "\n",
    "X_train.shape, y_train.shape, X_val.shape, y_val.shape, X_test.shape, y_test.shape"
   ]
  },
  {
   "cell_type": "code",
   "execution_count": 8,
   "metadata": {
    "collapsed": false
   },
   "outputs": [],
   "source": [
    "class TimeSeriesDataset(torch.utils.data.Dataset):\n",
    "    def __init__(self, X, y):\n",
    "        super().__init__()\n",
    "        self.X = X\n",
    "        self.y = y\n",
    "\n",
    "    def __len__(self):\n",
    "        return len(self.y)\n",
    "\n",
    "    def __getitem__(self, item):\n",
    "        return self.X[item], self.y[item]"
   ]
  },
  {
   "cell_type": "code",
   "execution_count": 9,
   "metadata": {
    "collapsed": false
   },
   "outputs": [],
   "source": [
    "train_dataset = TimeSeriesDataset(X_train, y_train)\n",
    "val_dataset = TimeSeriesDataset(X_val, y_val)\n",
    "test_dataset = TimeSeriesDataset(X_test, y_test)"
   ]
  },
  {
   "cell_type": "code",
   "execution_count": 10,
   "metadata": {
    "collapsed": false
   },
   "outputs": [],
   "source": [
    "barch_size = 256\n",
    "features = X_train.shape[-1]\n",
    "hidden_size = int(0.7 * features) + 2\n",
    "num_layers = 1\n",
    "\n",
    "train_loader = torch.utils.data.DataLoader(train_dataset, batch_size= barch_size, shuffle= False)\n",
    "val_loader = torch.utils.data.DataLoader(val_dataset, batch_size= barch_size, shuffle= False)\n",
    "test_loader = torch.utils.data.DataLoader(test_dataset, batch_size= barch_size, shuffle= False)"
   ]
  },
  {
   "cell_type": "code",
   "execution_count": 11,
   "metadata": {
    "collapsed": false
   },
   "outputs": [],
   "source": [
    "class TimeSeriesModel(nn.Module):\n",
    "    def __init__(self, features, hidden_size, num_layers):\n",
    "        super().__init__()\n",
    "        self.features = features\n",
    "        self.hidden_size = hidden_size\n",
    "        self.num_layers = num_layers\n",
    "\n",
    "        self.recurrent_block = nn.GRU(\n",
    "            input_size= self.features,\n",
    "            hidden_size= self.hidden_size,\n",
    "            num_layers= self.num_layers,\n",
    "            batch_first= True)\n",
    "\n",
    "        self.fc = nn.Sequential(\n",
    "            nn.ReLU(),\n",
    "            nn.Linear(self.hidden_size, self.features))\n",
    "\n",
    "    def forward(self, X):\n",
    "        output, _ = self.recurrent_block(X)\n",
    "        answer = self.fc(output[:, -1, :])\n",
    "        return answer"
   ]
  },
  {
   "cell_type": "code",
   "execution_count": 12,
   "metadata": {
    "collapsed": false
   },
   "outputs": [],
   "source": [
    "device = \"cpu\" #\"cuda\" if torch.cuda.is_available() else \"cpu\"\n",
    "epochs = 3000\n",
    "\n",
    "params = {\n",
    "    \"features\": features,\n",
    "    \"hidden_size\": hidden_size,\n",
    "    \"num_layers\": num_layers}\n",
    "\n",
    "model = TimeSeriesModel(**params)\n",
    "criterion = nn.MSELoss()\n",
    "optimizer = optim.AdamW(model.parameters(), lr= 3e-4, amsgrad= False)"
   ]
  },
  {
   "cell_type": "code",
   "execution_count": null,
   "metadata": {
    "collapsed": false,
    "pycharm": {
     "is_executing": true
    }
   },
   "outputs": [
    {
     "data": {
      "application/vnd.jupyter.widget-view+json": {
       "model_id": "befae446c71245b5a53b40d73b35acd9",
       "version_major": 2,
       "version_minor": 0
      },
      "text/plain": [
       "Epoch:   0%|          | 0/3000 [00:00<?, ?it/s]"
      ]
     },
     "metadata": {},
     "output_type": "display_data"
    }
   ],
   "source": [
    "model = model.to(device)\n",
    "best_val_loss = torch.inf\n",
    "\n",
    "pbar = tqdm(range(epochs), desc= \"Epoch\")\n",
    "for epoch in pbar:\n",
    "    model.train()\n",
    "    for ind, (X_train_bt, y_train_bt) in enumerate(train_loader):\n",
    "        X_train_bt = X_train_bt.to(device)\n",
    "        y_train_bt = y_train_bt.to(device)\n",
    "\n",
    "        def closure():\n",
    "            optimizer.zero_grad()\n",
    "            train_preds = model(X_train_bt)\n",
    "            train_loss = criterion(train_preds, y_train_bt) ** 0.5\n",
    "            train_loss.backward()\n",
    "            return train_loss\n",
    "\n",
    "        optimizer.step(closure)\n",
    "\n",
    "    val_prediction_full = None\n",
    "    val_y_full = None\n",
    "\n",
    "    model.eval()\n",
    "    with torch.inference_mode():\n",
    "        for ind, (X_val_bt, y_val_bt) in enumerate(val_loader):\n",
    "            X_val_bt = X_val_bt.to(device)\n",
    "            y_val_bt = y_val_bt.to(device)\n",
    "\n",
    "            val_preds = model(X_val_bt)\n",
    "\n",
    "            if val_prediction_full is None:\n",
    "                val_prediction_full = val_preds.detach().cpu().numpy()\n",
    "                val_y_full = y_val_bt.detach().cpu().numpy()\n",
    "            else:\n",
    "                val_prediction_full = np.concatenate([val_prediction_full, val_preds.detach().cpu().numpy()], axis= 0)\n",
    "                val_y_full = np.concatenate([val_y_full, y_val_bt.detach().cpu().numpy()], axis= 0)\n",
    "\n",
    "    val_prediction_full = torch.from_numpy(val_prediction_full)\n",
    "    val_y_full = torch.from_numpy(val_y_full)\n",
    "\n",
    "    avg_val_loss = criterion(val_prediction_full, val_y_full) ** 0.5\n",
    "\n",
    "    if avg_val_loss < best_val_loss:\n",
    "        best_val_loss = avg_val_loss\n",
    "        torch.save(model.state_dict(), \"best_model.pt\")\n",
    "\n",
    "    pbar.set_description(f\"Epoch: {epoch + 1}/{epochs} Val: {avg_val_loss:.5f} Best val: {best_val_loss:.5f}\")\n"
   ]
  },
  {
   "cell_type": "code",
   "execution_count": null,
   "metadata": {
    "collapsed": false,
    "pycharm": {
     "is_executing": true
    }
   },
   "outputs": [],
   "source": [
    "model = TimeSeriesModel(**params)\n",
    "model.load_state_dict(torch.load(\"best_model.pt\"))"
   ]
  },
  {
   "cell_type": "code",
   "execution_count": null,
   "metadata": {
    "collapsed": false,
    "pycharm": {
     "is_executing": true
    }
   },
   "outputs": [],
   "source": [
    "test_prediction_full = None\n",
    "test_y_full = None\n",
    "\n",
    "model.eval()\n",
    "with torch.inference_mode():\n",
    "    test_pbar = tqdm(enumerate(test_loader), desc= \"Test batch\", total= len(test_loader))\n",
    "    for ind, (X_test_bt, y_test_bt) in test_pbar:\n",
    "        X_test_bt = X_test_bt.to(device)\n",
    "        y_test_bt = y_test_bt.to(device)\n",
    "\n",
    "        test_preds = model(X_test_bt)\n",
    "\n",
    "        if test_prediction_full is None:\n",
    "            test_prediction_full = test_preds.detach().cpu().numpy()\n",
    "            test_y_full = y_test_bt.detach().cpu().numpy()\n",
    "        else:\n",
    "            test_prediction_full = np.concatenate([test_prediction_full, test_preds.detach().cpu().numpy()], axis= 0)\n",
    "            test_y_full = np.concatenate([test_y_full, y_test_bt.detach().cpu().numpy()], axis= 0)"
   ]
  },
  {
   "cell_type": "code",
   "execution_count": null,
   "metadata": {
    "collapsed": false,
    "pycharm": {
     "is_executing": true
    }
   },
   "outputs": [],
   "source": [
    "def wape(y_hat, y):\n",
    "    return np.sum(np.abs(y - y_hat), axis= 0) / np.sum(np.abs(y), axis= 0) * 100\n",
    "\n",
    "wape_error = wape(test_prediction_full, test_y_full)\n",
    "print(f\"Test WAPE error: {wape_error}%\")"
   ]
  },
  {
   "cell_type": "code",
   "execution_count": null,
   "metadata": {
    "collapsed": false,
    "pycharm": {
     "is_executing": true
    }
   },
   "outputs": [],
   "source": [
    "data.columns"
   ]
  },
  {
   "cell_type": "code",
   "execution_count": null,
   "metadata": {
    "collapsed": false,
    "pycharm": {
     "is_executing": true
    }
   },
   "outputs": [],
   "source": []
  }
 ],
 "metadata": {
  "kernelspec": {
   "display_name": "Python 3.10 (XPython)",
   "language": "python",
   "name": "xpython"
  },
  "language_info": {
   "codemirror_mode": {
    "name": "ipython",
    "version": 2
   },
   "file_extension": ".py",
   "mimetype": "text/x-python",
   "name": "python",
   "nbconvert_exporter": "python",
   "pygments_lexer": "ipython2",
   "version": "2.7.6"
  }
 },
 "nbformat": 4,
 "nbformat_minor": 0
}
