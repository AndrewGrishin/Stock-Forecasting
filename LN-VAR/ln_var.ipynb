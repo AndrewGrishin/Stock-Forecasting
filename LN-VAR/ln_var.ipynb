{
 "cells": [
  {
   "cell_type": "code",
   "execution_count": 1,
   "metadata": {
    "collapsed": true
   },
   "outputs": [],
   "source": [
    "import torch\n",
    "from torch import nn, optim\n",
    "from sklearn.preprocessing import StandardScaler\n",
    "\n",
    "import os\n",
    "import pandas as pd\n",
    "from sklearn.model_selection import train_test_split\n",
    "from tqdm.notebook import tqdm\n",
    "import numpy as np\n",
    "\n",
    "# воспроизводимость\n",
    "torch.manual_seed(42)\n",
    "torch.backends.cudnn.deterministic = True\n",
    "np.random.seed(42)\n",
    "import random\n",
    "random.seed(42)\n",
    "torch.backends.cudnn.benchmark = False\n",
    "torch.backends.cudnn.enabled = False"
   ]
  },
  {
   "cell_type": "code",
   "execution_count": 2,
   "metadata": {
    "collapsed": false
   },
   "outputs": [],
   "source": [
    "def wape(y, y_hat):\n",
    "    return np.sum(np.abs(y - y_hat)) / np.sum(np.abs(y)) * 100"
   ]
  },
  {
   "cell_type": "code",
   "execution_count": 3,
   "metadata": {
    "collapsed": false
   },
   "outputs": [],
   "source": [
    "class TimeSeriesDataSet(torch.utils.data.Dataset):\n",
    "    def __init__(self, init_data, window_size= 30):\n",
    "        self.initial_data = init_data\n",
    "        self.window_size = window_size\n",
    "\n",
    "        self.transformed_data = []\n",
    "\n",
    "        self.data_to_X_y()\n",
    "\n",
    "    def data_to_X_y(self):\n",
    "\n",
    "        for i in range(len(self.initial_data) - self.window_size):\n",
    "            row = torch.from_numpy(np.array(self.initial_data[i:i + self.window_size, :], dtype= np.float32).T)\n",
    "            column = torch.from_numpy(np.array(self.initial_data[i + self.window_size], dtype= np.float32).reshape(-1, 1))\n",
    "            self.transformed_data.append([row, column])\n",
    "\n",
    "    def __len__(self):\n",
    "        return len(self.transformed_data)\n",
    "\n",
    "    def __getitem__(self, item):\n",
    "        return self.transformed_data[item][0], self.transformed_data[item][1]\n",
    "\n",
    "class LN_VAR(nn.Module):\n",
    "    def __init__(self, first_part, second_part, use_dropout= False, device= \"cuda\"):\n",
    "        super().__init__()\n",
    "        self.lags_val = first_part[0]\n",
    "        self.in_features = first_part[1]\n",
    "\n",
    "        self.feature_to_number = nn.Parameter(torch.randn(self.in_features, self.lags_val), requires_grad= True).to(device)\n",
    "        self.act = nn.LeakyReLU().to(device)\n",
    "\n",
    "        layers = []\n",
    "        for i in range(1, len(second_part)):\n",
    "            layers.append(nn.Linear(second_part[i - 1], second_part[i]))\n",
    "            layers.append(self.act)\n",
    "            layers.append(nn.Dropout(0.2))\n",
    "\n",
    "        self.fc = nn.Sequential(*layers[:(-2 if use_dropout else -1)]).to(device)\n",
    "\n",
    "    def forward(self, X):\n",
    "        X = torch.sum(X * self.feature_to_number, dim= 1)\n",
    "\n",
    "        return torch.unsqueeze(self.fc(X), dim= 1)"
   ]
  },
  {
   "cell_type": "code",
   "execution_count": 4,
   "metadata": {
    "collapsed": false
   },
   "outputs": [],
   "source": [
    "def train(model, criterion, optimizer, epochs, train_data, device= \"cuda\"):\n",
    "\n",
    "    best_eval_loss = torch.inf\n",
    "\n",
    "    train_loader = train_data[\"train\"]\n",
    "    val_loader = train_data[\"val\"]\n",
    "\n",
    "    epochs_bar = tqdm(range(epochs), desc= \"Epoch\")\n",
    "    for epoch in epochs_bar:\n",
    "        model.train()\n",
    "        for ind in range(len(train_loader)):\n",
    "            X_train_bt, y_train_bt = train_loader[ind]\n",
    "            def closure():\n",
    "                optimizer.zero_grad()\n",
    "\n",
    "                train_preds = model(X_train_bt.to(device))\n",
    "                train_loss = criterion(train_preds, y_train_bt.to(device))\n",
    "\n",
    "                model.train()\n",
    "                train_loss.backward()\n",
    "                return train_loss\n",
    "\n",
    "            optimizer.step(closure)\n",
    "\n",
    "        avg_val_loss = 0\n",
    "\n",
    "        model.eval()\n",
    "        with torch.inference_mode():\n",
    "            for ind in range(len(val_loader)):\n",
    "                X_val_bt, y_val_bt = val_loader[ind]\n",
    "                val_preds = model(X_val_bt.to(device))\n",
    "                val_loss = criterion(val_preds, y_val_bt.to(device))\n",
    "                # ingroup\n",
    "                avg_val_loss += val_loss.item()\n",
    "\n",
    "        # over group\n",
    "        avg_val_loss /= len(val_loader)\n",
    "\n",
    "        if avg_val_loss < best_eval_loss:\n",
    "            best_eval_loss = avg_val_loss\n",
    "            torch.save(model.state_dict(), \"best_model.pt\")\n",
    "\n",
    "        epochs_bar.set_description(f\"Epoch: {epoch + 1}/{epochs} Val loss: {avg_val_loss:.5f}. Best loss: {best_eval_loss:.5f}\")\n",
    "\n",
    "def eval(model, test_loader, metric, device= \"cuda\"):\n",
    "    model = model.to(device)\n",
    "\n",
    "    answer = []\n",
    "    y = []\n",
    "\n",
    "    model.eval()\n",
    "    with torch.inference_mode():\n",
    "        test_pbar = tqdm(range(len(test_loader)), desc= \"Batch\", total= len(test_loader), disable= True)\n",
    "        for ind in test_pbar:\n",
    "            test_pbar.set_description(f\"Test: {ind + 1}/{len(test_loader)}\")\n",
    "            X_test_bt, y_test_bt = test_loader[ind]\n",
    "\n",
    "            test_preds = model(X_test_bt.to(device))\n",
    "\n",
    "            answer += list(test_preds.cpu().detach().numpy())\n",
    "            y += list(y_test_bt.cpu().detach().numpy())\n",
    "\n",
    "    return metric(np.array(y).reshape(-1), np.array(answer).reshape(-1))"
   ]
  },
  {
   "cell_type": "code",
   "execution_count": 5,
   "metadata": {
    "collapsed": false
   },
   "outputs": [],
   "source": [
    "def get_wapes(path):\n",
    "    if \"best_model.pt\" in os.listdir(\".\"):\n",
    "        os.remove(\"best_model.pt\")\n",
    "\n",
    "    result_dict = dict()\n",
    "\n",
    "    entries = os.listdir(path)\n",
    "    entries.remove(\".DS_Store\")\n",
    "\n",
    "    pbar = tqdm(entries, total= len(entries), desc= \"Company\")\n",
    "    for file in entries:\n",
    "        pbar.set_description(f\"{file[:-14]}\")\n",
    "        df = pd.read_csv(path + file if path[-1] == r\"/\" else path + r\"/\" + file).dropna()\n",
    "        data = df.drop([\"Date\", \"Volume\"], axis= 1)\n",
    "        series = data.to_numpy()\n",
    "\n",
    "        scaler = StandardScaler()\n",
    "        scaler.fit(series)\n",
    "        series = scaler.transform(series)\n",
    "\n",
    "        X_train, X_test = train_test_split(series, test_size= 0.1, shuffle= False)\n",
    "        X_train, X_val = train_test_split(X_train, test_size= 0.2, shuffle= False)\n",
    "\n",
    "        window_size = 10\n",
    "        feature_number = X_train.shape[1]\n",
    "\n",
    "        train_dataset = TimeSeriesDataSet(X_train, window_size)\n",
    "        val_dataset = TimeSeriesDataSet(X_val, window_size)\n",
    "        test_dataset = TimeSeriesDataSet(X_test, window_size)\n",
    "\n",
    "        first = [window_size, feature_number]\n",
    "        second = [feature_number, 4, feature_number]\n",
    "\n",
    "        net_struct = [first, second]\n",
    "\n",
    "        model = LN_VAR(*net_struct)\n",
    "        criterion = nn.MSELoss()\n",
    "        optimizer = optim.AdamW(model.parameters(), lr= 3e-4, amsgrad= True)#LBFGS(model.parameters(), history_size= 25)#\n",
    "        metrics = wape\n",
    "        device = \"cuda\" if torch.cuda.is_available() else \"cpu\"\n",
    "        epochs = 150\n",
    "\n",
    "        train_params = {\n",
    "            \"model\": model,\n",
    "            \"criterion\": criterion,\n",
    "            \"optimizer\": optimizer,\n",
    "            \"epochs\": epochs,\n",
    "            \"train_data\": {\n",
    "                \"train\": train_dataset,\n",
    "                \"val\": val_dataset\n",
    "            },\n",
    "            \"device\": device\n",
    "        }\n",
    "        train(**train_params)\n",
    "\n",
    "        model = LN_VAR(*net_struct)\n",
    "        model.load_state_dict(torch.load(\"best_model.pt\"))\n",
    "\n",
    "        result_wape = eval(model, test_dataset, metrics, device)\n",
    "        result_dict[file[:-14]] = result_wape\n",
    "\n",
    "        print(f\"{file[:-14]}: Test: {result_wape:.5f}\")\n",
    "        os.remove(\"best_model.pt\")\n",
    "\n",
    "    return result_dict"
   ]
  },
  {
   "cell_type": "code",
   "execution_count": 6,
   "metadata": {
    "collapsed": false
   },
   "outputs": [],
   "source": [
    "us_prices = {\n",
    "    \"path\": \"../Data/American Companies/\",\n",
    "}\n",
    "us_returns = {\n",
    "    \"path\": \"../Data/American Companies/\",\n",
    "}"
   ]
  },
  {
   "cell_type": "code",
   "execution_count": null,
   "metadata": {
    "collapsed": false,
    "pycharm": {
     "is_executing": true
    }
   },
   "outputs": [
    {
     "data": {
      "application/vnd.jupyter.widget-view+json": {
       "model_id": "76228dff5edd4e01badc4facd3fc476b",
       "version_major": 2,
       "version_minor": 0
      },
      "text/plain": [
       "Company:   0%|          | 0/15 [00:00<?, ?it/s]"
      ]
     },
     "metadata": {},
     "output_type": "display_data"
    },
    {
     "data": {
      "application/vnd.jupyter.widget-view+json": {
       "model_id": "ba1941fc06d04b8db82e52b17b0f4f2d",
       "version_major": 2,
       "version_minor": 0
      },
      "text/plain": [
       "Epoch:   0%|          | 0/150 [00:00<?, ?it/s]"
      ]
     },
     "metadata": {},
     "output_type": "display_data"
    }
   ],
   "source": [
    "result_us_prices = get_wapes(**us_prices)"
   ]
  },
  {
   "cell_type": "code",
   "execution_count": null,
   "metadata": {
    "collapsed": false
   },
   "outputs": [],
   "source": []
  },
  {
   "cell_type": "code",
   "execution_count": null,
   "metadata": {
    "collapsed": false
   },
   "outputs": [],
   "source": []
  },
  {
   "cell_type": "code",
   "execution_count": null,
   "metadata": {
    "collapsed": false
   },
   "outputs": [],
   "source": []
  },
  {
   "cell_type": "code",
   "execution_count": null,
   "metadata": {
    "collapsed": false
   },
   "outputs": [],
   "source": []
  },
  {
   "cell_type": "code",
   "execution_count": null,
   "metadata": {
    "collapsed": false
   },
   "outputs": [],
   "source": [
    "result_us_returns = get_wapes(**us_returns)"
   ]
  },
  {
   "cell_type": "code",
   "execution_count": null,
   "metadata": {
    "collapsed": false
   },
   "outputs": [],
   "source": [
    "\n",
    "us_result_df = pd.DataFrame({\n",
    "    \"Company\": result_us_prices.keys(),\n",
    "    \"WAPE (price)\": result_us_prices.values(),\n",
    "    \"WAPE (return)\": result_us_returns.values()\n",
    "})\n",
    "\n",
    "us_result_df.to_csv(\"ln_var_us.csv\", index= False)"
   ]
  },
  {
   "cell_type": "code",
   "execution_count": null,
   "metadata": {
    "collapsed": false
   },
   "outputs": [],
   "source": [
    "# ch_prices = {\n",
    "#     \"path\": \"../Data/Chinese Companies/\",\n",
    "#     \"use_denoising\": False,\n",
    "#     \"prices_not_returns\": True\n",
    "# }\n",
    "# ch_returns = {\n",
    "#     \"path\": \"../Data/Chinese Companies/\",\n",
    "#     \"use_denoising\": False,\n",
    "#     \"prices_not_returns\": False\n",
    "# }\n",
    "#\n",
    "# result_ch_prices = get_wapes(**ch_prices)\n",
    "# result_ch_returns = get_wapes(**ch_returns)\n",
    "#\n",
    "# ch_result_df = pd.DataFrame({\n",
    "#     \"Company\": result_ch_prices.keys(),\n",
    "#     \"WAPE (price)\": result_ch_prices.values(),\n",
    "#     \"WAPE (return)\": result_ch_returns.values()\n",
    "# })\n",
    "#\n",
    "# ch_result_df.to_csv(\"wn_ch.csv\", index= False)"
   ]
  },
  {
   "cell_type": "markdown",
   "metadata": {
    "collapsed": false
   },
   "source": [
    "# MSSA + WN"
   ]
  },
  {
   "cell_type": "code",
   "execution_count": null,
   "metadata": {
    "collapsed": false
   },
   "outputs": [],
   "source": [
    "# us_prices = {\n",
    "#     \"path\": \"../Data/American Companies/\",\n",
    "#     \"use_denoising\": True,\n",
    "#     \"prices_not_returns\": True\n",
    "# }\n",
    "# us_returns = {\n",
    "#     \"path\": \"../Data/American Companies/\",\n",
    "#     \"use_denoising\": True,\n",
    "#     \"prices_not_returns\": False\n",
    "# }\n",
    "#\n",
    "# result_us_prices = get_wapes(**us_prices)\n",
    "# result_us_returns = get_wapes(**us_returns)\n",
    "#\n",
    "# us_result_df = pd.DataFrame({\n",
    "#     \"Company\": result_us_prices.keys(),\n",
    "#     \"WAPE (price)\": result_us_prices.values(),\n",
    "#     \"WAPE (return)\": result_us_returns.values()\n",
    "# })\n",
    "#\n",
    "# us_result_df.to_csv(\"mssa_wn_us.csv\", index=False)"
   ]
  },
  {
   "cell_type": "code",
   "execution_count": null,
   "metadata": {
    "collapsed": false
   },
   "outputs": [],
   "source": [
    "# ch_prices = {\n",
    "#     \"path\": \"../Data/Chinese Companies/\",\n",
    "#     \"use_denoising\": True,\n",
    "#     \"prices_not_returns\": True\n",
    "# }\n",
    "# ch_returns = {\n",
    "#     \"path\": \"../Data/Chinese Companies/\",\n",
    "#     \"use_denoising\": True,\n",
    "#     \"prices_not_returns\": False\n",
    "# }\n",
    "#\n",
    "# result_ch_prices = get_wapes(**ch_prices)\n",
    "# result_ch_returns = get_wapes(**ch_returns)\n",
    "#\n",
    "# ch_result_df = pd.DataFrame({\n",
    "#     \"Company\": result_ch_prices.keys(),\n",
    "#     \"WAPE (price)\": result_ch_prices.values(),\n",
    "#     \"WAPE (return)\": result_ch_returns.values()\n",
    "# })\n",
    "#\n",
    "# ch_result_df.to_csv(\"mssa_wn_ch.csv\", index=False)"
   ]
  },
  {
   "cell_type": "code",
   "execution_count": null,
   "metadata": {
    "collapsed": false
   },
   "outputs": [],
   "source": []
  }
 ],
 "metadata": {
  "kernelspec": {
   "display_name": "Python 3.10 (XPython)",
   "language": "python",
   "name": "xpython"
  },
  "language_info": {
   "codemirror_mode": {
    "name": "ipython",
    "version": 2
   },
   "file_extension": ".py",
   "mimetype": "text/x-python",
   "name": "python",
   "nbconvert_exporter": "python",
   "pygments_lexer": "ipython2",
   "version": "2.7.6"
  }
 },
 "nbformat": 4,
 "nbformat_minor": 0
}
